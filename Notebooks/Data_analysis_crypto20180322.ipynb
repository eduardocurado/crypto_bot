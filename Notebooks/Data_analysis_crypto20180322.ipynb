{
 "cells": [
  {
   "cell_type": "code",
   "execution_count": 2,
   "metadata": {
    "collapsed": true,
    "nbpresent": {
     "id": "22666bca-72d0-4dbd-8a0b-ae44ce05cfcb"
    }
   },
   "outputs": [],
   "source": [
    "import numpy as np \n",
    "import pandas as pd \n",
    "import seaborn as sns \n",
    "import matplotlib.pyplot as plt \n",
    "import matplotlib.dates as mdates\n",
    "plt.style.use('ggplot') \n",
    "import calendar\n",
    "import quandl\n",
    "import pickle\n",
    "import math\n",
    "from datetime import datetime, timedelta\n",
    "import re  \n",
    "import psycopg2\n",
    "import sys\n",
    "import sqlalchemy\n",
    "from sqlalchemy.sql import select, and_, or_, not_, desc, asc\n",
    "from sqlalchemy import Table, Column, Integer, DateTime, String,Float, ForeignKey\n",
    "from sqlalchemy.orm import sessionmaker"
   ]
  },
  {
   "cell_type": "code",
   "execution_count": 3,
   "metadata": {
    "collapsed": true,
    "nbpresent": {
     "id": "a0639da2-5383-435a-b7cf-ff969fbbce46"
    }
   },
   "outputs": [],
   "source": [
    "# fig_size = plt.rcParams[\"figure.figsize\"]\n",
    "# fig_size[0] = 10\n",
    "# fig_size[1] = 10\n",
    "# plt.rcParams[\"figure.figsize\"] = fig_size"
   ]
  },
  {
   "cell_type": "code",
   "execution_count": 4,
   "metadata": {
    "collapsed": true,
    "nbpresent": {
     "id": "ca01e3fc-afd9-4109-b059-285cde48db1e"
    }
   },
   "outputs": [],
   "source": [
    "def connect(user, password, db, host='localhost', port=5432):\n",
    "    '''Returns a connection and a metadata object'''\n",
    "    # We connect with the help of the PostgreSQL URL\n",
    "    url = 'postgresql+psycopg2://{}:{}@{}:{}/{}'\n",
    "    url = url.format(user, password, host, port, db)\n",
    "\n",
    "    # The return value of create_engine() is our connection object\n",
    "    con = sqlalchemy.create_engine(url, client_encoding='utf8')\n",
    "\n",
    "    # We then bind the connection to MetaData()\n",
    "    meta = sqlalchemy.MetaData(bind=con)\n",
    "\n",
    "    return con, meta"
   ]
  },
  {
   "cell_type": "markdown",
   "metadata": {
    "nbpresent": {
     "id": "cfc1da92-5152-4cbe-83dc-06f086a99735"
    }
   },
   "source": [
    "CREATE TABLES "
   ]
  },
  {
   "cell_type": "code",
   "execution_count": 5,
   "metadata": {
    "collapsed": true,
    "nbpresent": {
     "id": "c3b31811-accd-4e26-b82d-04e60343335f"
    }
   },
   "outputs": [],
   "source": [
    "con, meta = connect('postgres', '', 'robotdb')\n",
    "    \n",
    "tickers = Table('Ticker', meta,\n",
    "    Column('date', DateTime, primary_key = True),\n",
    "    Column('coin', String, primary_key = True),\n",
    "    Column('price', Float),\n",
    "    Column('volume', Float),\n",
    "    Column('screen', String, primary_key = True)    \n",
    ")\n",
    "\n",
    "macd = Table('Macd', meta,\n",
    "    Column('date', DateTime, primary_key = True),\n",
    "    Column('coin', String, primary_key = True),\n",
    "    Column('ema12', Float),\n",
    "    Column('ema_26', Float),\n",
    "    Column('macd_line', Float),\n",
    "    Column('signal_line', Float),\n",
    "    Column('histogram', Float),\n",
    "    Column('screen', Integer, primary_key=True)\n",
    ")\n",
    "\n",
    "ema = Table('Ema', meta,\n",
    "                Column('date', DateTime, primary_key=True),\n",
    "                Column('coin', String, primary_key=True),\n",
    "                Column('ema5', Float),\n",
    "                Column('ema20', Float),\n",
    "                Column('ema5_theta', Float),\n",
    "                Column('ema20_theta', Float),\n",
    "                Column('screen', Integer, primary_key=True)\n",
    "                )\n",
    "\n",
    "mkt_trend = Table('Market_trend', meta,\n",
    "                  Column('coin', String, primary_key=True),\n",
    "                  Column('date', DateTime, primary_key=True),\n",
    "                  Column('screen', Integer, primary_key=True),\n",
    "                  Column('dif_current', Float),\n",
    "                  Column('dif_base', Float),\n",
    "                  Column('d_dif', Float),\n",
    "                  Column('theta_current', Float),\n",
    "                  Column('theta_base', Float),\n",
    "                  Column('d_theta', Float),\n",
    "                  Column('max_growth', Float),\n",
    "                  Column('max_loss', Float),\n",
    "                  Column('max_price', Float),\n",
    "                  Column('min_price', Float),\n",
    "                  Column('vote', Integer)\n",
    "                  )\n",
    "\n",
    "\n",
    "rsi = Table('Rsi', meta,\n",
    "    Column('date', DateTime, primary_key = True),\n",
    "    Column('coin', String, primary_key = True),\n",
    "    Column('rsi', Float),\n",
    "    Column('screen', Integer, primary_key=True)\n",
    ")\n",
    "\n",
    "sma = Table('Sma', meta,\n",
    "                Column('date', DateTime, primary_key=True),\n",
    "                Column('coin', String, primary_key=True),\n",
    "                Column('sma5', Float),\n",
    "                Column('sma20', Float),\n",
    "                Column('sma5_theta', Float),\n",
    "                Column('sma20_theta', Float),\n",
    "                Column('screen', Integer, primary_key=True)\n",
    "                )\n",
    "\n",
    "years = mdates.YearLocator()   # every year\n",
    "months = mdates.MonthLocator()  # every month\n",
    "yearsFmt = mdates.DateFormatter('%Y')"
   ]
  },
  {
   "cell_type": "code",
   "execution_count": 6,
   "metadata": {
    "collapsed": true,
    "nbpresent": {
     "id": "8b5ada16-9c1a-403b-9ccb-01c08535beda"
    }
   },
   "outputs": [],
   "source": [
    "def get_macds(coin = None, date = '2019-12-31', screen = 1):\n",
    "    if coin:\n",
    "        s = select([macd])\\\n",
    "            .where(and_(macd.c.coin == coin, macd.c.date <= date, macd.c.screen==screen))\\\n",
    "            .order_by(desc(macd.c.date))\n",
    "    else:\n",
    "         s = select([macd])\\\n",
    "            .where(and_(macd.c.date <= date, macd.c.screen==screen))\\\n",
    "            .order_by(desc(macd.c.date))\n",
    "            \n",
    "    rows = con.execute(s)\n",
    "    macd_df = pd.DataFrame(rows.fetchall()).iloc[::-1]\n",
    "    if not macd_df.empty:\n",
    "        macd_df.columns = rows.keys()\n",
    "    return macd_df\n",
    "\n",
    "def get_tickers(coin = None, date = '2019-12-31', screen = 1):\n",
    "    if coin:\n",
    "        s = select([tickers])\\\n",
    "            .where(and_(tickers.c.coin == coin, tickers.c.date <= date, tickers.c.screen == screen))\\\n",
    "            .order_by(\n",
    "            desc(tickers.c.date))\n",
    "    else:\n",
    "        s = select([tickers])\\\n",
    "            .where(and_(tickers.c.date <= date, tickers.c.screen == screen))\\\n",
    "            .order_by(\n",
    "            desc(tickers.c.date))\n",
    "    rows = con.execute(s)\n",
    "    tickers_df = pd.DataFrame(rows.fetchall()).iloc[::-1]\n",
    "    if not tickers_df.empty:\n",
    "        tickers_df.columns = rows.keys()\n",
    "    return tickers_df\n",
    "\n",
    "def get_emas(coin=None, date='2019-12-31', screen=1):\n",
    "    if coin:\n",
    "        s = select([ema])\\\n",
    "            .where(and_(ema.c.coin == coin, ema.c.date <= date, ema.c.screen == screen))\\\n",
    "            .order_by(ema.c.date.desc())\n",
    "    else:\n",
    "        s = select([ema])\\\n",
    "            .where(and_(ema.c.date <= date, ema.c.screen == screen))\\\n",
    "            .order_by(ema.c.date.desc())\n",
    "    rows = con.execute(s)\n",
    "    ema_df = pd.DataFrame(rows.fetchall()).iloc[::-1]\n",
    "    if not ema_df.empty:\n",
    "        ema_df.columns = rows.keys()\n",
    "    return ema_df\n",
    "\n",
    "def get_mkt_trend(coin=None, date='2019-12-31', screen=1):\n",
    "    if coin:\n",
    "        s = select([mkt_trend]).\\\n",
    "            where(and_(mkt_trend.c.coin == coin, mkt_trend.c.date <= date, mkt_trend.c.screen == screen)).\\\n",
    "            order_by(desc(mkt_trend.c.date))\n",
    "    else:\n",
    "        s = select([mkt_trend]).\\\n",
    "            where(and_(mkt_trend.c.date <= date, mkt_trend.c.screen == screen)).\\\n",
    "            order_by(desc(mkt_trend.c.date))\n",
    "    rows = con.execute(s)\n",
    "    mkt_trend_df = pd.DataFrame(rows.fetchall()).iloc[::-1]\n",
    "    mkt_trend_df.columns = rows.keys()\n",
    "    return mkt_trend_df\n",
    "\n",
    "def get_rsis(coin=None, date='2019-12-31', screen=1):\n",
    "    if coin:\n",
    "        s = select([rsi]) \\\n",
    "            .where(and_(rsi.c.coin == coin,\n",
    "                        rsi.c.date <= date,\n",
    "                       rsi.c.screen == screen))\\\n",
    "            .order_by(desc(rsi.c.date))\n",
    "    else:\n",
    "        s = select([rsi]) \\\n",
    "            .where(and_(rsi.c.date <= date,\n",
    "                        rsi.c.screen == screen\n",
    "                       ))\\\n",
    "            .order_by(desc(rsi.c.date))\n",
    "    rows = con.execute(s)\n",
    "    rsi_df = pd.DataFrame(rows.fetchall()).iloc[::-1]\n",
    "    if not rsi_df.empty:\n",
    "        rsi_df.columns = rows.keys()\n",
    "    return rsi_df\n",
    "\n",
    "def get_smas(coin=None, date='2019-12-31', screen=1):\n",
    "    if coin:\n",
    "        s = select([sma]) \\\n",
    "            .where(and_(sma.c.coin == coin,\n",
    "                        sma.c.date <= date,\n",
    "                       sma.c.screen == screen))\\\n",
    "            .order_by(desc(sma.c.date))\n",
    "    else:\n",
    "        s = select([sma]) \\\n",
    "            .where(and_(sma.c.date <= date,\n",
    "                        sma.c.screen == screen\n",
    "                       ))\\\n",
    "            .order_by(desc(sma.c.date))\n",
    "    rows = con.execute(s)\n",
    "    sma_df = pd.DataFrame(rows.fetchall()).iloc[::-1]\n",
    "    if not sma_df.empty:\n",
    "        sma_df.columns = rows.keys()\n",
    "    return sma_df"
   ]
  },
  {
   "cell_type": "code",
   "execution_count": 7,
   "metadata": {
    "collapsed": true
   },
   "outputs": [],
   "source": [
    "def get_strength_index():\n",
    "    tickers_df_two = get_tickers()\n",
    "    for c in tickers_df_two.coin.unique():\n",
    "        tickers_df_two_c = tickers_df_two[tickers_df_two['coin'] == c]\n",
    "        print(c)\n",
    "        # 6 * 4h = 24h\n",
    "        delta_t = 1\n",
    "        si_np = [np.nan]\n",
    "        for index in range(len(tickers_df_two_c)):\n",
    "            base_price = tickers_df_two_c.iloc[index].price\n",
    "            if index >= (len(tickers_df_two_c)-delta_t):\n",
    "                break\n",
    "            current_price = tickers_df_two_c.iloc[index+1].price\n",
    "            volume = tickers_df_two_c.iloc[index+1].volume\n",
    "            si = (current_price - base_price) * volume\n",
    "            si_np.append(si)\n",
    "        tickers_df_two_c['strength'] = si_np\n",
    "    return tickers_df_two_c.dropna().drop(['price', 'volume', 'screen'], axis=1)"
   ]
  },
  {
   "cell_type": "code",
   "execution_count": 8,
   "metadata": {
    "collapsed": true
   },
   "outputs": [],
   "source": [
    "def show_result(Y_test, Y_predict):\n",
    "    FP, TP, thresholds = roc_curve(Y_test,Y_predict)\n",
    "    roc_auc = auc(FP, TP)\n",
    "    print ('ROC_AUC %s' % float(roc_auc))\n",
    "    cm = confusion_matrix(Y_test,Y_predict)\n",
    "    print('Confusion Matrix')\n",
    "    print(cm)\n",
    "    print('precision %s' % str(round((cm[1,1]/(cm[1,1]+cm[0,1])), 2)*100))\n",
    "    plt.hist(Y_predict, bins=2)\n",
    "    print('Unbalanced Dataset %s' % str(np.sum(Y_predict)/len(Y_predict)))\n",
    "    plt.show()"
   ]
  },
  {
   "cell_type": "markdown",
   "metadata": {},
   "source": [
    "FETCH DATA FROM DATABASE AND JOIN TABLES \n",
    "MKTTREND - PRICE - MACDS - RSI - SMA"
   ]
  },
  {
   "cell_type": "code",
   "execution_count": 9,
   "metadata": {
    "nbpresent": {
     "id": "107dfb91-c426-4580-89e0-f3f92403f2f1"
    },
    "scrolled": false
   },
   "outputs": [
    {
     "data": {
      "text/html": [
       "<div>\n",
       "<style>\n",
       "    .dataframe thead tr:only-child th {\n",
       "        text-align: right;\n",
       "    }\n",
       "\n",
       "    .dataframe thead th {\n",
       "        text-align: left;\n",
       "    }\n",
       "\n",
       "    .dataframe tbody tr th {\n",
       "        vertical-align: top;\n",
       "    }\n",
       "</style>\n",
       "<table border=\"1\" class=\"dataframe\">\n",
       "  <thead>\n",
       "    <tr style=\"text-align: right;\">\n",
       "      <th></th>\n",
       "      <th>coin</th>\n",
       "      <th>date</th>\n",
       "      <th>screen</th>\n",
       "      <th>dif_current</th>\n",
       "      <th>dif_base</th>\n",
       "      <th>d_dif</th>\n",
       "      <th>theta_current</th>\n",
       "      <th>theta_base</th>\n",
       "      <th>d_theta</th>\n",
       "      <th>max_growth</th>\n",
       "      <th>...</th>\n",
       "      <th>ema_26</th>\n",
       "      <th>macd_line</th>\n",
       "      <th>signal_line</th>\n",
       "      <th>histogram</th>\n",
       "      <th>ema_dif</th>\n",
       "      <th>rsi</th>\n",
       "      <th>sma5</th>\n",
       "      <th>sma20</th>\n",
       "      <th>sma5_theta</th>\n",
       "      <th>sma20_theta</th>\n",
       "    </tr>\n",
       "  </thead>\n",
       "  <tbody>\n",
       "    <tr>\n",
       "      <th>0</th>\n",
       "      <td>USDT_BTC</td>\n",
       "      <td>2017-05-26 12:30:00</td>\n",
       "      <td>1</td>\n",
       "      <td>37.281728</td>\n",
       "      <td>50.050379</td>\n",
       "      <td>-0.255116</td>\n",
       "      <td>-1.253658</td>\n",
       "      <td>-1.235941</td>\n",
       "      <td>0.014335</td>\n",
       "      <td>0.033015</td>\n",
       "      <td>...</td>\n",
       "      <td>2333.853745</td>\n",
       "      <td>37.281728</td>\n",
       "      <td>69.076431</td>\n",
       "      <td>-31.794703</td>\n",
       "      <td>-0.033072</td>\n",
       "      <td>36.207856</td>\n",
       "      <td>2322.60</td>\n",
       "      <td>2336.206581</td>\n",
       "      <td>-87.982038</td>\n",
       "      <td>None</td>\n",
       "    </tr>\n",
       "    <tr>\n",
       "      <th>1</th>\n",
       "      <td>USDT_BTC</td>\n",
       "      <td>2017-05-26 16:30:00</td>\n",
       "      <td>1</td>\n",
       "      <td>-7.947962</td>\n",
       "      <td>37.281728</td>\n",
       "      <td>-1.213187</td>\n",
       "      <td>-1.250350</td>\n",
       "      <td>-1.238920</td>\n",
       "      <td>0.009226</td>\n",
       "      <td>0.118181</td>\n",
       "      <td>...</td>\n",
       "      <td>2303.708384</td>\n",
       "      <td>-7.947962</td>\n",
       "      <td>61.235443</td>\n",
       "      <td>-69.183406</td>\n",
       "      <td>-0.161697</td>\n",
       "      <td>32.157387</td>\n",
       "      <td>2273.20</td>\n",
       "      <td>2326.256581</td>\n",
       "      <td>-88.061316</td>\n",
       "      <td>None</td>\n",
       "    </tr>\n",
       "    <tr>\n",
       "      <th>2</th>\n",
       "      <td>USDT_BTC</td>\n",
       "      <td>2017-05-26 20:30:00</td>\n",
       "      <td>1</td>\n",
       "      <td>-23.295973</td>\n",
       "      <td>-7.947962</td>\n",
       "      <td>1.931062</td>\n",
       "      <td>-1.240125</td>\n",
       "      <td>-1.231704</td>\n",
       "      <td>0.006837</td>\n",
       "      <td>0.015202</td>\n",
       "      <td>...</td>\n",
       "      <td>2292.920375</td>\n",
       "      <td>-23.295973</td>\n",
       "      <td>44.218569</td>\n",
       "      <td>-67.514542</td>\n",
       "      <td>-0.049090</td>\n",
       "      <td>38.994601</td>\n",
       "      <td>2237.98</td>\n",
       "      <td>2323.701581</td>\n",
       "      <td>-88.133619</td>\n",
       "      <td>None</td>\n",
       "    </tr>\n",
       "    <tr>\n",
       "      <th>3</th>\n",
       "      <td>USDT_BTC</td>\n",
       "      <td>2017-05-27 00:30:00</td>\n",
       "      <td>1</td>\n",
       "      <td>-48.076694</td>\n",
       "      <td>-23.295973</td>\n",
       "      <td>1.063734</td>\n",
       "      <td>-1.227758</td>\n",
       "      <td>-1.223206</td>\n",
       "      <td>0.003721</td>\n",
       "      <td>0.029142</td>\n",
       "      <td>...</td>\n",
       "      <td>2271.366103</td>\n",
       "      <td>-48.076694</td>\n",
       "      <td>26.667137</td>\n",
       "      <td>-74.743831</td>\n",
       "      <td>-0.091445</td>\n",
       "      <td>38.913037</td>\n",
       "      <td>2178.78</td>\n",
       "      <td>2314.151581</td>\n",
       "      <td>-88.281161</td>\n",
       "      <td>None</td>\n",
       "    </tr>\n",
       "    <tr>\n",
       "      <th>4</th>\n",
       "      <td>USDT_BTC</td>\n",
       "      <td>2017-05-27 04:30:00</td>\n",
       "      <td>1</td>\n",
       "      <td>-80.453673</td>\n",
       "      <td>-48.076694</td>\n",
       "      <td>0.673444</td>\n",
       "      <td>-1.212126</td>\n",
       "      <td>-1.212147</td>\n",
       "      <td>-0.000017</td>\n",
       "      <td>0.098647</td>\n",
       "      <td>...</td>\n",
       "      <td>2243.563873</td>\n",
       "      <td>-80.453673</td>\n",
       "      <td>6.592221</td>\n",
       "      <td>-87.045894</td>\n",
       "      <td>-0.119222</td>\n",
       "      <td>37.186650</td>\n",
       "      <td>2071.38</td>\n",
       "      <td>2298.156581</td>\n",
       "      <td>-88.846952</td>\n",
       "      <td>None</td>\n",
       "    </tr>\n",
       "  </tbody>\n",
       "</table>\n",
       "<p>5 rows × 27 columns</p>\n",
       "</div>"
      ],
      "text/plain": [
       "       coin                date  screen  dif_current   dif_base     d_dif  \\\n",
       "0  USDT_BTC 2017-05-26 12:30:00       1    37.281728  50.050379 -0.255116   \n",
       "1  USDT_BTC 2017-05-26 16:30:00       1    -7.947962  37.281728 -1.213187   \n",
       "2  USDT_BTC 2017-05-26 20:30:00       1   -23.295973  -7.947962  1.931062   \n",
       "3  USDT_BTC 2017-05-27 00:30:00       1   -48.076694 -23.295973  1.063734   \n",
       "4  USDT_BTC 2017-05-27 04:30:00       1   -80.453673 -48.076694  0.673444   \n",
       "\n",
       "   theta_current  theta_base   d_theta  max_growth     ...            ema_26  \\\n",
       "0      -1.253658   -1.235941  0.014335    0.033015     ...       2333.853745   \n",
       "1      -1.250350   -1.238920  0.009226    0.118181     ...       2303.708384   \n",
       "2      -1.240125   -1.231704  0.006837    0.015202     ...       2292.920375   \n",
       "3      -1.227758   -1.223206  0.003721    0.029142     ...       2271.366103   \n",
       "4      -1.212126   -1.212147 -0.000017    0.098647     ...       2243.563873   \n",
       "\n",
       "   macd_line  signal_line  histogram   ema_dif        rsi     sma5  \\\n",
       "0  37.281728    69.076431 -31.794703 -0.033072  36.207856  2322.60   \n",
       "1  -7.947962    61.235443 -69.183406 -0.161697  32.157387  2273.20   \n",
       "2 -23.295973    44.218569 -67.514542 -0.049090  38.994601  2237.98   \n",
       "3 -48.076694    26.667137 -74.743831 -0.091445  38.913037  2178.78   \n",
       "4 -80.453673     6.592221 -87.045894 -0.119222  37.186650  2071.38   \n",
       "\n",
       "         sma20  sma5_theta  sma20_theta  \n",
       "0  2336.206581  -87.982038         None  \n",
       "1  2326.256581  -88.061316         None  \n",
       "2  2323.701581  -88.133619         None  \n",
       "3  2314.151581  -88.281161         None  \n",
       "4  2298.156581  -88.846952         None  \n",
       "\n",
       "[5 rows x 27 columns]"
      ]
     },
     "execution_count": 9,
     "metadata": {},
     "output_type": "execute_result"
    }
   ],
   "source": [
    "def manipulate_mkt_data():\n",
    "    #Market Trend\n",
    "    mkt_trend_df = get_mkt_trend()\n",
    "    #Prices\n",
    "    tickers_df_two = get_tickers()\n",
    "    #MACD\n",
    "    macds_df = get_macds()\n",
    "    \n",
    "    #Merge prices and macds\n",
    "    tickers_df = pd.merge(tickers_df_two, macds_df, how='inner', left_on=['date', 'coin', 'screen'],\n",
    "                          right_on=['date', 'coin', 'screen'])\n",
    "    #Calculate relationship between Price and EMA\n",
    "    tickers_df['ema_dif'] = np.log(tickers_df['price']/tickers_df['ema12'])\n",
    "    #Merge Prices and MKT TREND\n",
    "    df = pd.merge(mkt_trend_df, tickers_df, how='inner', left_on=['date', 'coin', 'screen'],\n",
    "                  right_on=['date', 'coin', 'screen'])\n",
    "    #RSI\n",
    "    rsis_df = get_rsis()\n",
    "    df = pd.merge(df, rsis_df, how='inner', left_on=['date', 'coin', 'screen'],\n",
    "                  right_on=['date', 'coin', 'screen'])\n",
    "    #SMA\n",
    "    sma_df = get_smas()\n",
    "    df = pd.merge(df, sma_df, how='inner', left_on=['date', 'coin', 'screen'],\n",
    "                  right_on=['date', 'coin', 'screen'])\n",
    "    \n",
    "    return df\n",
    "    \n",
    "df = manipulate_mkt_data()\n",
    "df.head()"
   ]
  },
  {
   "cell_type": "markdown",
   "metadata": {},
   "source": [
    "CALCULATE LAGS FOR DIF_CURRENT AND THETA CURRENT"
   ]
  },
  {
   "cell_type": "code",
   "execution_count": 10,
   "metadata": {
    "collapsed": true,
    "scrolled": false
   },
   "outputs": [],
   "source": [
    "full_data_set = df.drop(['sma20_theta', 'screen'], axis=1)\n",
    "dates_ = full_data_set[['date']]\n",
    "shifted_parms = full_data_set[['coin', 'dif_current', 'theta_current']].shift(2)\n",
    "shifted_parms['date'] = dates_\n",
    "full_data_set = pd.merge(full_data_set, shifted_parms, how='inner', left_on=['date', 'coin'],\n",
    "                         right_on=['date', 'coin'])\n",
    "full_data_set['dif_current'] = full_data_set['dif_current_x']\n",
    "full_data_set['theta_current'] = full_data_set['theta_current_x']\n",
    "full_data_set['dif_base_p'] = full_data_set['dif_current_y']\n",
    "full_data_set['theta_base_p'] = full_data_set['theta_current_y']\n",
    "full_data_set = full_data_set.drop(['dif_current_x', 'dif_current_y',\n",
    "                                    'theta_current_x', 'theta_current_y'], axis=1)\n",
    "full_data_set['dif_sma'] = full_data_set['sma5'] - full_data_set['sma20']"
   ]
  },
  {
   "cell_type": "markdown",
   "metadata": {},
   "source": [
    "FULL DATA SET JOIN STRENGTH INDEX"
   ]
  },
  {
   "cell_type": "code",
   "execution_count": 11,
   "metadata": {},
   "outputs": [
    {
     "name": "stdout",
     "output_type": "stream",
     "text": [
      "USDT_BTC\n"
     ]
    },
    {
     "data": {
      "text/plain": [
       "Index(['coin', 'date', 'dif_base', 'd_dif', 'theta_base', 'd_theta',\n",
       "       'max_growth', 'max_loss', 'max_price', 'min_price', 'vote', 'price',\n",
       "       'volume', 'ema12', 'ema_26', 'macd_line', 'signal_line', 'histogram',\n",
       "       'ema_dif', 'rsi', 'sma5', 'sma20', 'sma5_theta', 'dif_current',\n",
       "       'theta_current', 'dif_base_p', 'theta_base_p', 'dif_sma', 'strength'],\n",
       "      dtype='object')"
      ]
     },
     "execution_count": 11,
     "metadata": {},
     "output_type": "execute_result"
    }
   ],
   "source": [
    "df_model = pd.merge(full_data_set, get_strength_index(), how='inner',\n",
    "                    left_on=['date', 'coin'], right_on=['date', 'coin'])\n",
    "df_model.columns\n",
    "# df_model['strength'] = StandardScaler().fit_transform(df_model['strength'].values.reshape(-1,1))\n",
    "# df_model['rsi'] = StandardScaler().fit_transform(df_model['rsi'].values.reshape(-1,1))"
   ]
  },
  {
   "cell_type": "code",
   "execution_count": 12,
   "metadata": {},
   "outputs": [
    {
     "data": {
      "text/html": [
       "<div>\n",
       "<style>\n",
       "    .dataframe thead tr:only-child th {\n",
       "        text-align: right;\n",
       "    }\n",
       "\n",
       "    .dataframe thead th {\n",
       "        text-align: left;\n",
       "    }\n",
       "\n",
       "    .dataframe tbody tr th {\n",
       "        vertical-align: top;\n",
       "    }\n",
       "</style>\n",
       "<table border=\"1\" class=\"dataframe\">\n",
       "  <thead>\n",
       "    <tr style=\"text-align: right;\">\n",
       "      <th></th>\n",
       "      <th>coin</th>\n",
       "      <th>date</th>\n",
       "      <th>dif_base</th>\n",
       "      <th>d_dif</th>\n",
       "      <th>theta_base</th>\n",
       "      <th>d_theta</th>\n",
       "      <th>max_growth</th>\n",
       "      <th>max_loss</th>\n",
       "      <th>max_price</th>\n",
       "      <th>min_price</th>\n",
       "      <th>...</th>\n",
       "      <th>rsi</th>\n",
       "      <th>sma5</th>\n",
       "      <th>sma20</th>\n",
       "      <th>sma5_theta</th>\n",
       "      <th>dif_current</th>\n",
       "      <th>theta_current</th>\n",
       "      <th>dif_base_p</th>\n",
       "      <th>theta_base_p</th>\n",
       "      <th>dif_sma</th>\n",
       "      <th>strength</th>\n",
       "    </tr>\n",
       "  </thead>\n",
       "  <tbody>\n",
       "    <tr>\n",
       "      <th>0</th>\n",
       "      <td>USDT_BTC</td>\n",
       "      <td>2017-05-26 20:30:00</td>\n",
       "      <td>-7.947962</td>\n",
       "      <td>1.931062</td>\n",
       "      <td>-1.231704</td>\n",
       "      <td>0.006837</td>\n",
       "      <td>0.015202</td>\n",
       "      <td>-0.323278</td>\n",
       "      <td>2480.512576</td>\n",
       "      <td>1953.0</td>\n",
       "      <td>...</td>\n",
       "      <td>38.994601</td>\n",
       "      <td>2237.98</td>\n",
       "      <td>2323.701581</td>\n",
       "      <td>-88.133619</td>\n",
       "      <td>-23.295973</td>\n",
       "      <td>-1.240125</td>\n",
       "      <td>37.281728</td>\n",
       "      <td>-1.253658</td>\n",
       "      <td>-85.721581</td>\n",
       "      <td>4.048076e+09</td>\n",
       "    </tr>\n",
       "    <tr>\n",
       "      <th>1</th>\n",
       "      <td>USDT_BTC</td>\n",
       "      <td>2017-05-27 00:30:00</td>\n",
       "      <td>-23.295973</td>\n",
       "      <td>1.063734</td>\n",
       "      <td>-1.223206</td>\n",
       "      <td>0.003721</td>\n",
       "      <td>0.029142</td>\n",
       "      <td>-0.260296</td>\n",
       "      <td>2480.512576</td>\n",
       "      <td>1953.0</td>\n",
       "      <td>...</td>\n",
       "      <td>38.913037</td>\n",
       "      <td>2178.78</td>\n",
       "      <td>2314.151581</td>\n",
       "      <td>-88.281161</td>\n",
       "      <td>-48.076694</td>\n",
       "      <td>-1.227758</td>\n",
       "      <td>-7.947962</td>\n",
       "      <td>-1.250350</td>\n",
       "      <td>-135.371581</td>\n",
       "      <td>-1.143873e+09</td>\n",
       "    </tr>\n",
       "    <tr>\n",
       "      <th>2</th>\n",
       "      <td>USDT_BTC</td>\n",
       "      <td>2017-05-27 04:30:00</td>\n",
       "      <td>-48.076694</td>\n",
       "      <td>0.673444</td>\n",
       "      <td>-1.212147</td>\n",
       "      <td>-0.000017</td>\n",
       "      <td>0.098647</td>\n",
       "      <td>-0.205079</td>\n",
       "      <td>2480.512576</td>\n",
       "      <td>1817.0</td>\n",
       "      <td>...</td>\n",
       "      <td>37.186650</td>\n",
       "      <td>2071.38</td>\n",
       "      <td>2298.156581</td>\n",
       "      <td>-88.846952</td>\n",
       "      <td>-80.453673</td>\n",
       "      <td>-1.212126</td>\n",
       "      <td>-23.295973</td>\n",
       "      <td>-1.240125</td>\n",
       "      <td>-226.776581</td>\n",
       "      <td>-2.390493e+09</td>\n",
       "    </tr>\n",
       "    <tr>\n",
       "      <th>3</th>\n",
       "      <td>USDT_BTC</td>\n",
       "      <td>2017-05-27 08:30:00</td>\n",
       "      <td>-80.453673</td>\n",
       "      <td>0.506053</td>\n",
       "      <td>-1.198794</td>\n",
       "      <td>-0.005097</td>\n",
       "      <td>0.213541</td>\n",
       "      <td>0.000000</td>\n",
       "      <td>2458.040604</td>\n",
       "      <td>1564.0</td>\n",
       "      <td>...</td>\n",
       "      <td>39.851034</td>\n",
       "      <td>1965.78</td>\n",
       "      <td>2271.948761</td>\n",
       "      <td>-89.197186</td>\n",
       "      <td>-121.167530</td>\n",
       "      <td>-1.192684</td>\n",
       "      <td>-48.076694</td>\n",
       "      <td>-1.227758</td>\n",
       "      <td>-306.168761</td>\n",
       "      <td>-3.983082e+09</td>\n",
       "    </tr>\n",
       "    <tr>\n",
       "      <th>4</th>\n",
       "      <td>USDT_BTC</td>\n",
       "      <td>2017-05-27 12:30:00</td>\n",
       "      <td>-121.167530</td>\n",
       "      <td>0.136529</td>\n",
       "      <td>-1.174342</td>\n",
       "      <td>-0.008014</td>\n",
       "      <td>0.125308</td>\n",
       "      <td>-0.028181</td>\n",
       "      <td>2371.000000</td>\n",
       "      <td>1564.0</td>\n",
       "      <td>...</td>\n",
       "      <td>43.237238</td>\n",
       "      <td>1960.96</td>\n",
       "      <td>2254.331061</td>\n",
       "      <td>-89.082583</td>\n",
       "      <td>-137.710377</td>\n",
       "      <td>-1.164931</td>\n",
       "      <td>-80.453673</td>\n",
       "      <td>-1.212126</td>\n",
       "      <td>-293.371061</td>\n",
       "      <td>2.474517e+09</td>\n",
       "    </tr>\n",
       "  </tbody>\n",
       "</table>\n",
       "<p>5 rows × 29 columns</p>\n",
       "</div>"
      ],
      "text/plain": [
       "       coin                date    dif_base     d_dif  theta_base   d_theta  \\\n",
       "0  USDT_BTC 2017-05-26 20:30:00   -7.947962  1.931062   -1.231704  0.006837   \n",
       "1  USDT_BTC 2017-05-27 00:30:00  -23.295973  1.063734   -1.223206  0.003721   \n",
       "2  USDT_BTC 2017-05-27 04:30:00  -48.076694  0.673444   -1.212147 -0.000017   \n",
       "3  USDT_BTC 2017-05-27 08:30:00  -80.453673  0.506053   -1.198794 -0.005097   \n",
       "4  USDT_BTC 2017-05-27 12:30:00 -121.167530  0.136529   -1.174342 -0.008014   \n",
       "\n",
       "   max_growth  max_loss    max_price  min_price      ...             rsi  \\\n",
       "0    0.015202 -0.323278  2480.512576     1953.0      ...       38.994601   \n",
       "1    0.029142 -0.260296  2480.512576     1953.0      ...       38.913037   \n",
       "2    0.098647 -0.205079  2480.512576     1817.0      ...       37.186650   \n",
       "3    0.213541  0.000000  2458.040604     1564.0      ...       39.851034   \n",
       "4    0.125308 -0.028181  2371.000000     1564.0      ...       43.237238   \n",
       "\n",
       "      sma5        sma20  sma5_theta  dif_current  theta_current  dif_base_p  \\\n",
       "0  2237.98  2323.701581  -88.133619   -23.295973      -1.240125   37.281728   \n",
       "1  2178.78  2314.151581  -88.281161   -48.076694      -1.227758   -7.947962   \n",
       "2  2071.38  2298.156581  -88.846952   -80.453673      -1.212126  -23.295973   \n",
       "3  1965.78  2271.948761  -89.197186  -121.167530      -1.192684  -48.076694   \n",
       "4  1960.96  2254.331061  -89.082583  -137.710377      -1.164931  -80.453673   \n",
       "\n",
       "   theta_base_p     dif_sma      strength  \n",
       "0     -1.253658  -85.721581  4.048076e+09  \n",
       "1     -1.250350 -135.371581 -1.143873e+09  \n",
       "2     -1.240125 -226.776581 -2.390493e+09  \n",
       "3     -1.227758 -306.168761 -3.983082e+09  \n",
       "4     -1.212126 -293.371061  2.474517e+09  \n",
       "\n",
       "[5 rows x 29 columns]"
      ]
     },
     "execution_count": 12,
     "metadata": {},
     "output_type": "execute_result"
    }
   ],
   "source": [
    "df_model = df_model.sort_values(['date'])\n",
    "df_model.head()"
   ]
  },
  {
   "cell_type": "markdown",
   "metadata": {},
   "source": [
    "CALCULATE MOVING AVERAGES FOR THETA DIF AND STRENGTH"
   ]
  },
  {
   "cell_type": "code",
   "execution_count": 13,
   "metadata": {},
   "outputs": [
    {
     "data": {
      "text/plain": [
       "1787"
      ]
     },
     "execution_count": 13,
     "metadata": {},
     "output_type": "execute_result"
    }
   ],
   "source": [
    "df_model['theta_ema'] = df_model.theta_current.ewm(span=6,min_periods=6,adjust=True,ignore_na=False).mean()\n",
    "df_model['dif_ema'] = df_model.dif_current.ewm(span=6,min_periods=6,adjust=True,ignore_na=False).mean()\n",
    "df_model['strength_ema'] = df_model.strength.ewm(span=6,min_periods=6,adjust=True,ignore_na=False).mean()\n",
    "df_model = df_model.dropna()\n",
    "len(df_model)"
   ]
  },
  {
   "cell_type": "markdown",
   "metadata": {},
   "source": [
    "SET CLASSES: | 1 -> MAX GROWTH >= TRESHOLD\n",
    "             | 0 -> MAX GROWTH < TRESHOLD\n",
    "SET CLASSES: | 1 -> MIN GROWTH <= TRESHOLD\n",
    "             | 0 -> MIN GROWTH > TRESHOLD"
   ]
  },
  {
   "cell_type": "code",
   "execution_count": 14,
   "metadata": {
    "collapsed": true
   },
   "outputs": [],
   "source": [
    "df_model.loc[df_model['max_growth'] >= 0.1, 'growth_sign'] = 1\n",
    "df_model.loc[df_model['max_growth'] < 0.1, 'growth_sign'] = 0\n",
    "df_model.loc[df_model['max_loss'] <= -0.05, 'loss_sign'] = 1\n",
    "df_model.loc[df_model['max_loss'] > -0.05, 'loss_sign'] = 0"
   ]
  },
  {
   "cell_type": "code",
   "execution_count": 15,
   "metadata": {},
   "outputs": [
    {
     "data": {
      "text/plain": [
       "Index(['coin', 'date', 'dif_base', 'd_dif', 'theta_base', 'd_theta',\n",
       "       'max_growth', 'max_loss', 'max_price', 'min_price', 'vote', 'price',\n",
       "       'volume', 'ema12', 'ema_26', 'macd_line', 'signal_line', 'histogram',\n",
       "       'ema_dif', 'rsi', 'sma5', 'sma20', 'sma5_theta', 'dif_current',\n",
       "       'theta_current', 'dif_base_p', 'theta_base_p', 'dif_sma', 'strength',\n",
       "       'theta_ema', 'dif_ema', 'strength_ema', 'growth_sign', 'loss_sign'],\n",
       "      dtype='object')"
      ]
     },
     "execution_count": 15,
     "metadata": {},
     "output_type": "execute_result"
    }
   ],
   "source": [
    "df_model.columns"
   ]
  },
  {
   "cell_type": "markdown",
   "metadata": {},
   "source": [
    "CALCULATE LAG FOR MAX LOSS AND MAX GROWTH"
   ]
  },
  {
   "cell_type": "code",
   "execution_count": 16,
   "metadata": {},
   "outputs": [
    {
     "data": {
      "text/html": [
       "<div>\n",
       "<style>\n",
       "    .dataframe thead tr:only-child th {\n",
       "        text-align: right;\n",
       "    }\n",
       "\n",
       "    .dataframe thead th {\n",
       "        text-align: left;\n",
       "    }\n",
       "\n",
       "    .dataframe tbody tr th {\n",
       "        vertical-align: top;\n",
       "    }\n",
       "</style>\n",
       "<table border=\"1\" class=\"dataframe\">\n",
       "  <thead>\n",
       "    <tr style=\"text-align: right;\">\n",
       "      <th></th>\n",
       "      <th>coin</th>\n",
       "      <th>date</th>\n",
       "      <th>dif_base</th>\n",
       "      <th>d_dif</th>\n",
       "      <th>theta_base</th>\n",
       "      <th>d_theta</th>\n",
       "      <th>max_price</th>\n",
       "      <th>min_price</th>\n",
       "      <th>vote</th>\n",
       "      <th>price</th>\n",
       "      <th>...</th>\n",
       "      <th>strength</th>\n",
       "      <th>theta_ema</th>\n",
       "      <th>dif_ema</th>\n",
       "      <th>strength_ema</th>\n",
       "      <th>growth_sign</th>\n",
       "      <th>loss_sign</th>\n",
       "      <th>max_growth</th>\n",
       "      <th>max_loss</th>\n",
       "      <th>max_growth_p</th>\n",
       "      <th>max_loss_p</th>\n",
       "    </tr>\n",
       "  </thead>\n",
       "  <tbody>\n",
       "    <tr>\n",
       "      <th>0</th>\n",
       "      <td>USDT_BTC</td>\n",
       "      <td>2017-05-27 20:30:00</td>\n",
       "      <td>-133.912608</td>\n",
       "      <td>-0.003396</td>\n",
       "      <td>-1.107985</td>\n",
       "      <td>-0.007614</td>\n",
       "      <td>2194.000000</td>\n",
       "      <td>1564.0</td>\n",
       "      <td>0</td>\n",
       "      <td>1952.20</td>\n",
       "      <td>...</td>\n",
       "      <td>-6.613904e+08</td>\n",
       "      <td>-1.150813</td>\n",
       "      <td>-118.846656</td>\n",
       "      <td>-1.147207e+08</td>\n",
       "      <td>1.0</td>\n",
       "      <td>0.0</td>\n",
       "      <td>0.113301</td>\n",
       "      <td>-0.040188</td>\n",
       "      <td>0.078171</td>\n",
       "      <td>-0.075318</td>\n",
       "    </tr>\n",
       "    <tr>\n",
       "      <th>1</th>\n",
       "      <td>USDT_BTC</td>\n",
       "      <td>2017-05-28 00:30:00</td>\n",
       "      <td>-133.457811</td>\n",
       "      <td>-0.084798</td>\n",
       "      <td>-1.067307</td>\n",
       "      <td>-0.001086</td>\n",
       "      <td>2089.000000</td>\n",
       "      <td>1564.0</td>\n",
       "      <td>0</td>\n",
       "      <td>2089.00</td>\n",
       "      <td>...</td>\n",
       "      <td>1.035569e+09</td>\n",
       "      <td>-1.124865</td>\n",
       "      <td>-119.856287</td>\n",
       "      <td>2.378221e+08</td>\n",
       "      <td>0.0</td>\n",
       "      <td>1.0</td>\n",
       "      <td>0.045572</td>\n",
       "      <td>-0.107917</td>\n",
       "      <td>0.113301</td>\n",
       "      <td>-0.040188</td>\n",
       "    </tr>\n",
       "    <tr>\n",
       "      <th>2</th>\n",
       "      <td>USDT_BTC</td>\n",
       "      <td>2017-05-28 04:30:00</td>\n",
       "      <td>-122.140918</td>\n",
       "      <td>-0.094081</td>\n",
       "      <td>-1.029493</td>\n",
       "      <td>0.010101</td>\n",
       "      <td>2119.059000</td>\n",
       "      <td>1564.0</td>\n",
       "      <td>0</td>\n",
       "      <td>2099.00</td>\n",
       "      <td>...</td>\n",
       "      <td>8.536187e+07</td>\n",
       "      <td>-1.099352</td>\n",
       "      <td>-117.092070</td>\n",
       "      <td>1.920465e+08</td>\n",
       "      <td>0.0</td>\n",
       "      <td>1.0</td>\n",
       "      <td>0.040797</td>\n",
       "      <td>-0.112692</td>\n",
       "      <td>0.045572</td>\n",
       "      <td>-0.107917</td>\n",
       "    </tr>\n",
       "    <tr>\n",
       "      <th>3</th>\n",
       "      <td>USDT_BTC</td>\n",
       "      <td>2017-05-28 08:30:00</td>\n",
       "      <td>-110.649790</td>\n",
       "      <td>-0.097598</td>\n",
       "      <td>-0.998318</td>\n",
       "      <td>0.025716</td>\n",
       "      <td>2186.402801</td>\n",
       "      <td>1766.0</td>\n",
       "      <td>0</td>\n",
       "      <td>2134.43</td>\n",
       "      <td>...</td>\n",
       "      <td>3.288453e+08</td>\n",
       "      <td>-1.077049</td>\n",
       "      <td>-111.989534</td>\n",
       "      <td>2.325315e+08</td>\n",
       "      <td>0.0</td>\n",
       "      <td>1.0</td>\n",
       "      <td>0.014982</td>\n",
       "      <td>-0.129431</td>\n",
       "      <td>0.040797</td>\n",
       "      <td>-0.112692</td>\n",
       "    </tr>\n",
       "    <tr>\n",
       "      <th>4</th>\n",
       "      <td>USDT_BTC</td>\n",
       "      <td>2017-05-28 12:30:00</td>\n",
       "      <td>-99.850602</td>\n",
       "      <td>0.061095</td>\n",
       "      <td>-0.990019</td>\n",
       "      <td>0.034601</td>\n",
       "      <td>2186.402801</td>\n",
       "      <td>1875.3</td>\n",
       "      <td>0</td>\n",
       "      <td>1926.00</td>\n",
       "      <td>...</td>\n",
       "      <td>-2.648631e+09</td>\n",
       "      <td>-1.061589</td>\n",
       "      <td>-110.220536</td>\n",
       "      <td>-6.115003e+08</td>\n",
       "      <td>1.0</td>\n",
       "      <td>0.0</td>\n",
       "      <td>0.107694</td>\n",
       "      <td>-0.013591</td>\n",
       "      <td>0.014982</td>\n",
       "      <td>-0.129431</td>\n",
       "    </tr>\n",
       "  </tbody>\n",
       "</table>\n",
       "<p>5 rows × 36 columns</p>\n",
       "</div>"
      ],
      "text/plain": [
       "       coin                date    dif_base     d_dif  theta_base   d_theta  \\\n",
       "0  USDT_BTC 2017-05-27 20:30:00 -133.912608 -0.003396   -1.107985 -0.007614   \n",
       "1  USDT_BTC 2017-05-28 00:30:00 -133.457811 -0.084798   -1.067307 -0.001086   \n",
       "2  USDT_BTC 2017-05-28 04:30:00 -122.140918 -0.094081   -1.029493  0.010101   \n",
       "3  USDT_BTC 2017-05-28 08:30:00 -110.649790 -0.097598   -0.998318  0.025716   \n",
       "4  USDT_BTC 2017-05-28 12:30:00  -99.850602  0.061095   -0.990019  0.034601   \n",
       "\n",
       "     max_price  min_price  vote    price     ...          strength  theta_ema  \\\n",
       "0  2194.000000     1564.0     0  1952.20     ...     -6.613904e+08  -1.150813   \n",
       "1  2089.000000     1564.0     0  2089.00     ...      1.035569e+09  -1.124865   \n",
       "2  2119.059000     1564.0     0  2099.00     ...      8.536187e+07  -1.099352   \n",
       "3  2186.402801     1766.0     0  2134.43     ...      3.288453e+08  -1.077049   \n",
       "4  2186.402801     1875.3     0  1926.00     ...     -2.648631e+09  -1.061589   \n",
       "\n",
       "      dif_ema  strength_ema  growth_sign  loss_sign  max_growth  max_loss  \\\n",
       "0 -118.846656 -1.147207e+08          1.0        0.0    0.113301 -0.040188   \n",
       "1 -119.856287  2.378221e+08          0.0        1.0    0.045572 -0.107917   \n",
       "2 -117.092070  1.920465e+08          0.0        1.0    0.040797 -0.112692   \n",
       "3 -111.989534  2.325315e+08          0.0        1.0    0.014982 -0.129431   \n",
       "4 -110.220536 -6.115003e+08          1.0        0.0    0.107694 -0.013591   \n",
       "\n",
       "   max_growth_p  max_loss_p  \n",
       "0      0.078171   -0.075318  \n",
       "1      0.113301   -0.040188  \n",
       "2      0.045572   -0.107917  \n",
       "3      0.040797   -0.112692  \n",
       "4      0.014982   -0.129431  \n",
       "\n",
       "[5 rows x 36 columns]"
      ]
     },
     "execution_count": 16,
     "metadata": {},
     "output_type": "execute_result"
    }
   ],
   "source": [
    "dates_ = df_model[['date']]\n",
    "shifted_parms = df_model[['coin', 'max_growth', 'max_loss']].shift(1)\n",
    "shifted_parms['date'] = dates_\n",
    "df_model = pd.merge(df_model, shifted_parms, how='inner', left_on=['date', 'coin'], right_on=['date', 'coin'])\n",
    "df_model.head()\n",
    "df_model['max_growth'] = df_model['max_growth_x']\n",
    "df_model['max_loss'] = df_model['max_loss_x']\n",
    "df_model['max_growth_p'] = df_model['max_growth_y']\n",
    "df_model['max_loss_p'] = df_model['max_loss_y']\n",
    "df_model = df_model.drop(['max_growth_x', 'max_growth_y', 'max_loss_x', 'max_loss_y'], axis=1)\n",
    "df_model.head()"
   ]
  },
  {
   "cell_type": "markdown",
   "metadata": {},
   "source": [
    "REMOVE MISSING DATA AND OUTLIERS"
   ]
  },
  {
   "cell_type": "code",
   "execution_count": 17,
   "metadata": {},
   "outputs": [
    {
     "name": "stdout",
     "output_type": "stream",
     "text": [
      "1729\n"
     ]
    }
   ],
   "source": [
    "df_model = df_model[~(np.abs(df_model.d_dif-df.d_dif.mean())>(3*df_model.d_dif.std()))]\n",
    "df_model = df_model[~(np.abs(df_model.strength_ema-df_model.strength_ema.mean())>(3*df_model.strength_ema.std()))]\n",
    "df_model = df_model[~(np.abs(df_model.d_theta-df.d_theta.mean())>(3*df_model.d_theta.std()))]\n",
    "print(len(df_model))\n",
    "df_model = df_model.dropna()\n",
    "df_model = df_model.sort_values(['date'])\n",
    "df_model = df_model.drop(['coin', 'date', 'vote'], axis=1)"
   ]
  },
  {
   "cell_type": "code",
   "execution_count": 18,
   "metadata": {},
   "outputs": [
    {
     "data": {
      "text/plain": [
       "Index(['dif_base', 'd_dif', 'theta_base', 'd_theta', 'max_price', 'min_price',\n",
       "       'price', 'volume', 'ema12', 'ema_26', 'macd_line', 'signal_line',\n",
       "       'histogram', 'ema_dif', 'rsi', 'sma5', 'sma20', 'sma5_theta',\n",
       "       'dif_current', 'theta_current', 'dif_base_p', 'theta_base_p', 'dif_sma',\n",
       "       'strength', 'theta_ema', 'dif_ema', 'strength_ema', 'growth_sign',\n",
       "       'loss_sign', 'max_growth', 'max_loss', 'max_growth_p', 'max_loss_p'],\n",
       "      dtype='object')"
      ]
     },
     "execution_count": 18,
     "metadata": {},
     "output_type": "execute_result"
    }
   ],
   "source": [
    "df_model.columns"
   ]
  },
  {
   "cell_type": "code",
   "execution_count": 19,
   "metadata": {},
   "outputs": [
    {
     "name": "stdout",
     "output_type": "stream",
     "text": [
      "Unbalanced Dataset 0.08733371891266628\n"
     ]
    },
    {
     "data": {
      "image/png": "[encoded data removed]",
      "text/plain": [
       "<matplotlib.figure.Figure at 0x7f3c904337b8>"
      ]
     },
     "metadata": {},
     "output_type": "display_data"
    }
   ],
   "source": [
    "plt.hist(df_model['growth_sign'], bins=3)\n",
    "print('Unbalanced Dataset %s' % str(np.sum(df_model['growth_sign'])/len(df_model)))\n",
    "plt.show()"
   ]
  },
  {
   "cell_type": "code",
   "execution_count": 20,
   "metadata": {},
   "outputs": [
    {
     "name": "stdout",
     "output_type": "stream",
     "text": [
      "Unbalanced Dataset 0.33314054366685947\n"
     ]
    },
    {
     "data": {
      "image/png": "[encoded data removed]",
      "text/plain": [
       "<matplotlib.figure.Figure at 0x7f3c8f98c2e8>"
      ]
     },
     "metadata": {},
     "output_type": "display_data"
    }
   ],
   "source": [
    "plt.hist(df_model['loss_sign'], bins=3)\n",
    "print('Unbalanced Dataset %s' % str(np.sum(df_model['loss_sign'])/len(df_model)))\n",
    "plt.show()"
   ]
  },
  {
   "cell_type": "code",
   "execution_count": 28,
   "metadata": {},
   "outputs": [
    {
     "data": {
      "text/plain": [
       "0"
      ]
     },
     "execution_count": 28,
     "metadata": {},
     "output_type": "execute_result"
    }
   ],
   "source": [
    "train = df_model.iloc[:math.floor(len(df_model)*0.75)]\n",
    "test = df_model.iloc[math.floor(len(df_model)*0.75):len(df_model)]"
   ]
  },
  {
   "cell_type": "code",
   "execution_count": 29,
   "metadata": {},
   "outputs": [
    {
     "name": "stdout",
     "output_type": "stream",
     "text": [
      "Unbalanced Dataset 0.08641975308641975\n"
     ]
    },
    {
     "data": {
      "image/png": "[encoded data removed]",
      "text/plain": [
       "<matplotlib.figure.Figure at 0x7f3c87b32f98>"
      ]
     },
     "metadata": {},
     "output_type": "display_data"
    },
    {
     "name": "stdout",
     "output_type": "stream",
     "text": [
      "Unbalanced Dataset 0.09006928406466513\n"
     ]
    },
    {
     "data": {
      "image/png": "[encoded data removed]",
      "text/plain": [
       "<matplotlib.figure.Figure at 0x7f3c87a71c88>"
      ]
     },
     "metadata": {},
     "output_type": "display_data"
    }
   ],
   "source": [
    "plt.hist(train['growth_sign'], bins=3)\n",
    "print('Unbalanced Dataset %s' % str(np.sum(train['growth_sign'])/len(train)))\n",
    "plt.show()\n",
    "plt.hist(test['growth_sign'], bins=3)\n",
    "print('Unbalanced Dataset %s' % str(np.sum(test['growth_sign'])/len(test)))\n",
    "plt.show()"
   ]
  },
  {
   "cell_type": "code",
   "execution_count": null,
   "metadata": {
    "scrolled": true
   },
   "outputs": [],
   "source": [
    "from sklearn.preprocessing import StandardScaler, MinMaxScaler\n",
    "\n",
    "features = df_model.drop(['growth_sign','loss_sign', 'max_loss', 'max_growth',\n",
    "                         'd_theta', 'rsi', 'max_loss_p', 'd_dif'] ,axis=1)\n",
    "features[features.columns] = MinMaxScaler().fit_transform(features)\n",
    "\n",
    "features.head()\n",
    "# for c in features.columns:\n",
    "#     print(c)\n",
    "#     df_model.groupby(\"growth_sign\")[c].plot(kind='kde')\n",
    "#     plt.show()"
   ]
  },
  {
   "cell_type": "code",
   "execution_count": null,
   "metadata": {},
   "outputs": [],
   "source": [
    "fig_size = plt.rcParams[\"figure.figsize\"]\n",
    "fig_size[0] = 15\n",
    "fig_size[1] = 15\n",
    "plt.rcParams[\"figure.figsize\"] = fig_size\n",
    "\n",
    "correlations = features.corr()\n",
    "names = features.columns\n",
    "# plot correlation matrix\n",
    "fig = plt.figure()\n",
    "ax = fig.add_subplot(111)\n",
    "cax = ax.matshow(correlations, vmin=-1, vmax=1)\n",
    "fig.colorbar(cax)\n",
    "ticks = np.arange(0,len(names),1)\n",
    "ax.set_xticks(ticks)\n",
    "ax.set_yticks(ticks)\n",
    "ax.set_xticklabels(names)\n",
    "ax.set_yticklabels(names)\n",
    "plt.xticks(rotation=90)\n",
    "plt.show()"
   ]
  },
  {
   "cell_type": "code",
   "execution_count": null,
   "metadata": {
    "collapsed": true
   },
   "outputs": [],
   "source": [
    "df.to_pickle(\"historical_mkt.pkl\")"
   ]
  },
  {
   "cell_type": "code",
   "execution_count": null,
   "metadata": {
    "collapsed": true
   },
   "outputs": [],
   "source": [
    "df_model = pd.read_pickle(\"historical_mkt.pkl\")\n",
    "df_model.head()"
   ]
  },
  {
   "cell_type": "code",
   "execution_count": null,
   "metadata": {
    "collapsed": true
   },
   "outputs": [],
   "source": [
    "df_model.describe()"
   ]
  },
  {
   "cell_type": "code",
   "execution_count": null,
   "metadata": {
    "collapsed": true
   },
   "outputs": [],
   "source": [
    "X, y = df_model[['max_growth_p', 'dif_ema', 'theta_ema', 'strength_ema','ema_dif']], df['growth_sign']\n",
    "X.head()"
   ]
  },
  {
   "cell_type": "code",
   "execution_count": null,
   "metadata": {
    "collapsed": true
   },
   "outputs": [],
   "source": [
    "y.head()"
   ]
  },
  {
   "cell_type": "code",
   "execution_count": null,
   "metadata": {
    "collapsed": true
   },
   "outputs": [],
   "source": [
    "# from sklearn.decomposition import PCA\n",
    "\n",
    "# pca = PCA(n_components=2)\n",
    "# principalComponents = pca.fit_transform(X)\n",
    "# pca.components_\n",
    "# principalDf = pd.DataFrame(data = principalComponents, columns = ['VC1',\n",
    "#                                                                   'VC2'])\n",
    "# finalDf = pd.concat([principalDf, y], axis = 1)\n",
    "# df_model = finalDf\n",
    "# X = df_model.drop(['growth_sign'], axis=1)\n",
    "# y = df_model['growth_sign']"
   ]
  },
  {
   "cell_type": "code",
   "execution_count": null,
   "metadata": {
    "collapsed": true
   },
   "outputs": [],
   "source": [
    "# finalDf.groupby(\"growth_sign\").VC1.plot(kind='kde')\n",
    "# plt.show()\n",
    "# finalDf.groupby(\"growth_sign\").VC2.plot(kind='kde')\n",
    "# plt.show()\n",
    "# finalDf.groupby(\"growth_sign\").VC3.plot(kind='kde')\n",
    "# plt.show()"
   ]
  }
 ],
 "metadata": {
  "kernelspec": {
   "display_name": "Python 3",
   "language": "python",
   "name": "python3"
  },
  "language_info": {
   "codemirror_mode": {
    "name": "ipython",
    "version": 3
   },
   "file_extension": ".py",
   "mimetype": "text/x-python",
   "name": "python",
   "nbconvert_exporter": "python",
   "pygments_lexer": "ipython3",
   "version": "3.6.3"
  }
 },
 "nbformat": 4,
 "nbformat_minor": 2
}
