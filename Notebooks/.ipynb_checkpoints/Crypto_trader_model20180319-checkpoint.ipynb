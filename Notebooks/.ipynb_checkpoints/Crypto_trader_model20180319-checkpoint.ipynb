{
 "cells": [
  {
   "cell_type": "code",
   "execution_count": 1,
   "metadata": {
    "collapsed": true,
    "nbpresent": {
     "id": "22666bca-72d0-4dbd-8a0b-ae44ce05cfcb"
    }
   },
   "outputs": [],
   "source": [
    "import numpy as np \n",
    "import pandas as pd \n",
    "import seaborn as sns \n",
    "import matplotlib.pyplot as plt \n",
    "import matplotlib.dates as mdates\n",
    "plt.style.use('ggplot') \n",
    "import calendar\n",
    "import quandl\n",
    "import pickle\n",
    "from datetime import datetime, timedelta\n",
    "import re  \n",
    "import psycopg2\n",
    "import sys\n",
    "api_key = '764-Cog1Q3xa6Rns5pmj'\n",
    "quandl.ApiConfig.api_key = api_key\n",
    "import sqlalchemy\n",
    "from sqlalchemy.sql import select, and_, or_, not_, desc, asc\n",
    "from sqlalchemy import Table, Column, Integer, DateTime, String,Float, ForeignKey\n",
    "from sqlalchemy.orm import sessionmaker"
   ]
  },
  {
   "cell_type": "code",
   "execution_count": 2,
   "metadata": {
    "collapsed": true,
    "nbpresent": {
     "id": "a0639da2-5383-435a-b7cf-ff969fbbce46"
    }
   },
   "outputs": [],
   "source": [
    "fig_size = plt.rcParams[\"figure.figsize\"]\n",
    "fig_size[0] = 10\n",
    "fig_size[1] = 10\n",
    "plt.rcParams[\"figure.figsize\"] = fig_size"
   ]
  },
  {
   "cell_type": "code",
   "execution_count": 3,
   "metadata": {
    "collapsed": true,
    "nbpresent": {
     "id": "ca01e3fc-afd9-4109-b059-285cde48db1e"
    }
   },
   "outputs": [],
   "source": [
    "def connect(user, password, db, host='localhost', port=5432):\n",
    "    '''Returns a connection and a metadata object'''\n",
    "    # We connect with the help of the PostgreSQL URL\n",
    "    url = 'postgresql+psycopg2://{}:{}@{}:{}/{}'\n",
    "    url = url.format(user, password, host, port, db)\n",
    "\n",
    "    # The return value of create_engine() is our connection object\n",
    "    con = sqlalchemy.create_engine(url, client_encoding='utf8')\n",
    "\n",
    "    # We then bind the connection to MetaData()\n",
    "    meta = sqlalchemy.MetaData(bind=con)\n",
    "\n",
    "    return con, meta"
   ]
  },
  {
   "cell_type": "markdown",
   "metadata": {
    "nbpresent": {
     "id": "cfc1da92-5152-4cbe-83dc-06f086a99735"
    }
   },
   "source": [
    "CREATE TABLES "
   ]
  },
  {
   "cell_type": "code",
   "execution_count": 4,
   "metadata": {
    "collapsed": true,
    "nbpresent": {
     "id": "c3b31811-accd-4e26-b82d-04e60343335f"
    }
   },
   "outputs": [],
   "source": [
    "con, meta = connect('postgres', '', 'robotdb')\n",
    "    \n",
    "tickers = Table('Ticker', meta,\n",
    "    Column('date', DateTime, primary_key = True),\n",
    "    Column('coin', String, primary_key = True),\n",
    "    Column('price', Float),\n",
    "    Column('volume', Float),\n",
    "    Column('screen', String, primary_key = True)    \n",
    ")\n",
    "\n",
    "macd = Table('Macd', meta,\n",
    "    Column('date', DateTime, primary_key = True),\n",
    "    Column('coin', String, primary_key = True),\n",
    "    Column('ema12', Float),\n",
    "    Column('ema_26', Float),\n",
    "    Column('macd_line', Float),\n",
    "    Column('signal_line', Float),\n",
    "    Column('histogram', Float),\n",
    "    Column('screen', Integer, primary_key=True)\n",
    ")\n",
    "\n",
    "boillinger = Table('Boillinger', meta,\n",
    "                       Column('date', DateTime, primary_key=True),\n",
    "                       Column('coin', String, primary_key=True),\n",
    "                       Column('upper_band', Float),\n",
    "                       Column('lower_band', Float),\n",
    "                       Column('sma20', Float),\n",
    "                       Column('height', Float),\n",
    "                       Column('screen', Integer, primary_key=True)\n",
    "                       )\n",
    "\n",
    "ema = Table('Ema', meta,\n",
    "                Column('date', DateTime, primary_key=True),\n",
    "                Column('coin', String, primary_key=True),\n",
    "                Column('ema5', Float),\n",
    "                Column('ema20', Float),\n",
    "                Column('ema5_theta', Float),\n",
    "                Column('ema20_theta', Float),\n",
    "                Column('screen', Integer, primary_key=True)\n",
    "                )\n",
    "\n",
    "long_positions = Table('Long', meta,\n",
    "                       Column('id_position', Integer, primary_key=True),\n",
    "                       Column('coin', String, primary_key=True),\n",
    "                       Column('strategy', String),\n",
    "                       Column('size_position', Float),\n",
    "                       Column('date_ask', DateTime),\n",
    "                       Column('ask', Float),\n",
    "                       Column('date_settlement', DateTime),\n",
    "                       Column('settlement', Float),\n",
    "                       Column('take_profit', Float),\n",
    "                       Column('stop_loss', Float),\n",
    "                       Column('exit_date', DateTime),\n",
    "                       Column('exit_price', Float),\n",
    "                       Column('log_return', Float),\n",
    "                       Column('source', String),\n",
    "                       Column('status', String)\n",
    "                       )\n",
    "\n",
    "\n",
    "mkt_trend = Table('Market_trend', meta,\n",
    "                  Column('coin', String, primary_key=True),\n",
    "                  Column('date', DateTime, primary_key=True),\n",
    "                  Column('screen', Integer, primary_key=True),\n",
    "                  Column('dif_current', Float),\n",
    "                  Column('dif_base', Float),\n",
    "                  Column('d_dif', Float),\n",
    "                  Column('theta_current', Float),\n",
    "                  Column('theta_base', Float),\n",
    "                  Column('d_theta', Float),\n",
    "                  Column('max_growth', Float),\n",
    "                  Column('vote', Integer)\n",
    "                  )\n",
    "\n",
    "\n",
    "rsi = Table('Rsi', meta,\n",
    "    Column('date', DateTime, primary_key = True),\n",
    "    Column('coin', String, primary_key = True),\n",
    "    Column('rsi', Float),\n",
    "    Column('screen', Integer, primary_key=True)\n",
    ")\n",
    "\n",
    "balances = Table('Balance', meta,\n",
    "                 Column('date', DateTime, primary_key=True),\n",
    "                 Column('coin', String, primary_key=True),\n",
    "                 Column('size_position', Float)\n",
    "                 )\n",
    "\n",
    "\n",
    "years = mdates.YearLocator()   # every year\n",
    "months = mdates.MonthLocator()  # every month\n",
    "yearsFmt = mdates.DateFormatter('%Y')"
   ]
  },
  {
   "cell_type": "code",
   "execution_count": 5,
   "metadata": {
    "collapsed": true
   },
   "outputs": [],
   "source": [
    "def get_result(models_result, model, confusion_matrix):\n",
    "    success_rate = confusion_matrix[1][1]/(confusion_matrix[1][1]+confusion_matrix[0][1])\n",
    "    models_result.append({\"model\": model,\n",
    "                          \"roc_auc\": roc_auc,\n",
    "                          \"succ_trades\": success_rate})\n",
    "    return models_result"
   ]
  },
  {
   "cell_type": "code",
   "execution_count": 6,
   "metadata": {
    "collapsed": true,
    "nbpresent": {
     "id": "8b5ada16-9c1a-403b-9ccb-01c08535beda"
    }
   },
   "outputs": [],
   "source": [
    "def get_macds(coin = None, date = '2019-12-31', screen = 1):\n",
    "    if coin:\n",
    "        s = select([macd])\\\n",
    "            .where(and_(macd.c.coin == coin, macd.c.date <= date, macd.c.screen==screen))\\\n",
    "            .order_by(desc(macd.c.date))\n",
    "    else:\n",
    "         s = select([macd])\\\n",
    "            .where(and_(macd.c.date <= date, macd.c.screen==screen))\\\n",
    "            .order_by(desc(macd.c.date))\n",
    "            \n",
    "    rows = con.execute(s)\n",
    "    macd_df = pd.DataFrame(rows.fetchall()).iloc[::-1]\n",
    "    if not macd_df.empty:\n",
    "        macd_df.columns = rows.keys()\n",
    "    return macd_df\n",
    "\n",
    "def get_tickers(coin = None, date = '2019-12-31', screen = 1):\n",
    "    if coin:\n",
    "        s = select([tickers])\\\n",
    "            .where(and_(tickers.c.coin == coin, tickers.c.date <= date, tickers.c.screen == screen))\\\n",
    "            .order_by(\n",
    "            desc(tickers.c.date))\n",
    "    else:\n",
    "        s = select([tickers])\\\n",
    "            .where(and_(tickers.c.date <= date, tickers.c.screen == screen))\\\n",
    "            .order_by(\n",
    "            desc(tickers.c.date))\n",
    "    rows = con.execute(s)\n",
    "    tickers_df = pd.DataFrame(rows.fetchall()).iloc[::-1]\n",
    "    if not tickers_df.empty:\n",
    "        tickers_df.columns = rows.keys()\n",
    "    return tickers_df\n",
    "\n",
    "def get_emas(coin=None, date='2019-12-31', screen=1):\n",
    "    if coin:\n",
    "        s = select([ema])\\\n",
    "            .where(and_(ema.c.coin == coin, ema.c.date <= date, ema.c.screen == screen))\\\n",
    "            .order_by(ema.c.date.desc())\n",
    "    else:\n",
    "        s = select([ema])\\\n",
    "            .where(and_(ema.c.date <= date, ema.c.screen == screen))\\\n",
    "            .order_by(ema.c.date.desc())\n",
    "    rows = con.execute(s)\n",
    "    ema_df = pd.DataFrame(rows.fetchall()).iloc[::-1]\n",
    "    if not ema_df.empty:\n",
    "        ema_df.columns = rows.keys()\n",
    "    return ema_df\n",
    "\n",
    "def get_mkt_trend(coin=None, date='2019-12-31', screen=1):\n",
    "    if coin:\n",
    "        s = select([mkt_trend]).\\\n",
    "            where(and_(mkt_trend.c.coin == coin, mkt_trend.c.date <= date, mkt_trend.c.screen == screen)).\\\n",
    "            order_by(desc(mkt_trend.c.date))\n",
    "    else:\n",
    "        s = select([mkt_trend]).\\\n",
    "            where(and_(mkt_trend.c.date <= date, mkt_trend.c.screen == screen)).\\\n",
    "            order_by(desc(mkt_trend.c.date))\n",
    "    rows = con.execute(s)\n",
    "    mkt_trend_df = pd.DataFrame(rows.fetchall()).iloc[::-1]\n",
    "    mkt_trend_df.columns = rows.keys()\n",
    "    return mkt_trend_df\n",
    "\n",
    "def get_rsis(coin=None, date='2019-12-31', screen=1):\n",
    "    if coin:\n",
    "        s = select([rsi]) \\\n",
    "            .where(and_(rsi.c.coin == coin,\n",
    "                        rsi.c.date <= date,\n",
    "                       rsi.c.screen == screen))\\\n",
    "            .order_by(desc(rsi.c.date))\n",
    "    else:\n",
    "        s = select([rsi]) \\\n",
    "            .where(and_(rsi.c.date <= date,\n",
    "                        rsi.c.screen == screen\n",
    "                       ))\\\n",
    "            .order_by(desc(rsi.c.date))\n",
    "    rows = con.execute(s)\n",
    "    rsi_df = pd.DataFrame(rows.fetchall()).iloc[::-1]\n",
    "    if not rsi_df.empty:\n",
    "        rsi_df.columns = rows.keys()\n",
    "    return rsi_df"
   ]
  },
  {
   "cell_type": "code",
   "execution_count": 7,
   "metadata": {
    "collapsed": true,
    "nbpresent": {
     "id": "107dfb91-c426-4580-89e0-f3f92403f2f1"
    },
    "scrolled": false
   },
   "outputs": [],
   "source": [
    "def manipulate_mkt_data():\n",
    "    mkt_trend_df = get_mkt_trend()\n",
    "    tickers_df_two = get_tickers()\n",
    "    macds_df = get_macds()\n",
    "    tickers_df = pd.merge(tickers_df_two, macds_df, how='inner', left_on=['date', 'coin'], right_on=['date', 'coin'])\n",
    "    tickers_df['ema_dif'] = np.log(tickers_df['price']/tickers_df['ema12'])\n",
    "    df = pd.merge(mkt_trend_df, tickers_df, how='inner', left_on=['date', 'coin'], right_on=['date', 'coin'])\n",
    "    rsis_df = get_rsis()\n",
    "    df = pd.merge(df, rsis_df, how='inner', left_on=['date', 'coin'], right_on=['date', 'coin'])\n",
    "    return df\n",
    "    \n",
    "df = manipulate_mkt_data()"
   ]
  },
  {
   "cell_type": "code",
   "execution_count": 8,
   "metadata": {
    "collapsed": true
   },
   "outputs": [],
   "source": [
    "df.loc[df['max_growth'] >= 0.10, 'growth_sign'] = 1\n",
    "df.loc[df['max_growth'] < 0.10, 'growth_sign'] = 0\n",
    "df['rsi'] = df['rsi']/100"
   ]
  },
  {
   "cell_type": "code",
   "execution_count": 9,
   "metadata": {
    "collapsed": true,
    "scrolled": false
   },
   "outputs": [],
   "source": [
    "full_data_set = df[['coin', 'date', 'dif_base', 'dif_current', 'd_dif', 'theta_base', 'theta_current','d_theta', 'rsi','ema_dif', 'max_growth', 'growth_sign']]\n",
    "\n",
    "dates_ = full_data_set[['date']]\n",
    "shifted_parms = full_data_set[['coin', 'dif_current', 'theta_current']].shift(2)\n",
    "shifted_parms['date'] = dates_\n",
    "full_data_set = pd.merge(full_data_set, shifted_parms, how='inner', left_on=['date', 'coin'], right_on=['date', 'coin'])\n",
    "full_data_set.head()\n",
    "full_data_set['dif_current'] = full_data_set['dif_current_x']\n",
    "full_data_set['theta_current'] = full_data_set['theta_current_x']\n",
    "full_data_set['dif_base_p'] = full_data_set['dif_current_y']\n",
    "full_data_set['theta_base_p'] = full_data_set['theta_current_y']"
   ]
  },
  {
   "cell_type": "code",
   "execution_count": 10,
   "metadata": {
    "collapsed": true
   },
   "outputs": [],
   "source": [
    "df_model = full_data_set.sort_values(['date'])"
   ]
  },
  {
   "cell_type": "code",
   "execution_count": 11,
   "metadata": {},
   "outputs": [
    {
     "name": "stdout",
     "output_type": "stream",
     "text": [
      "USDT_BTC\n"
     ]
    }
   ],
   "source": [
    "def get_strength_index():\n",
    "    tickers_df_two = get_tickers()\n",
    "    for c in tickers_df_two.coin.unique():\n",
    "        tickers_df_two_c = tickers_df_two[tickers_df_two['coin'] == c]\n",
    "        print(c)\n",
    "        # 6 * 4h = 24h\n",
    "        delta_t = 1\n",
    "        si_np = [np.nan]\n",
    "        for index in range(len(tickers_df_two_c)):\n",
    "            base_price = tickers_df_two_c.iloc[index].price\n",
    "            if index >= (len(tickers_df_two_c)-delta_t):\n",
    "                break\n",
    "            current_price = tickers_df_two_c.iloc[index+1].price\n",
    "            volume = tickers_df_two_c.iloc[index+1].volume\n",
    "            si = (current_price - base_price) * volume\n",
    "            si_np.append(si)\n",
    "        tickers_df_two_c['strength'] = si_np\n",
    "    return tickers_df_two_c.dropna()\n",
    "\n",
    "df_model = pd.merge(df_model, get_strength_index(), how='inner',\n",
    "                    left_on=['date', 'coin'], right_on=['date', 'coin'])\n",
    "df_model['ema_s'] = df_model.drop(['date', 'coin'], axis=1).strength.\\\n",
    "                    ewm(span=2, min_periods=2, adjust=True, ignore_na=False).mean()\n",
    "    "
   ]
  },
  {
   "cell_type": "code",
   "execution_count": 12,
   "metadata": {
    "collapsed": true
   },
   "outputs": [],
   "source": [
    "from sklearn.preprocessing import scale\n",
    "\n",
    "df_model['strength'] = scale(df_model['strength']/100)"
   ]
  },
  {
   "cell_type": "code",
   "execution_count": 13,
   "metadata": {
    "scrolled": true
   },
   "outputs": [
    {
     "data": {
      "text/html": [
       "<div>\n",
       "<style>\n",
       "    .dataframe thead tr:only-child th {\n",
       "        text-align: right;\n",
       "    }\n",
       "\n",
       "    .dataframe thead th {\n",
       "        text-align: left;\n",
       "    }\n",
       "\n",
       "    .dataframe tbody tr th {\n",
       "        vertical-align: top;\n",
       "    }\n",
       "</style>\n",
       "<table border=\"1\" class=\"dataframe\">\n",
       "  <thead>\n",
       "    <tr style=\"text-align: right;\">\n",
       "      <th></th>\n",
       "      <th>date</th>\n",
       "      <th>dif_base</th>\n",
       "      <th>dif_current</th>\n",
       "      <th>d_dif</th>\n",
       "      <th>theta_base</th>\n",
       "      <th>theta_current</th>\n",
       "      <th>rsi</th>\n",
       "      <th>strength</th>\n",
       "      <th>d_theta</th>\n",
       "      <th>ema_dif</th>\n",
       "      <th>dif_base_p</th>\n",
       "      <th>theta_base_p</th>\n",
       "      <th>max_growth</th>\n",
       "      <th>growth_sign</th>\n",
       "    </tr>\n",
       "  </thead>\n",
       "  <tbody>\n",
       "    <tr>\n",
       "      <th>0</th>\n",
       "      <td>2017-05-27 19:15:00</td>\n",
       "      <td>-0.064036</td>\n",
       "      <td>-0.067736</td>\n",
       "      <td>0.057782</td>\n",
       "      <td>1.331456</td>\n",
       "      <td>1.168655</td>\n",
       "      <td>0.390028</td>\n",
       "      <td>-0.074462</td>\n",
       "      <td>-0.122273</td>\n",
       "      <td>-0.038297</td>\n",
       "      <td>-0.065930</td>\n",
       "      <td>-1.145981</td>\n",
       "      <td>0.085196</td>\n",
       "      <td>0.0</td>\n",
       "    </tr>\n",
       "    <tr>\n",
       "      <th>1</th>\n",
       "      <td>2017-05-27 23:15:00</td>\n",
       "      <td>-0.067736</td>\n",
       "      <td>-0.063983</td>\n",
       "      <td>-0.055416</td>\n",
       "      <td>1.168655</td>\n",
       "      <td>-1.096829</td>\n",
       "      <td>0.434543</td>\n",
       "      <td>0.113554</td>\n",
       "      <td>-1.938540</td>\n",
       "      <td>0.013925</td>\n",
       "      <td>-0.064036</td>\n",
       "      <td>1.331456</td>\n",
       "      <td>0.065394</td>\n",
       "      <td>0.0</td>\n",
       "    </tr>\n",
       "    <tr>\n",
       "      <th>2</th>\n",
       "      <td>2017-05-28 03:15:00</td>\n",
       "      <td>-0.063983</td>\n",
       "      <td>-0.060871</td>\n",
       "      <td>-0.048632</td>\n",
       "      <td>-1.096829</td>\n",
       "      <td>1.130954</td>\n",
       "      <td>0.390022</td>\n",
       "      <td>0.036070</td>\n",
       "      <td>-2.031112</td>\n",
       "      <td>0.018640</td>\n",
       "      <td>-0.067736</td>\n",
       "      <td>1.168655</td>\n",
       "      <td>0.061871</td>\n",
       "      <td>0.0</td>\n",
       "    </tr>\n",
       "    <tr>\n",
       "      <th>3</th>\n",
       "      <td>2017-05-28 07:15:00</td>\n",
       "      <td>-0.060871</td>\n",
       "      <td>-0.052909</td>\n",
       "      <td>-0.130798</td>\n",
       "      <td>1.130954</td>\n",
       "      <td>0.149442</td>\n",
       "      <td>0.385072</td>\n",
       "      <td>0.137623</td>\n",
       "      <td>-0.867862</td>\n",
       "      <td>0.063735</td>\n",
       "      <td>-0.063983</td>\n",
       "      <td>-1.096829</td>\n",
       "      <td>0.003772</td>\n",
       "      <td>0.0</td>\n",
       "    </tr>\n",
       "    <tr>\n",
       "      <th>4</th>\n",
       "      <td>2017-05-28 11:15:00</td>\n",
       "      <td>-0.052909</td>\n",
       "      <td>-0.046516</td>\n",
       "      <td>-0.120826</td>\n",
       "      <td>0.149442</td>\n",
       "      <td>1.166785</td>\n",
       "      <td>0.416881</td>\n",
       "      <td>-0.013278</td>\n",
       "      <td>6.807588</td>\n",
       "      <td>0.038641</td>\n",
       "      <td>-0.060871</td>\n",
       "      <td>1.130954</td>\n",
       "      <td>0.000000</td>\n",
       "      <td>0.0</td>\n",
       "    </tr>\n",
       "  </tbody>\n",
       "</table>\n",
       "</div>"
      ],
      "text/plain": [
       "                 date  dif_base  dif_current     d_dif  theta_base  \\\n",
       "0 2017-05-27 19:15:00 -0.064036    -0.067736  0.057782    1.331456   \n",
       "1 2017-05-27 23:15:00 -0.067736    -0.063983 -0.055416    1.168655   \n",
       "2 2017-05-28 03:15:00 -0.063983    -0.060871 -0.048632   -1.096829   \n",
       "3 2017-05-28 07:15:00 -0.060871    -0.052909 -0.130798    1.130954   \n",
       "4 2017-05-28 11:15:00 -0.052909    -0.046516 -0.120826    0.149442   \n",
       "\n",
       "   theta_current       rsi  strength   d_theta   ema_dif  dif_base_p  \\\n",
       "0       1.168655  0.390028 -0.074462 -0.122273 -0.038297   -0.065930   \n",
       "1      -1.096829  0.434543  0.113554 -1.938540  0.013925   -0.064036   \n",
       "2       1.130954  0.390022  0.036070 -2.031112  0.018640   -0.067736   \n",
       "3       0.149442  0.385072  0.137623 -0.867862  0.063735   -0.063983   \n",
       "4       1.166785  0.416881 -0.013278  6.807588  0.038641   -0.060871   \n",
       "\n",
       "   theta_base_p  max_growth  growth_sign  \n",
       "0     -1.145981    0.085196          0.0  \n",
       "1      1.331456    0.065394          0.0  \n",
       "2      1.168655    0.061871          0.0  \n",
       "3     -1.096829    0.003772          0.0  \n",
       "4      1.130954    0.000000          0.0  "
      ]
     },
     "execution_count": 13,
     "metadata": {},
     "output_type": "execute_result"
    }
   ],
   "source": [
    "df_model = df_model[['date', 'dif_base', 'dif_current', 'd_dif', 'theta_base', 'theta_current', 'rsi',\n",
    "                     'strength','d_theta', 'ema_dif', 'dif_base_p', 'theta_base_p', 'max_growth', 'growth_sign']].dropna()\n",
    "df_model.head()"
   ]
  },
  {
   "cell_type": "code",
   "execution_count": 14,
   "metadata": {
    "collapsed": true
   },
   "outputs": [],
   "source": [
    "df_model.to_pickle(\"historical_mkt.pkl\")"
   ]
  },
  {
   "cell_type": "code",
   "execution_count": 15,
   "metadata": {},
   "outputs": [],
   "source": [
    "df_model = pd.read_pickle(\"historical_mkt.pkl\")"
   ]
  },
  {
   "cell_type": "code",
   "execution_count": 16,
   "metadata": {
    "scrolled": true
   },
   "outputs": [
    {
     "data": {
      "text/html": [
       "<div>\n",
       "<style>\n",
       "    .dataframe thead tr:only-child th {\n",
       "        text-align: right;\n",
       "    }\n",
       "\n",
       "    .dataframe thead th {\n",
       "        text-align: left;\n",
       "    }\n",
       "\n",
       "    .dataframe tbody tr th {\n",
       "        vertical-align: top;\n",
       "    }\n",
       "</style>\n",
       "<table border=\"1\" class=\"dataframe\">\n",
       "  <thead>\n",
       "    <tr style=\"text-align: right;\">\n",
       "      <th></th>\n",
       "      <th>date</th>\n",
       "      <th>dif_base</th>\n",
       "      <th>dif_current</th>\n",
       "      <th>d_dif</th>\n",
       "      <th>theta_base</th>\n",
       "      <th>theta_current</th>\n",
       "      <th>rsi</th>\n",
       "      <th>strength</th>\n",
       "      <th>d_theta</th>\n",
       "      <th>ema_dif</th>\n",
       "      <th>dif_base_p</th>\n",
       "      <th>theta_base_p</th>\n",
       "      <th>max_growth</th>\n",
       "      <th>growth_sign</th>\n",
       "    </tr>\n",
       "  </thead>\n",
       "  <tbody>\n",
       "    <tr>\n",
       "      <th>0</th>\n",
       "      <td>2017-05-27 19:15:00</td>\n",
       "      <td>-0.064036</td>\n",
       "      <td>-0.067736</td>\n",
       "      <td>0.057782</td>\n",
       "      <td>1.331456</td>\n",
       "      <td>1.168655</td>\n",
       "      <td>0.390028</td>\n",
       "      <td>-0.074462</td>\n",
       "      <td>-0.122273</td>\n",
       "      <td>-0.038297</td>\n",
       "      <td>-0.065930</td>\n",
       "      <td>-1.145981</td>\n",
       "      <td>0.085196</td>\n",
       "      <td>0.0</td>\n",
       "    </tr>\n",
       "    <tr>\n",
       "      <th>1</th>\n",
       "      <td>2017-05-27 23:15:00</td>\n",
       "      <td>-0.067736</td>\n",
       "      <td>-0.063983</td>\n",
       "      <td>-0.055416</td>\n",
       "      <td>1.168655</td>\n",
       "      <td>-1.096829</td>\n",
       "      <td>0.434543</td>\n",
       "      <td>0.113554</td>\n",
       "      <td>-1.938540</td>\n",
       "      <td>0.013925</td>\n",
       "      <td>-0.064036</td>\n",
       "      <td>1.331456</td>\n",
       "      <td>0.065394</td>\n",
       "      <td>0.0</td>\n",
       "    </tr>\n",
       "    <tr>\n",
       "      <th>2</th>\n",
       "      <td>2017-05-28 03:15:00</td>\n",
       "      <td>-0.063983</td>\n",
       "      <td>-0.060871</td>\n",
       "      <td>-0.048632</td>\n",
       "      <td>-1.096829</td>\n",
       "      <td>1.130954</td>\n",
       "      <td>0.390022</td>\n",
       "      <td>0.036070</td>\n",
       "      <td>-2.031112</td>\n",
       "      <td>0.018640</td>\n",
       "      <td>-0.067736</td>\n",
       "      <td>1.168655</td>\n",
       "      <td>0.061871</td>\n",
       "      <td>0.0</td>\n",
       "    </tr>\n",
       "    <tr>\n",
       "      <th>3</th>\n",
       "      <td>2017-05-28 07:15:00</td>\n",
       "      <td>-0.060871</td>\n",
       "      <td>-0.052909</td>\n",
       "      <td>-0.130798</td>\n",
       "      <td>1.130954</td>\n",
       "      <td>0.149442</td>\n",
       "      <td>0.385072</td>\n",
       "      <td>0.137623</td>\n",
       "      <td>-0.867862</td>\n",
       "      <td>0.063735</td>\n",
       "      <td>-0.063983</td>\n",
       "      <td>-1.096829</td>\n",
       "      <td>0.003772</td>\n",
       "      <td>0.0</td>\n",
       "    </tr>\n",
       "    <tr>\n",
       "      <th>4</th>\n",
       "      <td>2017-05-28 11:15:00</td>\n",
       "      <td>-0.052909</td>\n",
       "      <td>-0.046516</td>\n",
       "      <td>-0.120826</td>\n",
       "      <td>0.149442</td>\n",
       "      <td>1.166785</td>\n",
       "      <td>0.416881</td>\n",
       "      <td>-0.013278</td>\n",
       "      <td>6.807588</td>\n",
       "      <td>0.038641</td>\n",
       "      <td>-0.060871</td>\n",
       "      <td>1.130954</td>\n",
       "      <td>0.000000</td>\n",
       "      <td>0.0</td>\n",
       "    </tr>\n",
       "  </tbody>\n",
       "</table>\n",
       "</div>"
      ],
      "text/plain": [
       "                 date  dif_base  dif_current     d_dif  theta_base  \\\n",
       "0 2017-05-27 19:15:00 -0.064036    -0.067736  0.057782    1.331456   \n",
       "1 2017-05-27 23:15:00 -0.067736    -0.063983 -0.055416    1.168655   \n",
       "2 2017-05-28 03:15:00 -0.063983    -0.060871 -0.048632   -1.096829   \n",
       "3 2017-05-28 07:15:00 -0.060871    -0.052909 -0.130798    1.130954   \n",
       "4 2017-05-28 11:15:00 -0.052909    -0.046516 -0.120826    0.149442   \n",
       "\n",
       "   theta_current       rsi  strength   d_theta   ema_dif  dif_base_p  \\\n",
       "0       1.168655  0.390028 -0.074462 -0.122273 -0.038297   -0.065930   \n",
       "1      -1.096829  0.434543  0.113554 -1.938540  0.013925   -0.064036   \n",
       "2       1.130954  0.390022  0.036070 -2.031112  0.018640   -0.067736   \n",
       "3       0.149442  0.385072  0.137623 -0.867862  0.063735   -0.063983   \n",
       "4       1.166785  0.416881 -0.013278  6.807588  0.038641   -0.060871   \n",
       "\n",
       "   theta_base_p  max_growth  growth_sign  \n",
       "0     -1.145981    0.085196          0.0  \n",
       "1      1.331456    0.065394          0.0  \n",
       "2      1.168655    0.061871          0.0  \n",
       "3     -1.096829    0.003772          0.0  \n",
       "4      1.130954    0.000000          0.0  "
      ]
     },
     "execution_count": 16,
     "metadata": {},
     "output_type": "execute_result"
    }
   ],
   "source": [
    "df_model.head()"
   ]
  },
  {
   "cell_type": "code",
   "execution_count": 17,
   "metadata": {
    "collapsed": true
   },
   "outputs": [],
   "source": [
    "#GOOD FOR KNN\n",
    "x_features = [ 'dif_current',\n",
    "             'theta_current',\n",
    "              'rsi', 'ema_dif']\n",
    "#GOOD FOR SVC\n",
    "# x_features = [ 'dif_current', 'dif_base',\n",
    "#              'theta_current', 'theta_base',\n",
    "#               'rsi', 'ema_dif']\n",
    "y_features = ['growth_sign']"
   ]
  },
  {
   "cell_type": "code",
   "execution_count": 18,
   "metadata": {
    "collapsed": true
   },
   "outputs": [],
   "source": [
    "from sklearn.ensemble import RandomForestClassifier, AdaBoostClassifier, ExtraTreesClassifier\n",
    "from sklearn.metrics import confusion_matrix, classification_report\n",
    "from sklearn.metrics import roc_curve, auc\n",
    "from sklearn.model_selection import train_test_split\n",
    "from imblearn.over_sampling import SMOTE\n",
    "from sklearn.model_selection import cross_val_score, KFold\n",
    "from sklearn.neighbors import KNeighborsClassifier\n",
    "from sklearn.model_selection import cross_val_score\n",
    "from sklearn.preprocessing import scale\n",
    "from sklearn.model_selection import GridSearchCV\n",
    "from sklearn.tree import DecisionTreeClassifier\n",
    "from sklearn import svm\n",
    "from sklearn.dummy import DummyClassifier\n",
    "from sklearn.naive_bayes import GaussianNB\n",
    "\n",
    "models_result = []"
   ]
  },
  {
   "cell_type": "code",
   "execution_count": 19,
   "metadata": {
    "collapsed": true
   },
   "outputs": [],
   "source": [
    "X = df_model[x_features]\n",
    "y = df_model[y_features].growth_sign.values\n",
    "\n",
    "X_train, X_test, Y_train, Y_test = train_test_split(X, y, test_size=0.2, random_state=42)\n",
    "\n",
    "oversampler = SMOTE(random_state=42)\n",
    "X_train_os, Y_train_os = oversampler.fit_sample(X_train,Y_train)"
   ]
  },
  {
   "cell_type": "markdown",
   "metadata": {},
   "source": [
    "Random Forest Classifier SMOTE, With GridSearch"
   ]
  },
  {
   "cell_type": "code",
   "execution_count": 20,
   "metadata": {
    "scrolled": false
   },
   "outputs": [
    {
     "name": "stdout",
     "output_type": "stream",
     "text": [
      "{'max_depth': 13, 'min_samples_leaf': 1}\n"
     ]
    }
   ],
   "source": [
    "model = 'RF SMOTE GS'\n",
    "\n",
    "param_grid = {'max_depth': np.arange(1, 20), 'min_samples_leaf':np.arange(1, 8)}\n",
    "\n",
    "rf_os_cv = GridSearchCV(RandomForestClassifier(random_state=42), param_grid, cv=5, scoring='roc_auc')\n",
    "rf_os_cv.fit(X_train_os, Y_train_os)\n",
    "print(rf_os_cv.best_params_)"
   ]
  },
  {
   "cell_type": "code",
   "execution_count": 21,
   "metadata": {
    "collapsed": true
   },
   "outputs": [],
   "source": [
    "Y_predict = rf_os_cv.predict(X_test)"
   ]
  },
  {
   "cell_type": "code",
   "execution_count": 22,
   "metadata": {},
   "outputs": [
    {
     "name": "stdout",
     "output_type": "stream",
     "text": [
      "0.558460271717\n"
     ]
    }
   ],
   "source": [
    "FP, TP, thresholds = roc_curve(Y_test,Y_predict)\n",
    "roc_auc = auc(FP, TP)\n",
    "print (roc_auc)"
   ]
  },
  {
   "cell_type": "code",
   "execution_count": 23,
   "metadata": {},
   "outputs": [],
   "source": [
    "models_result = get_result(models_result, model, confusion_matrix(Y_test,Y_predict))"
   ]
  },
  {
   "cell_type": "markdown",
   "metadata": {},
   "source": [
    "KNN Classifier With Balanced Dataset and GridSearchCV"
   ]
  },
  {
   "cell_type": "code",
   "execution_count": 24,
   "metadata": {},
   "outputs": [
    {
     "name": "stdout",
     "output_type": "stream",
     "text": [
      "{'n_neighbors': 9}\n"
     ]
    }
   ],
   "source": [
    "model = 'KNN SMOTE GS'\n",
    "param_grid = {'n_neighbors': np.arange(1, 20)}\n",
    "\n",
    "knn_cv = GridSearchCV(KNeighborsClassifier(), param_grid, cv=5, scoring='roc_auc')\n",
    "knn_cv.fit(X_train_os, Y_train_os)\n",
    "print(knn_cv.best_params_)"
   ]
  },
  {
   "cell_type": "code",
   "execution_count": 25,
   "metadata": {
    "collapsed": true
   },
   "outputs": [],
   "source": [
    "Y_predict = knn_cv.predict(X_test)"
   ]
  },
  {
   "cell_type": "code",
   "execution_count": 26,
   "metadata": {},
   "outputs": [
    {
     "name": "stdout",
     "output_type": "stream",
     "text": [
      "0.67105804858\n"
     ]
    }
   ],
   "source": [
    "FP, TP, thresholds = roc_curve(Y_test,Y_predict)\n",
    "roc_auc = auc(FP, TP)\n",
    "print (roc_auc)"
   ]
  },
  {
   "cell_type": "code",
   "execution_count": 27,
   "metadata": {
    "collapsed": true
   },
   "outputs": [],
   "source": [
    "models_result = get_result(models_result, model, confusion_matrix(Y_test,Y_predict))"
   ]
  },
  {
   "cell_type": "code",
   "execution_count": 28,
   "metadata": {},
   "outputs": [
    {
     "data": {
      "text/plain": [
       "{'C': 100, 'gamma': 1, 'kernel': 'rbf'}"
      ]
     },
     "execution_count": 28,
     "metadata": {},
     "output_type": "execute_result"
    }
   ],
   "source": [
    "model = 'SVC SMOTE GS'\n",
    "\n",
    "kernels = ['linear', 'poly', 'rbf', 'sigmoid']\n",
    "Cs = [0.01, 0.1, 1, 10, 100]\n",
    "gammas = [0.001, 0.01, 0.1, 1]\n",
    "param_grid = {'C': Cs, 'gamma' : gammas, 'kernel': kernels}\n",
    "\n",
    "svm_greed = GridSearchCV(svm.SVC(random_state=42), param_grid, cv=5, scoring='roc_auc')\n",
    "svm_greed.fit(X_train_os, Y_train_os)\n",
    "svm_greed.best_params_"
   ]
  },
  {
   "cell_type": "code",
   "execution_count": 29,
   "metadata": {
    "collapsed": true
   },
   "outputs": [],
   "source": [
    "Y_predict = svm_greed.predict(X_test)"
   ]
  },
  {
   "cell_type": "code",
   "execution_count": 30,
   "metadata": {},
   "outputs": [
    {
     "name": "stdout",
     "output_type": "stream",
     "text": [
      "0.579456566488\n"
     ]
    }
   ],
   "source": [
    "FP, TP, thresholds = roc_curve(Y_test,Y_predict)\n",
    "roc_auc = auc(FP, TP)\n",
    "print (roc_auc)"
   ]
  },
  {
   "cell_type": "code",
   "execution_count": 31,
   "metadata": {
    "collapsed": true
   },
   "outputs": [],
   "source": [
    "models_result = get_result(models_result, model, confusion_matrix(Y_test,Y_predict))"
   ]
  },
  {
   "cell_type": "code",
   "execution_count": 32,
   "metadata": {},
   "outputs": [
    {
     "data": {
      "text/plain": [
       "{'n_estimators': 31}"
      ]
     },
     "execution_count": 32,
     "metadata": {},
     "output_type": "execute_result"
    }
   ],
   "source": [
    "model = 'AdaBoost SMOTE GS'\n",
    "\n",
    "param_grid = {'n_estimators': np.arange(1, 32)}\n",
    "\n",
    "ada_greed = GridSearchCV(AdaBoostClassifier(random_state=42), param_grid, cv=5, scoring='roc_auc')\n",
    "ada_greed.fit(X_train_os, Y_train_os)\n",
    "ada_greed.best_params_"
   ]
  },
  {
   "cell_type": "code",
   "execution_count": 33,
   "metadata": {
    "collapsed": true
   },
   "outputs": [],
   "source": [
    "Y_predict = ada_greed.predict(X_test)"
   ]
  },
  {
   "cell_type": "code",
   "execution_count": 34,
   "metadata": {},
   "outputs": [
    {
     "name": "stdout",
     "output_type": "stream",
     "text": [
      "0.59386578839\n"
     ]
    }
   ],
   "source": [
    "FP, TP, thresholds = roc_curve(Y_test,Y_predict)\n",
    "roc_auc = auc(FP, TP)\n",
    "print (roc_auc)"
   ]
  },
  {
   "cell_type": "code",
   "execution_count": 35,
   "metadata": {
    "collapsed": true
   },
   "outputs": [],
   "source": [
    "models_result = get_result(models_result, model, confusion_matrix(Y_test,Y_predict))"
   ]
  },
  {
   "cell_type": "code",
   "execution_count": null,
   "metadata": {
    "collapsed": true
   },
   "outputs": [],
   "source": [
    "# # save the model to disk\n",
    "# filename = 'finalized_model.sav'\n",
    "# pickle.dump(knn_cv, open(filename, 'wb'))\n",
    "# loaded_model = pickle.load(open(filename, 'rb'))\n",
    "# result = loaded_model.score(X_test, Y_test)\n",
    "# print(result)"
   ]
  },
  {
   "cell_type": "code",
   "execution_count": null,
   "metadata": {},
   "outputs": [],
   "source": [
    "model = 'ExtraTree SMOTE GS'\n",
    "\n",
    "param_grid = {'criterion': ['gini', 'entropy'], 'max_depth': np.arange(1,15),\n",
    "             'n_jobs': np.arange(1,5), 'min_samples_split':np.arange(2, 40),\n",
    "             'n_estimators': np.arange(1, 32)}\n",
    "\n",
    "extra_model = GridSearchCV(ExtraTreesClassifier(random_state=42),param_grid, cv=5,scoring='roc_auc')\n",
    "extra_model.fit(X_train_os, Y_train_os)"
   ]
  },
  {
   "cell_type": "code",
   "execution_count": null,
   "metadata": {
    "collapsed": true
   },
   "outputs": [],
   "source": [
    "Y_predict = extra_model.predict(X_test)"
   ]
  },
  {
   "cell_type": "code",
   "execution_count": null,
   "metadata": {},
   "outputs": [],
   "source": [
    "FP, TP, thresholds = roc_curve(Y_test,Y_predict)\n",
    "roc_auc = auc(FP, TP)\n",
    "print (roc_auc)"
   ]
  },
  {
   "cell_type": "code",
   "execution_count": null,
   "metadata": {
    "collapsed": true
   },
   "outputs": [],
   "source": [
    "models_result = get_result(models_result, model, confusion_matrix(Y_test,Y_predict))"
   ]
  },
  {
   "cell_type": "code",
   "execution_count": null,
   "metadata": {},
   "outputs": [],
   "source": [
    "model = 'Dummy'\n",
    "\n",
    "dummy = DummyClassifier(random_state=42)\n",
    "dummy.fit(X_train_os, Y_train_os)"
   ]
  },
  {
   "cell_type": "code",
   "execution_count": null,
   "metadata": {
    "collapsed": true
   },
   "outputs": [],
   "source": [
    "Y_predict = dummy.predict(X_test)"
   ]
  },
  {
   "cell_type": "code",
   "execution_count": null,
   "metadata": {},
   "outputs": [],
   "source": [
    "FP, TP, thresholds = roc_curve(Y_test,Y_predict)\n",
    "roc_auc = auc(FP, TP)\n",
    "print (roc_auc)"
   ]
  },
  {
   "cell_type": "code",
   "execution_count": null,
   "metadata": {
    "collapsed": true
   },
   "outputs": [],
   "source": [
    "models_result = get_result(models_result, model, confusion_matrix(Y_test,Y_predict))"
   ]
  },
  {
   "cell_type": "code",
   "execution_count": null,
   "metadata": {
    "collapsed": true
   },
   "outputs": [],
   "source": [
    "model = 'Naive Bayes'\n",
    "\n",
    "gnb = GaussianNB(random_state=42)\n",
    "y_pred = gnb.fit(X_train_os, Y_train_os)"
   ]
  },
  {
   "cell_type": "code",
   "execution_count": null,
   "metadata": {
    "collapsed": true
   },
   "outputs": [],
   "source": [
    "Y_predict = gnb.predict(X_test)"
   ]
  },
  {
   "cell_type": "code",
   "execution_count": null,
   "metadata": {},
   "outputs": [],
   "source": [
    "FP, TP, thresholds = roc_curve(Y_test,Y_predict)\n",
    "roc_auc = auc(FP, TP)\n",
    "print (roc_auc)"
   ]
  },
  {
   "cell_type": "code",
   "execution_count": null,
   "metadata": {
    "collapsed": true
   },
   "outputs": [],
   "source": [
    "models_result = get_result(models_result, model, confusion_matrix(Y_test,Y_predict))"
   ]
  },
  {
   "cell_type": "code",
   "execution_count": null,
   "metadata": {},
   "outputs": [],
   "source": [
    "pd.DataFrame(models_result)"
   ]
  },
  {
   "cell_type": "code",
   "execution_count": null,
   "metadata": {
    "collapsed": true
   },
   "outputs": [],
   "source": [
    "importances = extra_model.feature_importances_\n",
    "std = np.std([tree.feature_importances_ for tree in extra_model.estimators_], axis=0)\n",
    "indices = np.argsort(importances)[::-1]\n",
    "feature_names = [X.columns[i] for i in indices]\n",
    "\n",
    "plt.figure(figsize=(15,6))\n",
    "plt.title(\"Feature importances\")\n",
    "plt.bar(range(X.shape[1]), importances[indices],\n",
    "       color=\"r\", yerr=std[indices], align=\"center\")\n",
    "plt.xticks(range(X.shape[1]), feature_names)\n",
    "plt.xlim([-1, X.shape[1]])\n",
    "plt.show()"
   ]
  }
 ],
 "metadata": {
  "kernelspec": {
   "display_name": "Python 3",
   "language": "python",
   "name": "python3"
  },
  "language_info": {
   "codemirror_mode": {
    "name": "ipython",
    "version": 3
   },
   "file_extension": ".py",
   "mimetype": "text/x-python",
   "name": "python",
   "nbconvert_exporter": "python",
   "pygments_lexer": "ipython3",
   "version": "3.6.3"
  }
 },
 "nbformat": 4,
 "nbformat_minor": 2
}
