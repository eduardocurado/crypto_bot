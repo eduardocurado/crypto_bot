{
 "cells": [
  {
   "cell_type": "code",
   "execution_count": 1,
   "metadata": {
    "collapsed": true,
    "nbpresent": {
     "id": "22666bca-72d0-4dbd-8a0b-ae44ce05cfcb"
    }
   },
   "outputs": [],
   "source": [
    "import numpy as np \n",
    "import pandas as pd \n",
    "import seaborn as sns \n",
    "import matplotlib.pyplot as plt \n",
    "import matplotlib.dates as mdates\n",
    "plt.style.use('ggplot') \n",
    "import calendar\n",
    "import quandl\n",
    "import pickle\n",
    "from datetime import datetime, timedelta\n",
    "import re  \n",
    "import psycopg2\n",
    "import sys\n",
    "import sqlalchemy\n",
    "from sqlalchemy.sql import select, and_, or_, not_, desc, asc\n",
    "from sqlalchemy import Table, Column, Integer, DateTime, String,Float, ForeignKey\n",
    "from sqlalchemy.orm import sessionmaker\n",
    "from sklearn.ensemble import RandomForestClassifier, AdaBoostClassifier, ExtraTreesClassifier\n",
    "from sklearn.metrics import confusion_matrix, classification_report\n",
    "from sklearn.metrics import roc_curve, auc\n",
    "from sklearn.model_selection import train_test_split\n",
    "from imblearn.over_sampling import SMOTE\n",
    "from sklearn.model_selection import cross_val_score, KFold\n",
    "from sklearn.neighbors import KNeighborsClassifier\n",
    "from sklearn.model_selection import cross_val_score\n",
    "from sklearn.preprocessing import scale\n",
    "from sklearn.model_selection import GridSearchCV\n",
    "from sklearn.tree import DecisionTreeClassifier\n",
    "from sklearn import svm\n",
    "from sklearn.dummy import DummyClassifier\n",
    "from sklearn.naive_bayes import GaussianNB\n",
    "from sklearn.preprocessing import scale,StandardScaler\n",
    "from sklearn.decomposition import PCA\n",
    "from imblearn.combine import SMOTEENN"
   ]
  },
  {
   "cell_type": "code",
   "execution_count": 2,
   "metadata": {
    "collapsed": true,
    "nbpresent": {
     "id": "a0639da2-5383-435a-b7cf-ff969fbbce46"
    }
   },
   "outputs": [],
   "source": [
    "# fig_size = plt.rcParams[\"figure.figsize\"]\n",
    "# fig_size[0] = 10\n",
    "# fig_size[1] = 10\n",
    "# plt.rcParams[\"figure.figsize\"] = fig_size"
   ]
  },
  {
   "cell_type": "code",
   "execution_count": 3,
   "metadata": {
    "collapsed": true,
    "nbpresent": {
     "id": "ca01e3fc-afd9-4109-b059-285cde48db1e"
    }
   },
   "outputs": [],
   "source": [
    "def connect(user, password, db, host='localhost', port=5432):\n",
    "    '''Returns a connection and a metadata object'''\n",
    "    # We connect with the help of the PostgreSQL URL\n",
    "    url = 'postgresql+psycopg2://{}:{}@{}:{}/{}'\n",
    "    url = url.format(user, password, host, port, db)\n",
    "\n",
    "    # The return value of create_engine() is our connection object\n",
    "    con = sqlalchemy.create_engine(url, client_encoding='utf8')\n",
    "\n",
    "    # We then bind the connection to MetaData()\n",
    "    meta = sqlalchemy.MetaData(bind=con)\n",
    "\n",
    "    return con, meta"
   ]
  },
  {
   "cell_type": "markdown",
   "metadata": {
    "nbpresent": {
     "id": "cfc1da92-5152-4cbe-83dc-06f086a99735"
    }
   },
   "source": [
    "CREATE TABLES "
   ]
  },
  {
   "cell_type": "code",
   "execution_count": 4,
   "metadata": {
    "collapsed": true,
    "nbpresent": {
     "id": "c3b31811-accd-4e26-b82d-04e60343335f"
    }
   },
   "outputs": [],
   "source": [
    "con, meta = connect('postgres', '', 'robotdb')\n",
    "    \n",
    "tickers = Table('Ticker', meta,\n",
    "    Column('date', DateTime, primary_key = True),\n",
    "    Column('coin', String, primary_key = True),\n",
    "    Column('price', Float),\n",
    "    Column('volume', Float),\n",
    "    Column('screen', String, primary_key = True)    \n",
    ")\n",
    "\n",
    "macd = Table('Macd', meta,\n",
    "    Column('date', DateTime, primary_key = True),\n",
    "    Column('coin', String, primary_key = True),\n",
    "    Column('ema12', Float),\n",
    "    Column('ema_26', Float),\n",
    "    Column('macd_line', Float),\n",
    "    Column('signal_line', Float),\n",
    "    Column('histogram', Float),\n",
    "    Column('screen', Integer, primary_key=True)\n",
    ")\n",
    "\n",
    "boillinger = Table('Boillinger', meta,\n",
    "                       Column('date', DateTime, primary_key=True),\n",
    "                       Column('coin', String, primary_key=True),\n",
    "                       Column('upper_band', Float),\n",
    "                       Column('lower_band', Float),\n",
    "                       Column('sma20', Float),\n",
    "                       Column('height', Float),\n",
    "                       Column('screen', Integer, primary_key=True)\n",
    "                       )\n",
    "\n",
    "ema = Table('Ema', meta,\n",
    "                Column('date', DateTime, primary_key=True),\n",
    "                Column('coin', String, primary_key=True),\n",
    "                Column('ema5', Float),\n",
    "                Column('ema20', Float),\n",
    "                Column('ema5_theta', Float),\n",
    "                Column('ema20_theta', Float),\n",
    "                Column('screen', Integer, primary_key=True)\n",
    "                )\n",
    "\n",
    "long_positions = Table('Long', meta,\n",
    "                       Column('id_position', Integer, primary_key=True),\n",
    "                       Column('coin', String, primary_key=True),\n",
    "                       Column('strategy', String),\n",
    "                       Column('size_position', Float),\n",
    "                       Column('date_ask', DateTime),\n",
    "                       Column('ask', Float),\n",
    "                       Column('date_settlement', DateTime),\n",
    "                       Column('settlement', Float),\n",
    "                       Column('take_profit', Float),\n",
    "                       Column('stop_loss', Float),\n",
    "                       Column('exit_date', DateTime),\n",
    "                       Column('exit_price', Float),\n",
    "                       Column('log_return', Float),\n",
    "                       Column('source', String),\n",
    "                       Column('status', String)\n",
    "                       )\n",
    "\n",
    "\n",
    "mkt_trend = Table('Market_trend', meta,\n",
    "                  Column('coin', String, primary_key=True),\n",
    "                  Column('date', DateTime, primary_key=True),\n",
    "                  Column('screen', Integer, primary_key=True),\n",
    "                  Column('dif_current', Float),\n",
    "                  Column('dif_base', Float),\n",
    "                  Column('d_dif', Float),\n",
    "                  Column('theta_current', Float),\n",
    "                  Column('theta_base', Float),\n",
    "                  Column('d_theta', Float),\n",
    "                  Column('max_growth', Float),\n",
    "                  Column('max_loss', Float),\n",
    "                  Column('vote', Integer)\n",
    "                  )\n",
    "\n",
    "\n",
    "rsi = Table('Rsi', meta,\n",
    "    Column('date', DateTime, primary_key = True),\n",
    "    Column('coin', String, primary_key = True),\n",
    "    Column('rsi', Float),\n",
    "    Column('screen', Integer, primary_key=True)\n",
    ")\n",
    "\n",
    "balances = Table('Balance', meta,\n",
    "                 Column('date', DateTime, primary_key=True),\n",
    "                 Column('coin', String, primary_key=True),\n",
    "                 Column('size_position', Float)\n",
    "                 )\n",
    "\n",
    "\n",
    "years = mdates.YearLocator()   # every year\n",
    "months = mdates.MonthLocator()  # every month\n",
    "yearsFmt = mdates.DateFormatter('%Y')"
   ]
  },
  {
   "cell_type": "code",
   "execution_count": 5,
   "metadata": {
    "collapsed": true,
    "nbpresent": {
     "id": "8b5ada16-9c1a-403b-9ccb-01c08535beda"
    }
   },
   "outputs": [],
   "source": [
    "def get_macds(coin = None, date = '2019-12-31', screen = 1):\n",
    "    if coin:\n",
    "        s = select([macd])\\\n",
    "            .where(and_(macd.c.coin == coin, macd.c.date <= date, macd.c.screen==screen))\\\n",
    "            .order_by(desc(macd.c.date))\n",
    "    else:\n",
    "         s = select([macd])\\\n",
    "            .where(and_(macd.c.date <= date, macd.c.screen==screen))\\\n",
    "            .order_by(desc(macd.c.date))\n",
    "            \n",
    "    rows = con.execute(s)\n",
    "    macd_df = pd.DataFrame(rows.fetchall()).iloc[::-1]\n",
    "    if not macd_df.empty:\n",
    "        macd_df.columns = rows.keys()\n",
    "    return macd_df\n",
    "\n",
    "def get_tickers(coin = None, date = '2019-12-31', screen = 1):\n",
    "    if coin:\n",
    "        s = select([tickers])\\\n",
    "            .where(and_(tickers.c.coin == coin, tickers.c.date <= date, tickers.c.screen == screen))\\\n",
    "            .order_by(\n",
    "            desc(tickers.c.date))\n",
    "    else:\n",
    "        s = select([tickers])\\\n",
    "            .where(and_(tickers.c.date <= date, tickers.c.screen == screen))\\\n",
    "            .order_by(\n",
    "            desc(tickers.c.date))\n",
    "    rows = con.execute(s)\n",
    "    tickers_df = pd.DataFrame(rows.fetchall()).iloc[::-1]\n",
    "    if not tickers_df.empty:\n",
    "        tickers_df.columns = rows.keys()\n",
    "    return tickers_df\n",
    "\n",
    "def get_emas(coin=None, date='2019-12-31', screen=1):\n",
    "    if coin:\n",
    "        s = select([ema])\\\n",
    "            .where(and_(ema.c.coin == coin, ema.c.date <= date, ema.c.screen == screen))\\\n",
    "            .order_by(ema.c.date.desc())\n",
    "    else:\n",
    "        s = select([ema])\\\n",
    "            .where(and_(ema.c.date <= date, ema.c.screen == screen))\\\n",
    "            .order_by(ema.c.date.desc())\n",
    "    rows = con.execute(s)\n",
    "    ema_df = pd.DataFrame(rows.fetchall()).iloc[::-1]\n",
    "    if not ema_df.empty:\n",
    "        ema_df.columns = rows.keys()\n",
    "    return ema_df\n",
    "\n",
    "def get_mkt_trend(coin=None, date='2019-12-31', screen=1):\n",
    "    if coin:\n",
    "        s = select([mkt_trend]).\\\n",
    "            where(and_(mkt_trend.c.coin == coin, mkt_trend.c.date <= date, mkt_trend.c.screen == screen)).\\\n",
    "            order_by(desc(mkt_trend.c.date))\n",
    "    else:\n",
    "        s = select([mkt_trend]).\\\n",
    "            where(and_(mkt_trend.c.date <= date, mkt_trend.c.screen == screen)).\\\n",
    "            order_by(desc(mkt_trend.c.date))\n",
    "    rows = con.execute(s)\n",
    "    mkt_trend_df = pd.DataFrame(rows.fetchall()).iloc[::-1]\n",
    "    mkt_trend_df.columns = rows.keys()\n",
    "    return mkt_trend_df\n",
    "\n",
    "def get_rsis(coin=None, date='2019-12-31', screen=1):\n",
    "    if coin:\n",
    "        s = select([rsi]) \\\n",
    "            .where(and_(rsi.c.coin == coin,\n",
    "                        rsi.c.date <= date,\n",
    "                       rsi.c.screen == screen))\\\n",
    "            .order_by(desc(rsi.c.date))\n",
    "    else:\n",
    "        s = select([rsi]) \\\n",
    "            .where(and_(rsi.c.date <= date,\n",
    "                        rsi.c.screen == screen\n",
    "                       ))\\\n",
    "            .order_by(desc(rsi.c.date))\n",
    "    rows = con.execute(s)\n",
    "    rsi_df = pd.DataFrame(rows.fetchall()).iloc[::-1]\n",
    "    if not rsi_df.empty:\n",
    "        rsi_df.columns = rows.keys()\n",
    "    return rsi_df"
   ]
  },
  {
   "cell_type": "code",
   "execution_count": 6,
   "metadata": {
    "collapsed": true,
    "nbpresent": {
     "id": "107dfb91-c426-4580-89e0-f3f92403f2f1"
    },
    "scrolled": false
   },
   "outputs": [],
   "source": [
    "def manipulate_mkt_data():\n",
    "    mkt_trend_df = get_mkt_trend()\n",
    "    tickers_df_two = get_tickers()\n",
    "    macds_df = get_macds()\n",
    "    tickers_df = pd.merge(tickers_df_two, macds_df, how='inner', left_on=['date', 'coin'], right_on=['date', 'coin'])\n",
    "    tickers_df['ema_dif'] = np.log(tickers_df['price']/tickers_df['ema12'])\n",
    "    df = pd.merge(mkt_trend_df, tickers_df, how='inner', left_on=['date', 'coin'], right_on=['date', 'coin'])\n",
    "    rsis_df = get_rsis()\n",
    "    df = pd.merge(df, rsis_df, how='inner', left_on=['date', 'coin'], right_on=['date', 'coin'])\n",
    "    return df\n",
    "    \n",
    "df = manipulate_mkt_data()"
   ]
  },
  {
   "cell_type": "code",
   "execution_count": 7,
   "metadata": {
    "collapsed": true
   },
   "outputs": [],
   "source": [
    "df.loc[df['max_growth'] >= 0.07, 'growth_sign'] = 1\n",
    "df.loc[df['max_growth'] < 0.07, 'growth_sign'] = 0\n",
    "df.loc[df['max_loss'] <= -0.05, 'loss_sign'] = 1\n",
    "df.loc[df['max_loss'] > -0.05, 'loss_sign'] = 0\n",
    "df['rsi'] = df['rsi']/100"
   ]
  },
  {
   "cell_type": "code",
   "execution_count": 8,
   "metadata": {
    "scrolled": false
   },
   "outputs": [],
   "source": [
    "full_data_set = df[['coin', 'date', 'dif_base', 'dif_current', 'd_dif',\n",
    "                    'theta_base', 'theta_current','d_theta',\n",
    "                    'rsi','ema_dif', \n",
    "                    'max_growth', 'max_loss', 'loss_sign','growth_sign']]\n",
    "\n",
    "dates_ = full_data_set[['date']]\n",
    "shifted_parms = full_data_set[['coin', 'dif_current', 'theta_current']].shift(2)\n",
    "shifted_parms['date'] = dates_\n",
    "full_data_set = pd.merge(full_data_set, shifted_parms, how='inner', left_on=['date', 'coin'], right_on=['date', 'coin'])\n",
    "full_data_set.head()\n",
    "full_data_set['dif_current'] = full_data_set['dif_current_x']\n",
    "full_data_set['theta_current'] = full_data_set['theta_current_x']\n",
    "full_data_set['dif_base_p'] = full_data_set['dif_current_y']\n",
    "full_data_set['theta_base_p'] = full_data_set['theta_current_y']"
   ]
  },
  {
   "cell_type": "code",
   "execution_count": 9,
   "metadata": {
    "collapsed": true
   },
   "outputs": [],
   "source": [
    "df_model = full_data_set.sort_values(['date'])"
   ]
  },
  {
   "cell_type": "code",
   "execution_count": 10,
   "metadata": {},
   "outputs": [
    {
     "name": "stdout",
     "output_type": "stream",
     "text": [
      "USDT_BTC\n"
     ]
    }
   ],
   "source": [
    "def get_strength_index():\n",
    "    tickers_df_two = get_tickers()\n",
    "    for c in tickers_df_two.coin.unique():\n",
    "        tickers_df_two_c = tickers_df_two[tickers_df_two['coin'] == c]\n",
    "        print(c)\n",
    "        # 6 * 4h = 24h\n",
    "        delta_t = 1\n",
    "        si_np = [np.nan]\n",
    "        for index in range(len(tickers_df_two_c)):\n",
    "            base_price = tickers_df_two_c.iloc[index].price\n",
    "            if index >= (len(tickers_df_two_c)-delta_t):\n",
    "                break\n",
    "            current_price = tickers_df_two_c.iloc[index+1].price\n",
    "            volume = tickers_df_two_c.iloc[index+1].volume\n",
    "            si = (current_price - base_price) * volume\n",
    "            si_np.append(si)\n",
    "        tickers_df_two_c['strength'] = si_np\n",
    "    return tickers_df_two_c.dropna()\n",
    "\n",
    "df_model = pd.merge(df_model, get_strength_index(), how='inner',\n",
    "                    left_on=['date', 'coin'], right_on=['date', 'coin'])\n",
    "df_model['ema_s'] = df_model.drop(['date', 'coin'], axis=1).strength.\\\n",
    "                    ewm(span=2, min_periods=2, adjust=True, ignore_na=False).mean()\n",
    "df_model['strength'] = StandardScaler().fit_transform(df_model['strength'].values.reshape(-1,1))"
   ]
  },
  {
   "cell_type": "code",
   "execution_count": 11,
   "metadata": {},
   "outputs": [],
   "source": [
    "dates_ = df_model[['date']]\n",
    "shifted_parms = df_model[['coin', 'max_growth', 'max_loss']].shift(1)\n",
    "shifted_parms['date'] = dates_\n",
    "df_model = pd.merge(df_model, shifted_parms, how='inner', left_on=['date', 'coin'], right_on=['date', 'coin'])\n",
    "df_model.head()\n",
    "df_model['max_growth'] = df_model['max_growth_x']\n",
    "df_model['max_loss'] = df_model['max_loss_x']\n",
    "df_model['max_growth_p'] = df_model['max_growth_y']\n",
    "df_model['max_loss_p'] = df_model['max_loss_y']"
   ]
  },
  {
   "cell_type": "code",
   "execution_count": 12,
   "metadata": {},
   "outputs": [],
   "source": [
    "df_model['theta_ema'] = df_model.theta_current.ewm(span=6,min_periods=6,adjust=True,ignore_na=False).mean()\n",
    "df_model['dif_ema'] = df_model.dif_current.ewm(span=6,min_periods=6,adjust=True,ignore_na=False).mean()\n",
    "df_model['strength_ema'] = df_model.strength.ewm(span=6,min_periods=6,adjust=True,ignore_na=False).mean()\n",
    "df_model = df_model.dropna()"
   ]
  },
  {
   "cell_type": "code",
   "execution_count": 13,
   "metadata": {},
   "outputs": [
    {
     "data": {
      "text/html": [
       "<div>\n",
       "<style>\n",
       "    .dataframe thead tr:only-child th {\n",
       "        text-align: right;\n",
       "    }\n",
       "\n",
       "    .dataframe thead th {\n",
       "        text-align: left;\n",
       "    }\n",
       "\n",
       "    .dataframe tbody tr th {\n",
       "        vertical-align: top;\n",
       "    }\n",
       "</style>\n",
       "<table border=\"1\" class=\"dataframe\">\n",
       "  <thead>\n",
       "    <tr style=\"text-align: right;\">\n",
       "      <th></th>\n",
       "      <th>coin</th>\n",
       "      <th>date</th>\n",
       "      <th>dif_base</th>\n",
       "      <th>dif_current_x</th>\n",
       "      <th>d_dif</th>\n",
       "      <th>theta_base</th>\n",
       "      <th>theta_current_x</th>\n",
       "      <th>d_theta</th>\n",
       "      <th>rsi</th>\n",
       "      <th>ema_dif</th>\n",
       "      <th>...</th>\n",
       "      <th>ema_s</th>\n",
       "      <th>max_growth_y</th>\n",
       "      <th>max_loss_y</th>\n",
       "      <th>max_growth</th>\n",
       "      <th>max_loss</th>\n",
       "      <th>max_growth_p</th>\n",
       "      <th>max_loss_p</th>\n",
       "      <th>theta_ema</th>\n",
       "      <th>dif_ema</th>\n",
       "      <th>strength_ema</th>\n",
       "    </tr>\n",
       "  </thead>\n",
       "  <tbody>\n",
       "    <tr>\n",
       "      <th>5</th>\n",
       "      <td>USDT_BTC</td>\n",
       "      <td>2017-04-11 17:10:00</td>\n",
       "      <td>0.006133</td>\n",
       "      <td>0.006610</td>\n",
       "      <td>0.077833</td>\n",
       "      <td>0.232838</td>\n",
       "      <td>0.248712</td>\n",
       "      <td>0.068179</td>\n",
       "      <td>0.527584</td>\n",
       "      <td>0.011039</td>\n",
       "      <td>...</td>\n",
       "      <td>4.944466e+06</td>\n",
       "      <td>0.009677</td>\n",
       "      <td>-0.004194</td>\n",
       "      <td>0.007832</td>\n",
       "      <td>-0.003870</td>\n",
       "      <td>0.009677</td>\n",
       "      <td>-0.004194</td>\n",
       "      <td>0.115358</td>\n",
       "      <td>0.006023</td>\n",
       "      <td>0.027626</td>\n",
       "    </tr>\n",
       "    <tr>\n",
       "      <th>6</th>\n",
       "      <td>USDT_BTC</td>\n",
       "      <td>2017-04-11 21:10:00</td>\n",
       "      <td>0.006610</td>\n",
       "      <td>0.006912</td>\n",
       "      <td>0.045624</td>\n",
       "      <td>0.248712</td>\n",
       "      <td>0.047397</td>\n",
       "      <td>-0.809430</td>\n",
       "      <td>0.459565</td>\n",
       "      <td>0.007796</td>\n",
       "      <td>...</td>\n",
       "      <td>9.811918e+05</td>\n",
       "      <td>0.007832</td>\n",
       "      <td>-0.003870</td>\n",
       "      <td>0.003844</td>\n",
       "      <td>-0.009983</td>\n",
       "      <td>0.007832</td>\n",
       "      <td>-0.003870</td>\n",
       "      <td>0.093905</td>\n",
       "      <td>0.006304</td>\n",
       "      <td>0.027386</td>\n",
       "    </tr>\n",
       "    <tr>\n",
       "      <th>7</th>\n",
       "      <td>USDT_BTC</td>\n",
       "      <td>2017-04-12 01:10:00</td>\n",
       "      <td>0.006912</td>\n",
       "      <td>0.007138</td>\n",
       "      <td>0.032757</td>\n",
       "      <td>0.047397</td>\n",
       "      <td>-0.035402</td>\n",
       "      <td>-1.746920</td>\n",
       "      <td>0.451856</td>\n",
       "      <td>0.007446</td>\n",
       "      <td>...</td>\n",
       "      <td>9.209910e+05</td>\n",
       "      <td>0.003844</td>\n",
       "      <td>-0.009983</td>\n",
       "      <td>0.000851</td>\n",
       "      <td>-0.011367</td>\n",
       "      <td>0.003844</td>\n",
       "      <td>-0.009983</td>\n",
       "      <td>0.054275</td>\n",
       "      <td>0.006559</td>\n",
       "      <td>0.027303</td>\n",
       "    </tr>\n",
       "    <tr>\n",
       "      <th>8</th>\n",
       "      <td>USDT_BTC</td>\n",
       "      <td>2017-04-12 05:10:00</td>\n",
       "      <td>0.007138</td>\n",
       "      <td>0.006687</td>\n",
       "      <td>-0.063206</td>\n",
       "      <td>-0.014385</td>\n",
       "      <td>0.011980</td>\n",
       "      <td>-1.832818</td>\n",
       "      <td>0.445857</td>\n",
       "      <td>0.001283</td>\n",
       "      <td>...</td>\n",
       "      <td>-6.522297e+06</td>\n",
       "      <td>0.000851</td>\n",
       "      <td>-0.011367</td>\n",
       "      <td>0.006502</td>\n",
       "      <td>-0.004170</td>\n",
       "      <td>0.000851</td>\n",
       "      <td>-0.011367</td>\n",
       "      <td>0.041576</td>\n",
       "      <td>0.006598</td>\n",
       "      <td>0.026800</td>\n",
       "    </tr>\n",
       "    <tr>\n",
       "      <th>9</th>\n",
       "      <td>USDT_BTC</td>\n",
       "      <td>2017-04-12 09:10:00</td>\n",
       "      <td>0.006687</td>\n",
       "      <td>0.006618</td>\n",
       "      <td>-0.010247</td>\n",
       "      <td>0.094369</td>\n",
       "      <td>-0.200578</td>\n",
       "      <td>-3.125462</td>\n",
       "      <td>0.453477</td>\n",
       "      <td>0.004954</td>\n",
       "      <td>...</td>\n",
       "      <td>1.295983e+06</td>\n",
       "      <td>0.006502</td>\n",
       "      <td>-0.004170</td>\n",
       "      <td>0.001045</td>\n",
       "      <td>-0.009044</td>\n",
       "      <td>0.006502</td>\n",
       "      <td>-0.004170</td>\n",
       "      <td>-0.030088</td>\n",
       "      <td>0.006604</td>\n",
       "      <td>0.027065</td>\n",
       "    </tr>\n",
       "  </tbody>\n",
       "</table>\n",
       "<p>5 rows × 34 columns</p>\n",
       "</div>"
      ],
      "text/plain": [
       "       coin                date  dif_base  dif_current_x     d_dif  \\\n",
       "5  USDT_BTC 2017-04-11 17:10:00  0.006133       0.006610  0.077833   \n",
       "6  USDT_BTC 2017-04-11 21:10:00  0.006610       0.006912  0.045624   \n",
       "7  USDT_BTC 2017-04-12 01:10:00  0.006912       0.007138  0.032757   \n",
       "8  USDT_BTC 2017-04-12 05:10:00  0.007138       0.006687 -0.063206   \n",
       "9  USDT_BTC 2017-04-12 09:10:00  0.006687       0.006618 -0.010247   \n",
       "\n",
       "   theta_base  theta_current_x   d_theta       rsi   ema_dif      ...       \\\n",
       "5    0.232838         0.248712  0.068179  0.527584  0.011039      ...        \n",
       "6    0.248712         0.047397 -0.809430  0.459565  0.007796      ...        \n",
       "7    0.047397        -0.035402 -1.746920  0.451856  0.007446      ...        \n",
       "8   -0.014385         0.011980 -1.832818  0.445857  0.001283      ...        \n",
       "9    0.094369        -0.200578 -3.125462  0.453477  0.004954      ...        \n",
       "\n",
       "          ema_s  max_growth_y  max_loss_y  max_growth  max_loss  max_growth_p  \\\n",
       "5  4.944466e+06      0.009677   -0.004194    0.007832 -0.003870      0.009677   \n",
       "6  9.811918e+05      0.007832   -0.003870    0.003844 -0.009983      0.007832   \n",
       "7  9.209910e+05      0.003844   -0.009983    0.000851 -0.011367      0.003844   \n",
       "8 -6.522297e+06      0.000851   -0.011367    0.006502 -0.004170      0.000851   \n",
       "9  1.295983e+06      0.006502   -0.004170    0.001045 -0.009044      0.006502   \n",
       "\n",
       "   max_loss_p  theta_ema   dif_ema  strength_ema  \n",
       "5   -0.004194   0.115358  0.006023      0.027626  \n",
       "6   -0.003870   0.093905  0.006304      0.027386  \n",
       "7   -0.009983   0.054275  0.006559      0.027303  \n",
       "8   -0.011367   0.041576  0.006598      0.026800  \n",
       "9   -0.004170  -0.030088  0.006604      0.027065  \n",
       "\n",
       "[5 rows x 34 columns]"
      ]
     },
     "execution_count": 13,
     "metadata": {},
     "output_type": "execute_result"
    }
   ],
   "source": [
    "df_model = df_model[~(np.abs(df_model.d_dif-df.d_dif.mean())>(3*df_model.d_dif.std()))]\n",
    "df_model = df_model[~(np.abs(df_model.strength_ema-df_model.strength_ema.mean())>(3*df_model.strength_ema.std()))]\n",
    "df_model = df_model[~(np.abs(df_model.d_theta-df.d_theta.mean())>(3*df_model.d_theta.std()))]\n",
    "df_model.head()"
   ]
  },
  {
   "cell_type": "code",
   "execution_count": 14,
   "metadata": {},
   "outputs": [
    {
     "data": {
      "text/html": [
       "<div>\n",
       "<style>\n",
       "    .dataframe thead tr:only-child th {\n",
       "        text-align: right;\n",
       "    }\n",
       "\n",
       "    .dataframe thead th {\n",
       "        text-align: left;\n",
       "    }\n",
       "\n",
       "    .dataframe tbody tr th {\n",
       "        vertical-align: top;\n",
       "    }\n",
       "</style>\n",
       "<table border=\"1\" class=\"dataframe\">\n",
       "  <thead>\n",
       "    <tr style=\"text-align: right;\">\n",
       "      <th></th>\n",
       "      <th>dif_current</th>\n",
       "      <th>dif_ema</th>\n",
       "      <th>dif_base</th>\n",
       "      <th>dif_base_p</th>\n",
       "      <th>d_dif</th>\n",
       "      <th>theta_current</th>\n",
       "      <th>theta_ema</th>\n",
       "      <th>theta_base</th>\n",
       "      <th>theta_base_p</th>\n",
       "      <th>d_theta</th>\n",
       "      <th>strength</th>\n",
       "      <th>strength_ema</th>\n",
       "      <th>max_loss</th>\n",
       "      <th>max_loss_p</th>\n",
       "      <th>loss_sign</th>\n",
       "      <th>max_growth</th>\n",
       "      <th>max_growth_p</th>\n",
       "      <th>growth_sign</th>\n",
       "      <th>rsi</th>\n",
       "      <th>ema_dif</th>\n",
       "    </tr>\n",
       "  </thead>\n",
       "  <tbody>\n",
       "    <tr>\n",
       "      <th>5</th>\n",
       "      <td>0.006610</td>\n",
       "      <td>0.006023</td>\n",
       "      <td>0.006133</td>\n",
       "      <td>0.005476</td>\n",
       "      <td>0.077833</td>\n",
       "      <td>0.248712</td>\n",
       "      <td>0.115358</td>\n",
       "      <td>0.232838</td>\n",
       "      <td>0.043722</td>\n",
       "      <td>0.068179</td>\n",
       "      <td>0.027383</td>\n",
       "      <td>0.027626</td>\n",
       "      <td>-0.003870</td>\n",
       "      <td>-0.004194</td>\n",
       "      <td>0.0</td>\n",
       "      <td>0.007832</td>\n",
       "      <td>0.009677</td>\n",
       "      <td>0.0</td>\n",
       "      <td>0.527584</td>\n",
       "      <td>0.011039</td>\n",
       "    </tr>\n",
       "    <tr>\n",
       "      <th>6</th>\n",
       "      <td>0.006912</td>\n",
       "      <td>0.006304</td>\n",
       "      <td>0.006610</td>\n",
       "      <td>0.006133</td>\n",
       "      <td>0.045624</td>\n",
       "      <td>0.047397</td>\n",
       "      <td>0.093905</td>\n",
       "      <td>0.248712</td>\n",
       "      <td>0.232838</td>\n",
       "      <td>-0.809430</td>\n",
       "      <td>0.026864</td>\n",
       "      <td>0.027386</td>\n",
       "      <td>-0.009983</td>\n",
       "      <td>-0.003870</td>\n",
       "      <td>0.0</td>\n",
       "      <td>0.003844</td>\n",
       "      <td>0.007832</td>\n",
       "      <td>0.0</td>\n",
       "      <td>0.459565</td>\n",
       "      <td>0.007796</td>\n",
       "    </tr>\n",
       "    <tr>\n",
       "      <th>7</th>\n",
       "      <td>0.007138</td>\n",
       "      <td>0.006559</td>\n",
       "      <td>0.006912</td>\n",
       "      <td>0.006610</td>\n",
       "      <td>0.032757</td>\n",
       "      <td>-0.035402</td>\n",
       "      <td>0.054275</td>\n",
       "      <td>0.047397</td>\n",
       "      <td>0.248712</td>\n",
       "      <td>-1.746920</td>\n",
       "      <td>0.027118</td>\n",
       "      <td>0.027303</td>\n",
       "      <td>-0.011367</td>\n",
       "      <td>-0.009983</td>\n",
       "      <td>0.0</td>\n",
       "      <td>0.000851</td>\n",
       "      <td>0.003844</td>\n",
       "      <td>0.0</td>\n",
       "      <td>0.451856</td>\n",
       "      <td>0.007446</td>\n",
       "    </tr>\n",
       "    <tr>\n",
       "      <th>8</th>\n",
       "      <td>0.006687</td>\n",
       "      <td>0.006598</td>\n",
       "      <td>0.007138</td>\n",
       "      <td>0.006912</td>\n",
       "      <td>-0.063206</td>\n",
       "      <td>0.011980</td>\n",
       "      <td>0.041576</td>\n",
       "      <td>-0.014385</td>\n",
       "      <td>0.047397</td>\n",
       "      <td>-1.832818</td>\n",
       "      <td>0.025626</td>\n",
       "      <td>0.026800</td>\n",
       "      <td>-0.004170</td>\n",
       "      <td>-0.011367</td>\n",
       "      <td>0.0</td>\n",
       "      <td>0.006502</td>\n",
       "      <td>0.000851</td>\n",
       "      <td>0.0</td>\n",
       "      <td>0.445857</td>\n",
       "      <td>0.001283</td>\n",
       "    </tr>\n",
       "    <tr>\n",
       "      <th>9</th>\n",
       "      <td>0.006618</td>\n",
       "      <td>0.006604</td>\n",
       "      <td>0.006687</td>\n",
       "      <td>0.007138</td>\n",
       "      <td>-0.010247</td>\n",
       "      <td>-0.200578</td>\n",
       "      <td>-0.030088</td>\n",
       "      <td>0.094369</td>\n",
       "      <td>-0.035402</td>\n",
       "      <td>-3.125462</td>\n",
       "      <td>0.027695</td>\n",
       "      <td>0.027065</td>\n",
       "      <td>-0.009044</td>\n",
       "      <td>-0.004170</td>\n",
       "      <td>0.0</td>\n",
       "      <td>0.001045</td>\n",
       "      <td>0.006502</td>\n",
       "      <td>0.0</td>\n",
       "      <td>0.453477</td>\n",
       "      <td>0.004954</td>\n",
       "    </tr>\n",
       "  </tbody>\n",
       "</table>\n",
       "</div>"
      ],
      "text/plain": [
       "   dif_current   dif_ema  dif_base  dif_base_p     d_dif  theta_current  \\\n",
       "5     0.006610  0.006023  0.006133    0.005476  0.077833       0.248712   \n",
       "6     0.006912  0.006304  0.006610    0.006133  0.045624       0.047397   \n",
       "7     0.007138  0.006559  0.006912    0.006610  0.032757      -0.035402   \n",
       "8     0.006687  0.006598  0.007138    0.006912 -0.063206       0.011980   \n",
       "9     0.006618  0.006604  0.006687    0.007138 -0.010247      -0.200578   \n",
       "\n",
       "   theta_ema  theta_base  theta_base_p   d_theta  strength  strength_ema  \\\n",
       "5   0.115358    0.232838      0.043722  0.068179  0.027383      0.027626   \n",
       "6   0.093905    0.248712      0.232838 -0.809430  0.026864      0.027386   \n",
       "7   0.054275    0.047397      0.248712 -1.746920  0.027118      0.027303   \n",
       "8   0.041576   -0.014385      0.047397 -1.832818  0.025626      0.026800   \n",
       "9  -0.030088    0.094369     -0.035402 -3.125462  0.027695      0.027065   \n",
       "\n",
       "   max_loss  max_loss_p  loss_sign  max_growth  max_growth_p  growth_sign  \\\n",
       "5 -0.003870   -0.004194        0.0    0.007832      0.009677          0.0   \n",
       "6 -0.009983   -0.003870        0.0    0.003844      0.007832          0.0   \n",
       "7 -0.011367   -0.009983        0.0    0.000851      0.003844          0.0   \n",
       "8 -0.004170   -0.011367        0.0    0.006502      0.000851          0.0   \n",
       "9 -0.009044   -0.004170        0.0    0.001045      0.006502          0.0   \n",
       "\n",
       "        rsi   ema_dif  \n",
       "5  0.527584  0.011039  \n",
       "6  0.459565  0.007796  \n",
       "7  0.451856  0.007446  \n",
       "8  0.445857  0.001283  \n",
       "9  0.453477  0.004954  "
      ]
     },
     "execution_count": 14,
     "metadata": {},
     "output_type": "execute_result"
    }
   ],
   "source": [
    "df_model = df_model.drop(['date', 'coin'], axis =1 )\n",
    "difs = ['dif_current', 'dif_ema', 'dif_base', 'dif_base_p', 'd_dif']\n",
    "thetas = ['theta_current', 'theta_ema','theta_base', 'theta_base_p', 'd_theta']\n",
    "strengths = ['strength', 'strength_ema',]\n",
    "losses = ['max_loss', 'max_loss_p', 'loss_sign']\n",
    "growths = ['max_growth', 'max_growth_p', 'growth_sign']\n",
    "others = ['rsi', 'ema_dif']\n",
    "df = df_model[difs + thetas + strengths + losses + growths + others]\n",
    "df.head()"
   ]
  },
  {
   "cell_type": "code",
   "execution_count": 15,
   "metadata": {
    "collapsed": true
   },
   "outputs": [],
   "source": [
    "df.to_pickle(\"historical_mkt.pkl\")"
   ]
  },
  {
   "cell_type": "code",
   "execution_count": 16,
   "metadata": {},
   "outputs": [
    {
     "data": {
      "text/html": [
       "<div>\n",
       "<style>\n",
       "    .dataframe thead tr:only-child th {\n",
       "        text-align: right;\n",
       "    }\n",
       "\n",
       "    .dataframe thead th {\n",
       "        text-align: left;\n",
       "    }\n",
       "\n",
       "    .dataframe tbody tr th {\n",
       "        vertical-align: top;\n",
       "    }\n",
       "</style>\n",
       "<table border=\"1\" class=\"dataframe\">\n",
       "  <thead>\n",
       "    <tr style=\"text-align: right;\">\n",
       "      <th></th>\n",
       "      <th>dif_current</th>\n",
       "      <th>dif_ema</th>\n",
       "      <th>dif_base</th>\n",
       "      <th>dif_base_p</th>\n",
       "      <th>d_dif</th>\n",
       "      <th>theta_current</th>\n",
       "      <th>theta_ema</th>\n",
       "      <th>theta_base</th>\n",
       "      <th>theta_base_p</th>\n",
       "      <th>d_theta</th>\n",
       "      <th>strength</th>\n",
       "      <th>strength_ema</th>\n",
       "      <th>max_loss</th>\n",
       "      <th>max_loss_p</th>\n",
       "      <th>loss_sign</th>\n",
       "      <th>max_growth</th>\n",
       "      <th>max_growth_p</th>\n",
       "      <th>growth_sign</th>\n",
       "      <th>rsi</th>\n",
       "      <th>ema_dif</th>\n",
       "    </tr>\n",
       "  </thead>\n",
       "  <tbody>\n",
       "    <tr>\n",
       "      <th>5</th>\n",
       "      <td>0.006610</td>\n",
       "      <td>0.006023</td>\n",
       "      <td>0.006133</td>\n",
       "      <td>0.005476</td>\n",
       "      <td>0.077833</td>\n",
       "      <td>0.248712</td>\n",
       "      <td>0.115358</td>\n",
       "      <td>0.232838</td>\n",
       "      <td>0.043722</td>\n",
       "      <td>0.068179</td>\n",
       "      <td>0.027383</td>\n",
       "      <td>0.027626</td>\n",
       "      <td>-0.003870</td>\n",
       "      <td>-0.004194</td>\n",
       "      <td>0.0</td>\n",
       "      <td>0.007832</td>\n",
       "      <td>0.009677</td>\n",
       "      <td>0.0</td>\n",
       "      <td>0.527584</td>\n",
       "      <td>0.011039</td>\n",
       "    </tr>\n",
       "    <tr>\n",
       "      <th>6</th>\n",
       "      <td>0.006912</td>\n",
       "      <td>0.006304</td>\n",
       "      <td>0.006610</td>\n",
       "      <td>0.006133</td>\n",
       "      <td>0.045624</td>\n",
       "      <td>0.047397</td>\n",
       "      <td>0.093905</td>\n",
       "      <td>0.248712</td>\n",
       "      <td>0.232838</td>\n",
       "      <td>-0.809430</td>\n",
       "      <td>0.026864</td>\n",
       "      <td>0.027386</td>\n",
       "      <td>-0.009983</td>\n",
       "      <td>-0.003870</td>\n",
       "      <td>0.0</td>\n",
       "      <td>0.003844</td>\n",
       "      <td>0.007832</td>\n",
       "      <td>0.0</td>\n",
       "      <td>0.459565</td>\n",
       "      <td>0.007796</td>\n",
       "    </tr>\n",
       "    <tr>\n",
       "      <th>7</th>\n",
       "      <td>0.007138</td>\n",
       "      <td>0.006559</td>\n",
       "      <td>0.006912</td>\n",
       "      <td>0.006610</td>\n",
       "      <td>0.032757</td>\n",
       "      <td>-0.035402</td>\n",
       "      <td>0.054275</td>\n",
       "      <td>0.047397</td>\n",
       "      <td>0.248712</td>\n",
       "      <td>-1.746920</td>\n",
       "      <td>0.027118</td>\n",
       "      <td>0.027303</td>\n",
       "      <td>-0.011367</td>\n",
       "      <td>-0.009983</td>\n",
       "      <td>0.0</td>\n",
       "      <td>0.000851</td>\n",
       "      <td>0.003844</td>\n",
       "      <td>0.0</td>\n",
       "      <td>0.451856</td>\n",
       "      <td>0.007446</td>\n",
       "    </tr>\n",
       "    <tr>\n",
       "      <th>8</th>\n",
       "      <td>0.006687</td>\n",
       "      <td>0.006598</td>\n",
       "      <td>0.007138</td>\n",
       "      <td>0.006912</td>\n",
       "      <td>-0.063206</td>\n",
       "      <td>0.011980</td>\n",
       "      <td>0.041576</td>\n",
       "      <td>-0.014385</td>\n",
       "      <td>0.047397</td>\n",
       "      <td>-1.832818</td>\n",
       "      <td>0.025626</td>\n",
       "      <td>0.026800</td>\n",
       "      <td>-0.004170</td>\n",
       "      <td>-0.011367</td>\n",
       "      <td>0.0</td>\n",
       "      <td>0.006502</td>\n",
       "      <td>0.000851</td>\n",
       "      <td>0.0</td>\n",
       "      <td>0.445857</td>\n",
       "      <td>0.001283</td>\n",
       "    </tr>\n",
       "    <tr>\n",
       "      <th>9</th>\n",
       "      <td>0.006618</td>\n",
       "      <td>0.006604</td>\n",
       "      <td>0.006687</td>\n",
       "      <td>0.007138</td>\n",
       "      <td>-0.010247</td>\n",
       "      <td>-0.200578</td>\n",
       "      <td>-0.030088</td>\n",
       "      <td>0.094369</td>\n",
       "      <td>-0.035402</td>\n",
       "      <td>-3.125462</td>\n",
       "      <td>0.027695</td>\n",
       "      <td>0.027065</td>\n",
       "      <td>-0.009044</td>\n",
       "      <td>-0.004170</td>\n",
       "      <td>0.0</td>\n",
       "      <td>0.001045</td>\n",
       "      <td>0.006502</td>\n",
       "      <td>0.0</td>\n",
       "      <td>0.453477</td>\n",
       "      <td>0.004954</td>\n",
       "    </tr>\n",
       "  </tbody>\n",
       "</table>\n",
       "</div>"
      ],
      "text/plain": [
       "   dif_current   dif_ema  dif_base  dif_base_p     d_dif  theta_current  \\\n",
       "5     0.006610  0.006023  0.006133    0.005476  0.077833       0.248712   \n",
       "6     0.006912  0.006304  0.006610    0.006133  0.045624       0.047397   \n",
       "7     0.007138  0.006559  0.006912    0.006610  0.032757      -0.035402   \n",
       "8     0.006687  0.006598  0.007138    0.006912 -0.063206       0.011980   \n",
       "9     0.006618  0.006604  0.006687    0.007138 -0.010247      -0.200578   \n",
       "\n",
       "   theta_ema  theta_base  theta_base_p   d_theta  strength  strength_ema  \\\n",
       "5   0.115358    0.232838      0.043722  0.068179  0.027383      0.027626   \n",
       "6   0.093905    0.248712      0.232838 -0.809430  0.026864      0.027386   \n",
       "7   0.054275    0.047397      0.248712 -1.746920  0.027118      0.027303   \n",
       "8   0.041576   -0.014385      0.047397 -1.832818  0.025626      0.026800   \n",
       "9  -0.030088    0.094369     -0.035402 -3.125462  0.027695      0.027065   \n",
       "\n",
       "   max_loss  max_loss_p  loss_sign  max_growth  max_growth_p  growth_sign  \\\n",
       "5 -0.003870   -0.004194        0.0    0.007832      0.009677          0.0   \n",
       "6 -0.009983   -0.003870        0.0    0.003844      0.007832          0.0   \n",
       "7 -0.011367   -0.009983        0.0    0.000851      0.003844          0.0   \n",
       "8 -0.004170   -0.011367        0.0    0.006502      0.000851          0.0   \n",
       "9 -0.009044   -0.004170        0.0    0.001045      0.006502          0.0   \n",
       "\n",
       "        rsi   ema_dif  \n",
       "5  0.527584  0.011039  \n",
       "6  0.459565  0.007796  \n",
       "7  0.451856  0.007446  \n",
       "8  0.445857  0.001283  \n",
       "9  0.453477  0.004954  "
      ]
     },
     "execution_count": 16,
     "metadata": {},
     "output_type": "execute_result"
    }
   ],
   "source": [
    "df_model = pd.read_pickle(\"historical_mkt.pkl\")\n",
    "df_model.head()"
   ]
  },
  {
   "cell_type": "code",
   "execution_count": 32,
   "metadata": {},
   "outputs": [
    {
     "data": {
      "image/png": "[encoded data removed]",
      "text/plain": [
       "<matplotlib.figure.Figure at 0x1a0ab0ad68>"
      ]
     },
     "metadata": {},
     "output_type": "display_data"
    },
    {
     "data": {
      "image/png": "[encoded data removed]",
      "text/plain": [
       "<matplotlib.figure.Figure at 0x1a0ab95e10>"
      ]
     },
     "metadata": {},
     "output_type": "display_data"
    },
    {
     "data": {
      "image/png": "[encoded data removed]",
      "text/plain": [
       "<matplotlib.figure.Figure at 0x1a125d5240>"
      ]
     },
     "metadata": {},
     "output_type": "display_data"
    },
    {
     "data": {
      "image/png": "[encoded data removed]",
      "text/plain": [
       "<matplotlib.figure.Figure at 0x1a12631d30>"
      ]
     },
     "metadata": {},
     "output_type": "display_data"
    },
    {
     "data": {
      "image/png": "[encoded data removed]",
      "text/plain": [
       "<matplotlib.figure.Figure at 0x1a128c2dd8>"
      ]
     },
     "metadata": {},
     "output_type": "display_data"
    }
   ],
   "source": [
    "df_model.groupby(\"growth_sign\").max_growth_p.plot(kind='kde')\n",
    "plt.show()\n",
    "df_model.groupby(\"growth_sign\").dif_ema.plot(kind='kde')\n",
    "plt.show()\n",
    "df_model.groupby(\"growth_sign\").theta_ema.plot(kind='kde')\n",
    "plt.show()\n",
    "df_model.groupby(\"growth_sign\").strength_ema.plot(kind='kde')\n",
    "plt.show()\n",
    "df_model.groupby(\"growth_sign\").ema_dif.plot(kind='kde')\n",
    "plt.show()"
   ]
  },
  {
   "cell_type": "code",
   "execution_count": 18,
   "metadata": {},
   "outputs": [
    {
     "data": {
      "text/html": [
       "<div>\n",
       "<style>\n",
       "    .dataframe thead tr:only-child th {\n",
       "        text-align: right;\n",
       "    }\n",
       "\n",
       "    .dataframe thead th {\n",
       "        text-align: left;\n",
       "    }\n",
       "\n",
       "    .dataframe tbody tr th {\n",
       "        vertical-align: top;\n",
       "    }\n",
       "</style>\n",
       "<table border=\"1\" class=\"dataframe\">\n",
       "  <thead>\n",
       "    <tr style=\"text-align: right;\">\n",
       "      <th></th>\n",
       "      <th>max_growth_p</th>\n",
       "      <th>dif_ema</th>\n",
       "      <th>theta_ema</th>\n",
       "      <th>strength_ema</th>\n",
       "      <th>ema_dif</th>\n",
       "    </tr>\n",
       "  </thead>\n",
       "  <tbody>\n",
       "    <tr>\n",
       "      <th>5</th>\n",
       "      <td>0.009677</td>\n",
       "      <td>0.006023</td>\n",
       "      <td>0.115358</td>\n",
       "      <td>0.027626</td>\n",
       "      <td>0.011039</td>\n",
       "    </tr>\n",
       "    <tr>\n",
       "      <th>6</th>\n",
       "      <td>0.007832</td>\n",
       "      <td>0.006304</td>\n",
       "      <td>0.093905</td>\n",
       "      <td>0.027386</td>\n",
       "      <td>0.007796</td>\n",
       "    </tr>\n",
       "    <tr>\n",
       "      <th>7</th>\n",
       "      <td>0.003844</td>\n",
       "      <td>0.006559</td>\n",
       "      <td>0.054275</td>\n",
       "      <td>0.027303</td>\n",
       "      <td>0.007446</td>\n",
       "    </tr>\n",
       "    <tr>\n",
       "      <th>8</th>\n",
       "      <td>0.000851</td>\n",
       "      <td>0.006598</td>\n",
       "      <td>0.041576</td>\n",
       "      <td>0.026800</td>\n",
       "      <td>0.001283</td>\n",
       "    </tr>\n",
       "    <tr>\n",
       "      <th>9</th>\n",
       "      <td>0.006502</td>\n",
       "      <td>0.006604</td>\n",
       "      <td>-0.030088</td>\n",
       "      <td>0.027065</td>\n",
       "      <td>0.004954</td>\n",
       "    </tr>\n",
       "  </tbody>\n",
       "</table>\n",
       "</div>"
      ],
      "text/plain": [
       "   max_growth_p   dif_ema  theta_ema  strength_ema   ema_dif\n",
       "5      0.009677  0.006023   0.115358      0.027626  0.011039\n",
       "6      0.007832  0.006304   0.093905      0.027386  0.007796\n",
       "7      0.003844  0.006559   0.054275      0.027303  0.007446\n",
       "8      0.000851  0.006598   0.041576      0.026800  0.001283\n",
       "9      0.006502  0.006604  -0.030088      0.027065  0.004954"
      ]
     },
     "execution_count": 18,
     "metadata": {},
     "output_type": "execute_result"
    }
   ],
   "source": [
    "X, y = df_model[['max_growth_p', 'dif_ema', 'theta_ema', 'strength_ema',\n",
    "                'ema_dif']], df['growth_sign']\n",
    "X.head()"
   ]
  },
  {
   "cell_type": "code",
   "execution_count": 19,
   "metadata": {},
   "outputs": [
    {
     "data": {
      "text/plain": [
       "5    0.0\n",
       "6    0.0\n",
       "7    0.0\n",
       "8    0.0\n",
       "9    0.0\n",
       "Name: growth_sign, dtype: float64"
      ]
     },
     "execution_count": 19,
     "metadata": {},
     "output_type": "execute_result"
    }
   ],
   "source": [
    "y.head()"
   ]
  },
  {
   "cell_type": "code",
   "execution_count": 20,
   "metadata": {},
   "outputs": [],
   "source": [
    "# from sklearn.decomposition import PCA\n",
    "# X = StandardScaler().fit_transform(X)\n",
    "# pca = PCA(n_components=2)\n",
    "# principalComponents = pca.fit_transform(X)\n",
    "# pca.components_\n",
    "# principalDf = pd.DataFrame(data = principalComponents, columns = ['principal component 1',\n",
    "#                                                                   'principal component 2'])\n",
    "# finalDf = pd.concat([principalDf, y], axis = 1)"
   ]
  },
  {
   "cell_type": "code",
   "execution_count": 21,
   "metadata": {},
   "outputs": [],
   "source": [
    "# from mpl_toolkits.mplot3d import Axes3D\n",
    "\n",
    "# fig = plt.figure(figsize = (8,8))\n",
    "# ax = fig.add_subplot(1,1,1) \n",
    "\n",
    "# ax.set_title('3 component PCA', fontsize = 20)\n",
    "# targets = [0,1]\n",
    "# colors = ['r', 'g']\n",
    "# for target, color in zip(targets,colors):\n",
    "#     indicesToKeep = finalDf['growth_sign'] == target\n",
    "#     ax.scatter(finalDf.loc[indicesToKeep, 'principal component 1']\n",
    "#                , finalDf.loc[indicesToKeep, 'principal component 2']\n",
    "#                , c = color\n",
    "#                , s = 50)\n",
    "               \n",
    "# ax.legend(targets)\n",
    "# ax.grid()\n",
    "# plt.show()"
   ]
  },
  {
   "cell_type": "code",
   "execution_count": 22,
   "metadata": {},
   "outputs": [],
   "source": [
    "# df = finalDf\n",
    "# X = df.drop(['growth_sign'],axis=1)\n",
    "# y = df['growth_sign']"
   ]
  },
  {
   "cell_type": "code",
   "execution_count": 23,
   "metadata": {
    "collapsed": true
   },
   "outputs": [],
   "source": [
    "X = StandardScaler().fit_transform(X)"
   ]
  },
  {
   "cell_type": "code",
   "execution_count": 24,
   "metadata": {},
   "outputs": [
    {
     "name": "stdout",
     "output_type": "stream",
     "text": [
      "Unbalanced Dataset 0.0361923648984\n"
     ]
    },
    {
     "data": {
      "image/png": "[encoded data removed]",
      "text/plain": [
       "<matplotlib.figure.Figure at 0x1a0a972048>"
      ]
     },
     "metadata": {},
     "output_type": "display_data"
    }
   ],
   "source": [
    "plt.hist(y, bins=3)\n",
    "print('Unbalanced Dataset %s' % str(np.sum(y)/len(y)))\n",
    "plt.show()"
   ]
  },
  {
   "cell_type": "code",
   "execution_count": 25,
   "metadata": {},
   "outputs": [
    {
     "name": "stdout",
     "output_type": "stream",
     "text": [
      "Unbalanced Dataset 0.321229050279\n"
     ]
    },
    {
     "data": {
      "image/png": "[encoded data removed]",
      "text/plain": [
       "<matplotlib.figure.Figure at 0x1a0a9fe3c8>"
      ]
     },
     "metadata": {},
     "output_type": "display_data"
    }
   ],
   "source": [
    "import math\n",
    "oversampler = SMOTE(random_state=42, kind='svm',ratio={ 1:math.floor((len(y)*0.8))})\n",
    "X_train_os, Y_train_os = oversampler.fit_sample(X,y)\n",
    "plt.hist(Y_train_os, bins=3)\n",
    "print('Unbalanced Dataset %s' % str(np.sum(Y_train_os)/len(Y_train_os)))\n",
    "plt.show()"
   ]
  },
  {
   "cell_type": "code",
   "execution_count": 26,
   "metadata": {},
   "outputs": [
    {
     "name": "stdout",
     "output_type": "stream",
     "text": [
      "{'max_depth': 8, 'min_samples_leaf': 2}\n"
     ]
    }
   ],
   "source": [
    "X_train, X_test, Y_train, Y_test = train_test_split(X, y,\n",
    "                                                    test_size=0.3, random_state=42)\n",
    "import math\n",
    "oversampler = SMOTE(random_state=42, kind='svm',ratio={ 1:math.floor((len(Y_train)*0.5))})\n",
    "X_train_os, Y_train_os = oversampler.fit_sample(X_train,Y_train)\n",
    "\n",
    "model = 'RF SMOTE GS'\n",
    "param_grid = {'max_depth': np.arange(1, 20), 'min_samples_leaf':np.arange(1, 8)}\n",
    "\n",
    "rf_os_cv = GridSearchCV(RandomForestClassifier(random_state=42), param_grid, cv=5, scoring='roc_auc')\n",
    "rf_os_cv.fit(X_train_os, Y_train_os)\n",
    "print(rf_os_cv.best_params_)"
   ]
  },
  {
   "cell_type": "code",
   "execution_count": 27,
   "metadata": {},
   "outputs": [],
   "source": [
    "Y_predict = rf_os_cv.predict(X_test)"
   ]
  },
  {
   "cell_type": "code",
   "execution_count": 28,
   "metadata": {},
   "outputs": [
    {
     "name": "stdout",
     "output_type": "stream",
     "text": [
      "Unbalanced Dataset 0.0594059405941\n"
     ]
    },
    {
     "data": {
      "image/png": "[encoded data removed]",
      "text/plain": [
       "<matplotlib.figure.Figure at 0x1a0a980668>"
      ]
     },
     "metadata": {},
     "output_type": "display_data"
    }
   ],
   "source": [
    "plt.hist(Y_predict, bins=2)\n",
    "print('Unbalanced Dataset %s' % str(np.sum(Y_predict)/len(Y_predict)))\n",
    "plt.show()"
   ]
  },
  {
   "cell_type": "code",
   "execution_count": 29,
   "metadata": {},
   "outputs": [
    {
     "name": "stdout",
     "output_type": "stream",
     "text": [
      "0.666544566545\n"
     ]
    }
   ],
   "source": [
    "FP, TP, thresholds = roc_curve(Y_test,Y_predict)\n",
    "roc_auc = auc(FP, TP)\n",
    "print (roc_auc)"
   ]
  },
  {
   "cell_type": "code",
   "execution_count": 30,
   "metadata": {},
   "outputs": [
    {
     "name": "stdout",
     "output_type": "stream",
     "text": [
      "[[557  28]\n",
      " [ 13   8]]\n",
      "precision 22.0\n"
     ]
    }
   ],
   "source": [
    "cm = confusion_matrix(Y_test,Y_predict)\n",
    "print(cm)\n",
    "print('precision %s' % str(round((cm[1,1]/(cm[1,1]+cm[0,1])), 2)*100))"
   ]
  },
  {
   "cell_type": "code",
   "execution_count": 31,
   "metadata": {},
   "outputs": [
    {
     "data": {
      "text/plain": [
       "606"
      ]
     },
     "execution_count": 31,
     "metadata": {},
     "output_type": "execute_result"
    }
   ],
   "source": [
    "len(Y_test)"
   ]
  },
  {
   "cell_type": "code",
   "execution_count": null,
   "metadata": {
    "collapsed": true
   },
   "outputs": [],
   "source": []
  },
  {
   "cell_type": "code",
   "execution_count": null,
   "metadata": {
    "collapsed": true
   },
   "outputs": [],
   "source": []
  }
 ],
 "metadata": {
  "kernelspec": {
   "display_name": "Python [conda env:cryptocurrency-analysis]",
   "language": "python",
   "name": "conda-env-cryptocurrency-analysis-py"
  },
  "language_info": {
   "codemirror_mode": {
    "name": "ipython",
    "version": 3
   },
   "file_extension": ".py",
   "mimetype": "text/x-python",
   "name": "python",
   "nbconvert_exporter": "python",
   "pygments_lexer": "ipython3",
   "version": "3.6.3"
  }
 },
 "nbformat": 4,
 "nbformat_minor": 2
}
