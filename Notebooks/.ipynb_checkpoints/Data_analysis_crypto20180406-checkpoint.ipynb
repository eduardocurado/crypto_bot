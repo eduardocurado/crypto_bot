{
 "cells": [
  {
   "cell_type": "code",
   "execution_count": 1,
   "metadata": {
    "collapsed": true,
    "nbpresent": {
     "id": "22666bca-72d0-4dbd-8a0b-ae44ce05cfcb"
    }
   },
   "outputs": [],
   "source": [
    "import numpy as np \n",
    "import pandas as pd \n",
    "import seaborn as sns \n",
    "import matplotlib.pyplot as plt \n",
    "import matplotlib.dates as mdates\n",
    "plt.style.use('ggplot') \n",
    "import calendar\n",
    "import pickle\n",
    "import math\n",
    "from datetime import datetime, timedelta\n",
    "import re  \n",
    "import psycopg2\n",
    "import sys\n",
    "import matplotlib.gridspec as gridspec\n",
    "import sqlalchemy\n",
    "from sqlalchemy.sql import select, and_, or_, not_, desc, asc\n",
    "from sqlalchemy import Table, Column, Integer, DateTime, String,Float, ForeignKey\n",
    "from sqlalchemy.orm import sessionmaker\n",
    "from sklearn import preprocessing"
   ]
  },
  {
   "cell_type": "code",
   "execution_count": 2,
   "metadata": {
    "collapsed": true,
    "nbpresent": {
     "id": "a0639da2-5383-435a-b7cf-ff969fbbce46"
    }
   },
   "outputs": [],
   "source": [
    "# fig_size = plt.rcParams[\"figure.figsize\"]\n",
    "# fig_size[0] = 10\n",
    "# fig_size[1] = 10\n",
    "# plt.rcParams[\"figure.figsize\"] = fig_size"
   ]
  },
  {
   "cell_type": "code",
   "execution_count": 3,
   "metadata": {
    "collapsed": true,
    "nbpresent": {
     "id": "ca01e3fc-afd9-4109-b059-285cde48db1e"
    }
   },
   "outputs": [],
   "source": [
    "def connect(user, password, db, host='localhost', port=5432):\n",
    "    '''Returns a connection and a metadata object'''\n",
    "    # We connect with the help of the PostgreSQL URL\n",
    "    url = 'postgresql+psycopg2://{}:{}@{}:{}/{}'\n",
    "    url = url.format(user, password, host, port, db)\n",
    "\n",
    "    # The return value of create_engine() is our connection object\n",
    "    con = sqlalchemy.create_engine(url, client_encoding='utf8')\n",
    "\n",
    "    # We then bind the connection to MetaData()\n",
    "    meta = sqlalchemy.MetaData(bind=con)\n",
    "\n",
    "    return con, meta"
   ]
  },
  {
   "cell_type": "markdown",
   "metadata": {
    "nbpresent": {
     "id": "cfc1da92-5152-4cbe-83dc-06f086a99735"
    }
   },
   "source": [
    "CREATE TABLES "
   ]
  },
  {
   "cell_type": "code",
   "execution_count": 15,
   "metadata": {
    "collapsed": true,
    "nbpresent": {
     "id": "c3b31811-accd-4e26-b82d-04e60343335f"
    }
   },
   "outputs": [],
   "source": [
    "con, meta = connect('postgres', '', 'robotdb')\n",
    "\n",
    "mkt_trend = Table('Market_trend', meta,\n",
    "                      Column('coin', String, primary_key=True),\n",
    "                      Column('date', DateTime, primary_key=True),\n",
    "                      Column('screen', Integer, primary_key=True),\n",
    "                      Column('dif_current', Float),\n",
    "                      Column('dif_base', Float),\n",
    "                      Column('d_dif', Float),\n",
    "                      Column('theta_current', Float),\n",
    "                      Column('theta_base', Float),\n",
    "                      Column('d_theta', Float),\n",
    "                      Column('long_dif', Float),\n",
    "                      Column('max_growth', Float),\n",
    "                      Column('max_loss', Float),\n",
    "                      Column('max_price', Float),\n",
    "                      Column('min_price', Float),\n",
    "                      Column('max_rel', Float),\n",
    "                      Column('min_rel', Float),\n",
    "                      Column('log_ret', Float),\n",
    "                      Column('log_ret_p', Float),\n",
    "                      Column('log_ret_t_1', Float),\n",
    "                      Column('histogram', Float),\n",
    "                      Column('ema_dif', Float),\n",
    "                      Column('rsi', Float),\n",
    "                      Column('dif_sma', Float),\n",
    "                      Column('max_growth_p', Float),\n",
    "                      Column('obv', Float),\n",
    "                      Column('strength', Float),\n",
    "                      Column('vote', Integer)\n",
    "                      )\n",
    "\n",
    "tickers = Table('Ticker', meta,\n",
    "    Column('date', DateTime, primary_key = True),\n",
    "    Column('coin', String, primary_key = True),\n",
    "    Column('price', Float),\n",
    "    Column('volume', Float),\n",
    "    Column('screen', String, primary_key = True)    \n",
    ")\n",
    "\n",
    "years = mdates.YearLocator()   # every year\n",
    "months = mdates.MonthLocator()  # every month\n",
    "yearsFmt = mdates.DateFormatter('%Y')"
   ]
  },
  {
   "cell_type": "code",
   "execution_count": 16,
   "metadata": {
    "collapsed": true,
    "nbpresent": {
     "id": "8b5ada16-9c1a-403b-9ccb-01c08535beda"
    }
   },
   "outputs": [],
   "source": [
    "def get_mkt_trend(coin=None, date='2019-12-31', screen=1):\n",
    "    if coin:\n",
    "        s = select([mkt_trend]).\\\n",
    "            where(and_(mkt_trend.c.coin == coin, mkt_trend.c.date <= date, mkt_trend.c.screen == screen)).\\\n",
    "            order_by(desc(mkt_trend.c.date))\n",
    "    else:\n",
    "        s = select([mkt_trend]).\\\n",
    "            where(and_(mkt_trend.c.date <= date, mkt_trend.c.screen == screen)).\\\n",
    "            order_by(desc(mkt_trend.c.date))\n",
    "    rows = con.execute(s)\n",
    "    mkt_trend_df = pd.DataFrame(rows.fetchall()).iloc[::-1]\n",
    "    mkt_trend_df.columns = rows.keys()\n",
    "    return mkt_trend_df"
   ]
  },
  {
   "cell_type": "code",
   "execution_count": 17,
   "metadata": {
    "collapsed": true
   },
   "outputs": [],
   "source": [
    "def scale_df(train, test, scale_columns):\n",
    "    # #STANDARD SCALER\n",
    "    scaler = preprocessing.StandardScaler().fit(train[scale_columns])\n",
    "    train[scale_columns] = scaler.transform(train[scale_columns])\n",
    "    test[scale_columns] = scaler.transform(test[scale_columns])\n",
    "    return train, test"
   ]
  },
  {
   "cell_type": "markdown",
   "metadata": {},
   "source": [
    "FETCH DATA FROM DATABASE AND JOIN TABLES \n",
    "MKTTREND - PRICE - MACDS - RSI - SMA"
   ]
  },
  {
   "cell_type": "code",
   "execution_count": 20,
   "metadata": {
    "nbpresent": {
     "id": "107dfb91-c426-4580-89e0-f3f92403f2f1"
    },
    "scrolled": false
   },
   "outputs": [],
   "source": [
    "def manipulate_mkt_data():\n",
    "    df_model = get_mkt_trend()\n",
    "#     df_model = df_model.drop(['max_growth_p'], axis=1).dropna()\n",
    "#     df_model.loc[df_model['max_growth'] >= 0.08, 'growth_sign'] = 1\n",
    "#     df_model.loc[df_model['max_growth'] < 0.08, 'growth_sign'] = 0\n",
    "#     dates_ = df_model[['date']]\n",
    "#     shifted_parms = df_model[['coin', 'max_growth']].shift(3)\n",
    "#     shifted_parms['date'] = dates_\n",
    "#     df_model = pd.merge(df_model, shifted_parms, how='inner', left_on=['date', 'coin'], right_on=['date', 'coin'])\n",
    "#     df_model['max_growth'] = df_model['max_growth_x']\n",
    "#     df_model['max_growth_p'] = df_model['max_growth_y']\n",
    "#     df_model = df_model.drop(['max_growth_x', 'max_growth_y'], axis=1)\n",
    "    \n",
    "#     dates_ = df_model[['date']]\n",
    "#     shifted_parms = df_model[['coin', 'ema_dif']].shift(1)\n",
    "#     shifted_parms['date'] = dates_\n",
    "#     df_model = pd.merge(df_model, shifted_parms, how='inner', left_on=['date', 'coin'], right_on=['date', 'coin'])\n",
    "#     df_model['ema_dif'] = df_model['ema_dif_x']\n",
    "#     df_model['ema_dif_p'] = df_model['ema_dif_y']\n",
    "#     df_model = df_model.drop(['ema_dif_x', 'ema_dif_y'], axis=1)\n",
    "    \n",
    "    df = df_model.drop(['screen', 'coin'] ,axis=1)\n",
    "    \n",
    "    return df\n",
    "    \n",
    "df_model = manipulate_mkt_data()\n",
    "df_model.columns\n",
    "df_model['strength_ema'] = df_model.strength.ewm(span=6,min_periods=6,adjust=True,ignore_na=False).mean()\n",
    "# df_model = df_model.dropna()\n",
    "df_model = df_model.sort_values(['date']).reset_index().drop(['index'], axis=1)"
   ]
  },
  {
   "cell_type": "code",
   "execution_count": 23,
   "metadata": {},
   "outputs": [
    {
     "data": {
      "text/plain": [
       "0       None\n",
       "1       None\n",
       "2       None\n",
       "3       None\n",
       "4       None\n",
       "5       None\n",
       "6       None\n",
       "7       None\n",
       "8       None\n",
       "9       None\n",
       "10      None\n",
       "11      None\n",
       "12      None\n",
       "13      None\n",
       "14      None\n",
       "15      None\n",
       "16      None\n",
       "17      None\n",
       "18      None\n",
       "19      None\n",
       "20      None\n",
       "21      None\n",
       "22      None\n",
       "23      None\n",
       "24      None\n",
       "25      None\n",
       "26      None\n",
       "27      None\n",
       "28      None\n",
       "29      None\n",
       "        ... \n",
       "1770    None\n",
       "1771    None\n",
       "1772    None\n",
       "1773    None\n",
       "1774    None\n",
       "1775    None\n",
       "1776    None\n",
       "1777    None\n",
       "1778    None\n",
       "1779    None\n",
       "1780    None\n",
       "1781    None\n",
       "1782    None\n",
       "1783    None\n",
       "1784    None\n",
       "1785    None\n",
       "1786    None\n",
       "1787    None\n",
       "1788    None\n",
       "1789    None\n",
       "1790    None\n",
       "1791    None\n",
       "1792    None\n",
       "1793    None\n",
       "1794    None\n",
       "1795    None\n",
       "1796    None\n",
       "1797    None\n",
       "1798    None\n",
       "1799    None\n",
       "Name: max_growth, Length: 1800, dtype: object"
      ]
     },
     "execution_count": 23,
     "metadata": {},
     "output_type": "execute_result"
    }
   ],
   "source": [
    "# plt.hist(df_model['max_growth'], bins=30)\n",
    "# plt.show()\n",
    "df_model['max_growth']"
   ]
  },
  {
   "cell_type": "code",
   "execution_count": null,
   "metadata": {},
   "outputs": [],
   "source": [
    "df = df_model.drop(['date', 'max_price', 'min_price', 'vote', 'max_growth', 'max_loss'], axis=1)\n",
    "df.head()"
   ]
  },
  {
   "cell_type": "code",
   "execution_count": null,
   "metadata": {},
   "outputs": [],
   "source": [
    "plt.hist(df['growth_sign'], bins=3)\n",
    "print('Unbalanced Dataset %s' % str(np.sum(df['growth_sign'])/len(df_model)))\n",
    "plt.show()"
   ]
  },
  {
   "cell_type": "code",
   "execution_count": null,
   "metadata": {
    "collapsed": true
   },
   "outputs": [],
   "source": [
    "drop_columns = ['d_dif', 'theta_current', 'theta_base', 'long_dif',\n",
    "               'strength', 'log_ret', 'log_ret_p', 'log_ret_t_1']"
   ]
  },
  {
   "cell_type": "code",
   "execution_count": null,
   "metadata": {},
   "outputs": [],
   "source": [
    "plt.figure(figsize=(12,8*4))\n",
    "gs = gridspec.GridSpec(7, 4)\n",
    "for i, cn in enumerate(df.drop(['growth_sign'], axis=1).columns):\n",
    "    ax = plt.subplot(gs[i])\n",
    "    sns.distplot(df[cn][df.growth_sign == 1], bins=30, color='red')\n",
    "    sns.distplot(df[cn][df.growth_sign == 0], bins=30, color = 'blue')\n",
    "    ax.set_xlabel('')\n",
    "    ax.set_title('feature: ' + str(cn))\n",
    "plt.show()"
   ]
  },
  {
   "cell_type": "code",
   "execution_count": null,
   "metadata": {
    "collapsed": true
   },
   "outputs": [],
   "source": [
    "df = df.drop(drop_columns, axis=1)"
   ]
  },
  {
   "cell_type": "code",
   "execution_count": null,
   "metadata": {},
   "outputs": [],
   "source": [
    "fig_size = plt.rcParams[\"figure.figsize\"]\n",
    "fig_size[0] = 10\n",
    "fig_size[1] = 10\n",
    "plt.rcParams[\"figure.figsize\"] = fig_size\n",
    "\n",
    "correlations = df.corr()\n",
    "names = df.columns\n",
    "# plot correlation matrix\n",
    "fig = plt.figure()\n",
    "ax = fig.add_subplot(111)\n",
    "cax = ax.matshow(correlations, vmin=-1, vmax=1)\n",
    "fig.colorbar(cax)\n",
    "ticks = np.arange(0,len(names),1)\n",
    "ax.set_xticks(ticks)\n",
    "ax.set_yticks(ticks)\n",
    "ax.set_xticklabels(names)\n",
    "ax.set_yticklabels(names)\n",
    "plt.xticks(rotation=90)\n",
    "plt.show()"
   ]
  },
  {
   "cell_type": "code",
   "execution_count": null,
   "metadata": {
    "collapsed": true
   },
   "outputs": [],
   "source": [
    "train = df.iloc[0:math.floor(len(df)*0.75)].copy()\n",
    "test = df.iloc[math.floor(len(df)*0.75):len(df)].copy()"
   ]
  },
  {
   "cell_type": "code",
   "execution_count": null,
   "metadata": {},
   "outputs": [],
   "source": [
    "train.columns"
   ]
  },
  {
   "cell_type": "code",
   "execution_count": null,
   "metadata": {
    "collapsed": true
   },
   "outputs": [],
   "source": [
    "scale_columns = df.drop(['growth_sign'], axis=1).columns\n",
    "scaler = preprocessing.StandardScaler().fit(train[scale_columns])\n",
    "train[scale_columns] = scaler.transform(train[scale_columns])\n",
    "test[scale_columns] = scaler.transform(test[scale_columns])"
   ]
  },
  {
   "cell_type": "code",
   "execution_count": null,
   "metadata": {
    "collapsed": true
   },
   "outputs": [],
   "source": [
    "# # #EXAMPLE FOR SCALE NEW ENTRY\n",
    "# t_transform = scaler.transform(df.loc[0,scale_columns].values.reshape(1,-1))\n",
    "# print(t_transform)"
   ]
  },
  {
   "cell_type": "code",
   "execution_count": null,
   "metadata": {
    "collapsed": true
   },
   "outputs": [],
   "source": [
    "from sklearn import svm\n",
    "from sklearn.ensemble import RandomForestClassifier, AdaBoostClassifier, ExtraTreesClassifier\n",
    "from sklearn.metrics import confusion_matrix, classification_report\n",
    "from sklearn.metrics import roc_curve, auc\n",
    "from imblearn.over_sampling import SMOTE\n",
    "from sklearn.model_selection import cross_val_score, KFold\n",
    "from sklearn.model_selection import GridSearchCV\n",
    "from sklearn.dummy import DummyClassifier\n",
    "from sklearn.neighbors import KNeighborsClassifier"
   ]
  },
  {
   "cell_type": "code",
   "execution_count": null,
   "metadata": {
    "scrolled": true
   },
   "outputs": [],
   "source": [
    "print('---------------------------------------------------')\n",
    "X_train, y_train = train.drop(['growth_sign'], axis=1), train.growth_sign.values\n",
    "X_test, y_test =  test.drop(['growth_sign'], axis=1), test.growth_sign.values\n",
    "oversampler = SMOTE(random_state=42)\n",
    "X_train_os, Y_train_os = oversampler.fit_sample(X_train,y_train)\n",
    "\n",
    "# RANDOM FOREST\n",
    "print('Random Forest')\n",
    "param_grid = {'max_depth': np.arange(1, 20), 'min_samples_leaf':np.arange(1, 8),}\n",
    "model = GridSearchCV(RandomForestClassifier(random_state=42), param_grid, cv=5, scoring='precision')\n",
    "model.fit(X_train_os, Y_train_os)\n",
    "Y_predict = model.predict(X_test)\n",
    "\n",
    "print(model.best_params_)\n",
    "cm = confusion_matrix(y_test,Y_predict)\n",
    "print('Precision: %s' % float(cm[1][1]/(cm[1][1]+cm[0][1])))\n",
    "print(cm)\n",
    "print('---------------------------------------------------')\n",
    "\n",
    "# EXTRATREE\n",
    "print('Extra Tree')\n",
    "X_train, y_train = train.drop(['growth_sign'], axis=1), train.growth_sign.values\n",
    "X_test, y_test =  test.drop(['growth_sign'], axis=1), test.growth_sign.values\n",
    "oversampler = SMOTE(random_state=42)\n",
    "X_train_os, Y_train_os = oversampler.fit_sample(X_train,y_train)\n",
    "\n",
    "param_grid = {'criterion': ['gini', 'entropy'], 'max_depth': np.arange(1,15),\n",
    "              'min_samples_leaf':np.arange(1, 8),\n",
    "             'n_estimators': np.arange(1, 5)}\n",
    "\n",
    "model = GridSearchCV(ExtraTreesClassifier(random_state=42),param_grid, cv=5,scoring='precision')\n",
    "model.fit(X_train_os,Y_train_os)\n",
    "Y_predict = model.predict(X_test)\n",
    "cm = confusion_matrix(y_test,Y_predict)\n",
    "print('Precision: %s' % float(cm[1][1]/(cm[1][1]+cm[0][1])))\n",
    "print(cm)\n"
   ]
  },
  {
   "cell_type": "code",
   "execution_count": null,
   "metadata": {},
   "outputs": [],
   "source": [
    "print('---------------------------------------------------')\n",
    "print('SVM')\n",
    "\n",
    "X_train, y_train = train.drop(['growth_sign'], axis=1), train.growth_sign.values\n",
    "X_test, y_test =  test.drop(['growth_sign'], axis=1), test.growth_sign.values\n",
    "from sklearn.decomposition import PCA\n",
    "pca = PCA(n_components = 3)\n",
    "X_train_pca = pca.fit_transform(X_train)\n",
    "X_test_pca = pca.transform(X_test)\n",
    "\n",
    "oversampler = SMOTE(random_state=42)\n",
    "X_train_os, Y_train_os = oversampler.fit_sample(X_train_pca,y_train)\n",
    "\n",
    "kernels = ['rbf']\n",
    "Cs = [10, 100, 1000]\n",
    "gammas = [0.001, 0.01, 0.1, 1]\n",
    "param_grid = {'C': Cs, 'gamma' : gammas, 'kernel': kernels}\n",
    "\n",
    "model = GridSearchCV(svm.SVC(random_state=42), param_grid, cv=5, scoring='precision')\n",
    "model.fit(X_train_os,Y_train_os)\n",
    "Y_predict = model.predict(X_test_pca)\n",
    "cm = confusion_matrix(y_test,Y_predict)\n",
    "print('Precision: %s' % float(cm[1][1]/(cm[1][1]+cm[0][1])))\n",
    "print(cm)\n",
    "print('---------------------------------------------------')\n",
    "\n",
    "param_grid = {'n_neighbors': np.arange(1, 20)}\n",
    "knn = KNeighborsClassifier()\n",
    "model = GridSearchCV(knn, param_grid, cv=5, scoring='roc_auc')\n",
    "model.fit(X_train_os,Y_train_os)\n",
    "Y_predict = model.predict(X_test_pca)\n",
    "cm = confusion_matrix(y_test,Y_predict)\n",
    "print('Precision: %s' % float(cm[1][1]/(cm[1][1]+cm[0][1])))\n",
    "print(cm)"
   ]
  },
  {
   "cell_type": "code",
   "execution_count": null,
   "metadata": {
    "collapsed": true
   },
   "outputs": [],
   "source": []
  }
 ],
 "metadata": {
  "kernelspec": {
   "display_name": "Python [conda env:cryptocurrency-analysis]",
   "language": "python",
   "name": "conda-env-cryptocurrency-analysis-py"
  },
  "language_info": {
   "codemirror_mode": {
    "name": "ipython",
    "version": 3
   },
   "file_extension": ".py",
   "mimetype": "text/x-python",
   "name": "python",
   "nbconvert_exporter": "python",
   "pygments_lexer": "ipython3",
   "version": "3.6.3"
  }
 },
 "nbformat": 4,
 "nbformat_minor": 2
}
