{
 "cells": [
  {
   "cell_type": "code",
   "execution_count": 1,
   "metadata": {
    "collapsed": true,
    "nbpresent": {
     "id": "22666bca-72d0-4dbd-8a0b-ae44ce05cfcb"
    }
   },
   "outputs": [],
   "source": [
    "import numpy as np \n",
    "import pandas as pd \n",
    "import seaborn as sns \n",
    "import matplotlib.pyplot as plt \n",
    "import matplotlib.dates as mdates\n",
    "plt.style.use('ggplot') \n",
    "import calendar\n",
    "import quandl\n",
    "import pickle\n",
    "from datetime import datetime, timedelta\n",
    "import re  \n",
    "import psycopg2\n",
    "import sys\n",
    "api_key = '764-Cog1Q3xa6Rns5pmj'\n",
    "quandl.ApiConfig.api_key = api_key\n",
    "import sqlalchemy\n",
    "from sqlalchemy.sql import select, and_, or_, not_, desc, asc\n",
    "from sqlalchemy import Table, Column, Integer, DateTime, String,Float, ForeignKey\n",
    "from sqlalchemy.orm import sessionmaker"
   ]
  },
  {
   "cell_type": "code",
   "execution_count": 2,
   "metadata": {
    "collapsed": true,
    "nbpresent": {
     "id": "a0639da2-5383-435a-b7cf-ff969fbbce46"
    }
   },
   "outputs": [],
   "source": [
    "fig_size = plt.rcParams[\"figure.figsize\"]\n",
    "fig_size[0] = 10\n",
    "fig_size[1] = 10\n",
    "plt.rcParams[\"figure.figsize\"] = fig_size"
   ]
  },
  {
   "cell_type": "code",
   "execution_count": 3,
   "metadata": {
    "collapsed": true,
    "nbpresent": {
     "id": "ca01e3fc-afd9-4109-b059-285cde48db1e"
    }
   },
   "outputs": [],
   "source": [
    "def connect(user, password, db, host='localhost', port=5432):\n",
    "    '''Returns a connection and a metadata object'''\n",
    "    # We connect with the help of the PostgreSQL URL\n",
    "    url = 'postgresql+psycopg2://{}:{}@{}:{}/{}'\n",
    "    url = url.format(user, password, host, port, db)\n",
    "\n",
    "    # The return value of create_engine() is our connection object\n",
    "    con = sqlalchemy.create_engine(url, client_encoding='utf8')\n",
    "\n",
    "    # We then bind the connection to MetaData()\n",
    "    meta = sqlalchemy.MetaData(bind=con)\n",
    "\n",
    "    return con, meta"
   ]
  },
  {
   "cell_type": "markdown",
   "metadata": {
    "nbpresent": {
     "id": "cfc1da92-5152-4cbe-83dc-06f086a99735"
    }
   },
   "source": [
    "CREATE TABLES "
   ]
  },
  {
   "cell_type": "code",
   "execution_count": 4,
   "metadata": {
    "collapsed": true,
    "nbpresent": {
     "id": "c3b31811-accd-4e26-b82d-04e60343335f"
    }
   },
   "outputs": [],
   "source": [
    "con, meta = connect('postgres', '', 'robotdb')\n",
    "    \n",
    "tickers = Table('Ticker', meta,\n",
    "    Column('date', DateTime, primary_key = True),\n",
    "    Column('coin', String, primary_key = True),\n",
    "    Column('price', Float),\n",
    "    Column('volume', Float),\n",
    "    Column('screen', String, primary_key = True)    \n",
    ")\n",
    "\n",
    "macd = Table('Macd', meta,\n",
    "    Column('date', DateTime, primary_key = True),\n",
    "    Column('coin', String, primary_key = True),\n",
    "    Column('ema12', Float),\n",
    "    Column('ema_26', Float),\n",
    "    Column('macd_line', Float),\n",
    "    Column('signal_line', Float),\n",
    "    Column('histogram', Float),\n",
    "    Column('screen', Integer, primary_key=True)\n",
    ")\n",
    "\n",
    "boillinger = Table('Boillinger', meta,\n",
    "                       Column('date', DateTime, primary_key=True),\n",
    "                       Column('coin', String, primary_key=True),\n",
    "                       Column('upper_band', Float),\n",
    "                       Column('lower_band', Float),\n",
    "                       Column('sma20', Float),\n",
    "                       Column('height', Float),\n",
    "                       Column('screen', Integer, primary_key=True)\n",
    "                       )\n",
    "\n",
    "ema = Table('Ema', meta,\n",
    "                Column('date', DateTime, primary_key=True),\n",
    "                Column('coin', String, primary_key=True),\n",
    "                Column('ema5', Float),\n",
    "                Column('ema20', Float),\n",
    "                Column('ema5_theta', Float),\n",
    "                Column('ema20_theta', Float),\n",
    "                Column('screen', Integer, primary_key=True)\n",
    "                )\n",
    "\n",
    "long_positions = Table('Long', meta,\n",
    "                       Column('id_position', Integer, primary_key=True),\n",
    "                       Column('coin', String, primary_key=True),\n",
    "                       Column('strategy', String),\n",
    "                       Column('size_position', Float),\n",
    "                       Column('date_ask', DateTime),\n",
    "                       Column('ask', Float),\n",
    "                       Column('date_settlement', DateTime),\n",
    "                       Column('settlement', Float),\n",
    "                       Column('take_profit', Float),\n",
    "                       Column('stop_loss', Float),\n",
    "                       Column('exit_date', DateTime),\n",
    "                       Column('exit_price', Float),\n",
    "                       Column('log_return', Float),\n",
    "                       Column('source', String),\n",
    "                       Column('status', String)\n",
    "                       )\n",
    "\n",
    "\n",
    "mkt_trend = Table('Market_trend', meta,\n",
    "                  Column('coin', String, primary_key=True),\n",
    "                  Column('date', DateTime, primary_key=True),\n",
    "                  Column('screen', Integer, primary_key=True),\n",
    "                  Column('dif_current', Float),\n",
    "                  Column('dif_base', Float),\n",
    "                  Column('d_dif', Float),\n",
    "                  Column('theta_current', Float),\n",
    "                  Column('theta_base', Float),\n",
    "                  Column('d_theta', Float),\n",
    "                  Column('max_growth', Float),\n",
    "                  Column('max_loss', Float),\n",
    "                  Column('vote', Integer)\n",
    "                  )\n",
    "\n",
    "\n",
    "rsi = Table('Rsi', meta,\n",
    "    Column('date', DateTime, primary_key = True),\n",
    "    Column('coin', String, primary_key = True),\n",
    "    Column('rsi', Float),\n",
    "    Column('screen', Integer, primary_key=True)\n",
    ")\n",
    "\n",
    "balances = Table('Balance', meta,\n",
    "                 Column('date', DateTime, primary_key=True),\n",
    "                 Column('coin', String, primary_key=True),\n",
    "                 Column('size_position', Float)\n",
    "                 )\n",
    "\n",
    "\n",
    "years = mdates.YearLocator()   # every year\n",
    "months = mdates.MonthLocator()  # every month\n",
    "yearsFmt = mdates.DateFormatter('%Y')"
   ]
  },
  {
   "cell_type": "code",
   "execution_count": 5,
   "metadata": {
    "collapsed": true
   },
   "outputs": [],
   "source": [
    "def get_result(models_result, model, confusion_matrix):\n",
    "    success_rate = confusion_matrix[1][1]/(confusion_matrix[1][1]+confusion_matrix[0][1])\n",
    "    models_result.append({\"model\": model,\n",
    "                          \"roc_auc\": roc_auc,\n",
    "                          \"succ_trades\": success_rate})\n",
    "    return models_result"
   ]
  },
  {
   "cell_type": "code",
   "execution_count": 6,
   "metadata": {
    "collapsed": true,
    "nbpresent": {
     "id": "8b5ada16-9c1a-403b-9ccb-01c08535beda"
    }
   },
   "outputs": [],
   "source": [
    "def get_macds(coin = None, date = '2019-12-31', screen = 1):\n",
    "    if coin:\n",
    "        s = select([macd])\\\n",
    "            .where(and_(macd.c.coin == coin, macd.c.date <= date, macd.c.screen==screen))\\\n",
    "            .order_by(desc(macd.c.date))\n",
    "    else:\n",
    "         s = select([macd])\\\n",
    "            .where(and_(macd.c.date <= date, macd.c.screen==screen))\\\n",
    "            .order_by(desc(macd.c.date))\n",
    "            \n",
    "    rows = con.execute(s)\n",
    "    macd_df = pd.DataFrame(rows.fetchall()).iloc[::-1]\n",
    "    if not macd_df.empty:\n",
    "        macd_df.columns = rows.keys()\n",
    "    return macd_df\n",
    "\n",
    "def get_tickers(coin = None, date = '2019-12-31', screen = 1):\n",
    "    if coin:\n",
    "        s = select([tickers])\\\n",
    "            .where(and_(tickers.c.coin == coin, tickers.c.date <= date, tickers.c.screen == screen))\\\n",
    "            .order_by(\n",
    "            desc(tickers.c.date))\n",
    "    else:\n",
    "        s = select([tickers])\\\n",
    "            .where(and_(tickers.c.date <= date, tickers.c.screen == screen))\\\n",
    "            .order_by(\n",
    "            desc(tickers.c.date))\n",
    "    rows = con.execute(s)\n",
    "    tickers_df = pd.DataFrame(rows.fetchall()).iloc[::-1]\n",
    "    if not tickers_df.empty:\n",
    "        tickers_df.columns = rows.keys()\n",
    "    return tickers_df\n",
    "\n",
    "def get_emas(coin=None, date='2019-12-31', screen=1):\n",
    "    if coin:\n",
    "        s = select([ema])\\\n",
    "            .where(and_(ema.c.coin == coin, ema.c.date <= date, ema.c.screen == screen))\\\n",
    "            .order_by(ema.c.date.desc())\n",
    "    else:\n",
    "        s = select([ema])\\\n",
    "            .where(and_(ema.c.date <= date, ema.c.screen == screen))\\\n",
    "            .order_by(ema.c.date.desc())\n",
    "    rows = con.execute(s)\n",
    "    ema_df = pd.DataFrame(rows.fetchall()).iloc[::-1]\n",
    "    if not ema_df.empty:\n",
    "        ema_df.columns = rows.keys()\n",
    "    return ema_df\n",
    "\n",
    "def get_mkt_trend(coin=None, date='2019-12-31', screen=1):\n",
    "    if coin:\n",
    "        s = select([mkt_trend]).\\\n",
    "            where(and_(mkt_trend.c.coin == coin, mkt_trend.c.date <= date, mkt_trend.c.screen == screen)).\\\n",
    "            order_by(desc(mkt_trend.c.date))\n",
    "    else:\n",
    "        s = select([mkt_trend]).\\\n",
    "            where(and_(mkt_trend.c.date <= date, mkt_trend.c.screen == screen)).\\\n",
    "            order_by(desc(mkt_trend.c.date))\n",
    "    rows = con.execute(s)\n",
    "    mkt_trend_df = pd.DataFrame(rows.fetchall()).iloc[::-1]\n",
    "    mkt_trend_df.columns = rows.keys()\n",
    "    return mkt_trend_df\n",
    "\n",
    "def get_rsis(coin=None, date='2019-12-31', screen=1):\n",
    "    if coin:\n",
    "        s = select([rsi]) \\\n",
    "            .where(and_(rsi.c.coin == coin,\n",
    "                        rsi.c.date <= date,\n",
    "                       rsi.c.screen == screen))\\\n",
    "            .order_by(desc(rsi.c.date))\n",
    "    else:\n",
    "        s = select([rsi]) \\\n",
    "            .where(and_(rsi.c.date <= date,\n",
    "                        rsi.c.screen == screen\n",
    "                       ))\\\n",
    "            .order_by(desc(rsi.c.date))\n",
    "    rows = con.execute(s)\n",
    "    rsi_df = pd.DataFrame(rows.fetchall()).iloc[::-1]\n",
    "    if not rsi_df.empty:\n",
    "        rsi_df.columns = rows.keys()\n",
    "    return rsi_df"
   ]
  },
  {
   "cell_type": "code",
   "execution_count": 7,
   "metadata": {
    "collapsed": true,
    "nbpresent": {
     "id": "107dfb91-c426-4580-89e0-f3f92403f2f1"
    },
    "scrolled": false
   },
   "outputs": [],
   "source": [
    "def manipulate_mkt_data():\n",
    "    mkt_trend_df = get_mkt_trend()\n",
    "    tickers_df_two = get_tickers()\n",
    "    macds_df = get_macds()\n",
    "    tickers_df = pd.merge(tickers_df_two, macds_df, how='inner', left_on=['date', 'coin'], right_on=['date', 'coin'])\n",
    "    tickers_df['ema_dif'] = np.log(tickers_df['price']/tickers_df['ema12'])\n",
    "    df = pd.merge(mkt_trend_df, tickers_df, how='inner', left_on=['date', 'coin'], right_on=['date', 'coin'])\n",
    "    rsis_df = get_rsis()\n",
    "    df = pd.merge(df, rsis_df, how='inner', left_on=['date', 'coin'], right_on=['date', 'coin'])\n",
    "    return df\n",
    "    \n",
    "df = manipulate_mkt_data()"
   ]
  },
  {
   "cell_type": "code",
   "execution_count": 8,
   "metadata": {
    "collapsed": true
   },
   "outputs": [],
   "source": [
    "df.loc[df['max_growth'] >= 0.1, 'growth_sign'] = 1\n",
    "df.loc[df['max_growth'] < 0.1, 'growth_sign'] = 0\n",
    "df.loc[df['max_loss'] <= -0.05, 'loss_sign'] = 1\n",
    "df.loc[df['max_loss'] > -0.05, 'loss_sign'] = 0"
   ]
  },
  {
   "cell_type": "code",
   "execution_count": 9,
   "metadata": {
    "collapsed": true,
    "scrolled": false
   },
   "outputs": [],
   "source": [
    "full_data_set = df[['coin', 'date', 'dif_base', 'dif_current', 'd_dif',\n",
    "                    'theta_base', 'theta_current','d_theta',\n",
    "                    'rsi','ema_dif', \n",
    "                    'max_growth', 'max_loss', 'loss_sign','growth_sign']]\n",
    "\n",
    "dates_ = full_data_set[['date']]\n",
    "shifted_parms = full_data_set[['coin', 'dif_current', 'theta_current']].shift(2)\n",
    "shifted_parms['date'] = dates_\n",
    "full_data_set = pd.merge(full_data_set, shifted_parms, how='inner', left_on=['date', 'coin'], right_on=['date', 'coin'])\n",
    "full_data_set.head()\n",
    "full_data_set['dif_current'] = full_data_set['dif_current_x']\n",
    "full_data_set['theta_current'] = full_data_set['theta_current_x']\n",
    "full_data_set['dif_base_p'] = full_data_set['dif_current_y']\n",
    "full_data_set['theta_base_p'] = full_data_set['theta_current_y']"
   ]
  },
  {
   "cell_type": "code",
   "execution_count": 10,
   "metadata": {
    "collapsed": true
   },
   "outputs": [],
   "source": [
    "df_model = full_data_set.sort_values(['date'])"
   ]
  },
  {
   "cell_type": "code",
   "execution_count": 11,
   "metadata": {},
   "outputs": [
    {
     "name": "stdout",
     "output_type": "stream",
     "text": [
      "USDT_BTC\n"
     ]
    }
   ],
   "source": [
    "def get_strength_index():\n",
    "    tickers_df_two = get_tickers()\n",
    "    for c in tickers_df_two.coin.unique():\n",
    "        tickers_df_two_c = tickers_df_two[tickers_df_two['coin'] == c]\n",
    "        print(c)\n",
    "        # 6 * 4h = 24h\n",
    "        delta_t = 1\n",
    "        si_np = [np.nan]\n",
    "        for index in range(len(tickers_df_two_c)):\n",
    "            base_price = tickers_df_two_c.iloc[index].price\n",
    "            if index >= (len(tickers_df_two_c)-delta_t):\n",
    "                break\n",
    "            current_price = tickers_df_two_c.iloc[index+1].price\n",
    "            volume = tickers_df_two_c.iloc[index+1].volume\n",
    "            si = (current_price - base_price) * volume\n",
    "            si_np.append(si)\n",
    "        tickers_df_two_c['strength'] = si_np\n",
    "    return tickers_df_two_c.dropna()\n",
    "\n",
    "df_model = pd.merge(df_model, get_strength_index(), how='inner',\n",
    "                    left_on=['date', 'coin'], right_on=['date', 'coin'])\n",
    "df_model['ema_s'] = df_model.drop(['date', 'coin'], axis=1).strength.\\\n",
    "                    ewm(span=2, min_periods=2, adjust=True, ignore_na=False).mean()\n",
    "    "
   ]
  },
  {
   "cell_type": "code",
   "execution_count": 12,
   "metadata": {
    "collapsed": true
   },
   "outputs": [],
   "source": [
    "from sklearn.preprocessing import StandardScaler\n",
    "\n",
    "df_model['strength'] = StandardScaler().fit_transform(df_model['strength'].reshape(-1, 1))"
   ]
  },
  {
   "cell_type": "code",
   "execution_count": 13,
   "metadata": {
    "scrolled": true
   },
   "outputs": [
    {
     "data": {
      "text/html": [
       "<div>\n",
       "<style>\n",
       "    .dataframe thead tr:only-child th {\n",
       "        text-align: right;\n",
       "    }\n",
       "\n",
       "    .dataframe thead th {\n",
       "        text-align: left;\n",
       "    }\n",
       "\n",
       "    .dataframe tbody tr th {\n",
       "        vertical-align: top;\n",
       "    }\n",
       "</style>\n",
       "<table border=\"1\" class=\"dataframe\">\n",
       "  <thead>\n",
       "    <tr style=\"text-align: right;\">\n",
       "      <th></th>\n",
       "      <th>date</th>\n",
       "      <th>dif_base</th>\n",
       "      <th>dif_current</th>\n",
       "      <th>d_dif</th>\n",
       "      <th>theta_base</th>\n",
       "      <th>theta_current</th>\n",
       "      <th>rsi</th>\n",
       "      <th>strength</th>\n",
       "      <th>d_theta</th>\n",
       "      <th>ema_dif</th>\n",
       "      <th>dif_base_p</th>\n",
       "      <th>theta_base_p</th>\n",
       "      <th>max_growth</th>\n",
       "      <th>max_loss</th>\n",
       "      <th>loss_sign</th>\n",
       "      <th>growth_sign</th>\n",
       "    </tr>\n",
       "  </thead>\n",
       "  <tbody>\n",
       "    <tr>\n",
       "      <th>0</th>\n",
       "      <td>2017-04-10 17:10:00</td>\n",
       "      <td>0.006839</td>\n",
       "      <td>0.006634</td>\n",
       "      <td>-0.030053</td>\n",
       "      <td>0.104919</td>\n",
       "      <td>0.011985</td>\n",
       "      <td>0.588285</td>\n",
       "      <td>0.026100</td>\n",
       "      <td>-0.885771</td>\n",
       "      <td>-0.000525</td>\n",
       "      <td>0.006599</td>\n",
       "      <td>-0.058632</td>\n",
       "      <td>0.007547</td>\n",
       "      <td>-0.005650</td>\n",
       "      <td>0.0</td>\n",
       "      <td>0.0</td>\n",
       "    </tr>\n",
       "    <tr>\n",
       "      <th>1</th>\n",
       "      <td>2017-04-10 21:10:00</td>\n",
       "      <td>0.006634</td>\n",
       "      <td>0.006448</td>\n",
       "      <td>-0.028040</td>\n",
       "      <td>0.011985</td>\n",
       "      <td>-0.179209</td>\n",
       "      <td>0.574948</td>\n",
       "      <td>0.027566</td>\n",
       "      <td>-15.953077</td>\n",
       "      <td>0.002439</td>\n",
       "      <td>0.006839</td>\n",
       "      <td>0.104919</td>\n",
       "      <td>0.003580</td>\n",
       "      <td>-0.009233</td>\n",
       "      <td>0.0</td>\n",
       "      <td>0.0</td>\n",
       "    </tr>\n",
       "    <tr>\n",
       "      <th>2</th>\n",
       "      <td>2017-04-11 01:10:00</td>\n",
       "      <td>0.006448</td>\n",
       "      <td>0.005566</td>\n",
       "      <td>-0.136710</td>\n",
       "      <td>-0.179209</td>\n",
       "      <td>0.100103</td>\n",
       "      <td>0.556087</td>\n",
       "      <td>0.026174</td>\n",
       "      <td>-1.558582</td>\n",
       "      <td>-0.005664</td>\n",
       "      <td>0.006634</td>\n",
       "      <td>0.011985</td>\n",
       "      <td>0.010713</td>\n",
       "      <td>-0.000406</td>\n",
       "      <td>0.0</td>\n",
       "      <td>0.0</td>\n",
       "    </tr>\n",
       "    <tr>\n",
       "      <th>3</th>\n",
       "      <td>2017-04-11 05:10:00</td>\n",
       "      <td>0.005566</td>\n",
       "      <td>0.005073</td>\n",
       "      <td>-0.088695</td>\n",
       "      <td>0.100103</td>\n",
       "      <td>-0.219351</td>\n",
       "      <td>0.512042</td>\n",
       "      <td>0.027169</td>\n",
       "      <td>-3.191264</td>\n",
       "      <td>-0.003687</td>\n",
       "      <td>0.006448</td>\n",
       "      <td>-0.179209</td>\n",
       "      <td>0.020385</td>\n",
       "      <td>-0.001018</td>\n",
       "      <td>0.0</td>\n",
       "      <td>0.0</td>\n",
       "    </tr>\n",
       "    <tr>\n",
       "      <th>4</th>\n",
       "      <td>2017-04-11 09:10:00</td>\n",
       "      <td>0.005073</td>\n",
       "      <td>0.005476</td>\n",
       "      <td>0.079530</td>\n",
       "      <td>-0.219351</td>\n",
       "      <td>0.043722</td>\n",
       "      <td>0.558849</td>\n",
       "      <td>0.027945</td>\n",
       "      <td>-1.199325</td>\n",
       "      <td>0.004088</td>\n",
       "      <td>0.005566</td>\n",
       "      <td>0.100103</td>\n",
       "      <td>0.016671</td>\n",
       "      <td>-0.000060</td>\n",
       "      <td>0.0</td>\n",
       "      <td>0.0</td>\n",
       "    </tr>\n",
       "  </tbody>\n",
       "</table>\n",
       "</div>"
      ],
      "text/plain": [
       "                 date  dif_base  dif_current     d_dif  theta_base  \\\n",
       "0 2017-04-10 17:10:00  0.006839     0.006634 -0.030053    0.104919   \n",
       "1 2017-04-10 21:10:00  0.006634     0.006448 -0.028040    0.011985   \n",
       "2 2017-04-11 01:10:00  0.006448     0.005566 -0.136710   -0.179209   \n",
       "3 2017-04-11 05:10:00  0.005566     0.005073 -0.088695    0.100103   \n",
       "4 2017-04-11 09:10:00  0.005073     0.005476  0.079530   -0.219351   \n",
       "\n",
       "   theta_current       rsi  strength    d_theta   ema_dif  dif_base_p  \\\n",
       "0       0.011985  0.588285  0.026100  -0.885771 -0.000525    0.006599   \n",
       "1      -0.179209  0.574948  0.027566 -15.953077  0.002439    0.006839   \n",
       "2       0.100103  0.556087  0.026174  -1.558582 -0.005664    0.006634   \n",
       "3      -0.219351  0.512042  0.027169  -3.191264 -0.003687    0.006448   \n",
       "4       0.043722  0.558849  0.027945  -1.199325  0.004088    0.005566   \n",
       "\n",
       "   theta_base_p  max_growth  max_loss  loss_sign  growth_sign  \n",
       "0     -0.058632    0.007547 -0.005650        0.0          0.0  \n",
       "1      0.104919    0.003580 -0.009233        0.0          0.0  \n",
       "2      0.011985    0.010713 -0.000406        0.0          0.0  \n",
       "3     -0.179209    0.020385 -0.001018        0.0          0.0  \n",
       "4      0.100103    0.016671 -0.000060        0.0          0.0  "
      ]
     },
     "execution_count": 13,
     "metadata": {},
     "output_type": "execute_result"
    }
   ],
   "source": [
    "df_model = df_model[['date', 'dif_base', 'dif_current', 'd_dif', 'theta_base', 'theta_current', 'rsi',\n",
    "                     'strength','d_theta', 'ema_dif', 'dif_base_p', 'theta_base_p',\n",
    "                     'max_growth', 'max_loss', 'loss_sign','growth_sign']].dropna()\n",
    "df_model.head()"
   ]
  },
  {
   "cell_type": "code",
   "execution_count": 14,
   "metadata": {
    "collapsed": true
   },
   "outputs": [],
   "source": [
    "df_model.to_pickle(\"historical_mkt.pkl\")"
   ]
  },
  {
   "cell_type": "code",
   "execution_count": 15,
   "metadata": {
    "collapsed": true
   },
   "outputs": [],
   "source": [
    "df_model = pd.read_pickle(\"historical_mkt.pkl\")"
   ]
  },
  {
   "cell_type": "code",
   "execution_count": 16,
   "metadata": {
    "scrolled": true
   },
   "outputs": [
    {
     "data": {
      "text/html": [
       "<div>\n",
       "<style>\n",
       "    .dataframe thead tr:only-child th {\n",
       "        text-align: right;\n",
       "    }\n",
       "\n",
       "    .dataframe thead th {\n",
       "        text-align: left;\n",
       "    }\n",
       "\n",
       "    .dataframe tbody tr th {\n",
       "        vertical-align: top;\n",
       "    }\n",
       "</style>\n",
       "<table border=\"1\" class=\"dataframe\">\n",
       "  <thead>\n",
       "    <tr style=\"text-align: right;\">\n",
       "      <th></th>\n",
       "      <th>date</th>\n",
       "      <th>dif_base</th>\n",
       "      <th>dif_current</th>\n",
       "      <th>d_dif</th>\n",
       "      <th>theta_base</th>\n",
       "      <th>theta_current</th>\n",
       "      <th>rsi</th>\n",
       "      <th>strength</th>\n",
       "      <th>d_theta</th>\n",
       "      <th>ema_dif</th>\n",
       "      <th>dif_base_p</th>\n",
       "      <th>theta_base_p</th>\n",
       "      <th>max_growth</th>\n",
       "      <th>max_loss</th>\n",
       "      <th>loss_sign</th>\n",
       "      <th>growth_sign</th>\n",
       "    </tr>\n",
       "  </thead>\n",
       "  <tbody>\n",
       "    <tr>\n",
       "      <th>0</th>\n",
       "      <td>2017-04-10 17:10:00</td>\n",
       "      <td>0.006839</td>\n",
       "      <td>0.006634</td>\n",
       "      <td>-0.030053</td>\n",
       "      <td>0.104919</td>\n",
       "      <td>0.011985</td>\n",
       "      <td>0.588285</td>\n",
       "      <td>0.026100</td>\n",
       "      <td>-0.885771</td>\n",
       "      <td>-0.000525</td>\n",
       "      <td>0.006599</td>\n",
       "      <td>-0.058632</td>\n",
       "      <td>0.007547</td>\n",
       "      <td>-0.005650</td>\n",
       "      <td>0.0</td>\n",
       "      <td>0.0</td>\n",
       "    </tr>\n",
       "    <tr>\n",
       "      <th>1</th>\n",
       "      <td>2017-04-10 21:10:00</td>\n",
       "      <td>0.006634</td>\n",
       "      <td>0.006448</td>\n",
       "      <td>-0.028040</td>\n",
       "      <td>0.011985</td>\n",
       "      <td>-0.179209</td>\n",
       "      <td>0.574948</td>\n",
       "      <td>0.027566</td>\n",
       "      <td>-15.953077</td>\n",
       "      <td>0.002439</td>\n",
       "      <td>0.006839</td>\n",
       "      <td>0.104919</td>\n",
       "      <td>0.003580</td>\n",
       "      <td>-0.009233</td>\n",
       "      <td>0.0</td>\n",
       "      <td>0.0</td>\n",
       "    </tr>\n",
       "    <tr>\n",
       "      <th>2</th>\n",
       "      <td>2017-04-11 01:10:00</td>\n",
       "      <td>0.006448</td>\n",
       "      <td>0.005566</td>\n",
       "      <td>-0.136710</td>\n",
       "      <td>-0.179209</td>\n",
       "      <td>0.100103</td>\n",
       "      <td>0.556087</td>\n",
       "      <td>0.026174</td>\n",
       "      <td>-1.558582</td>\n",
       "      <td>-0.005664</td>\n",
       "      <td>0.006634</td>\n",
       "      <td>0.011985</td>\n",
       "      <td>0.010713</td>\n",
       "      <td>-0.000406</td>\n",
       "      <td>0.0</td>\n",
       "      <td>0.0</td>\n",
       "    </tr>\n",
       "    <tr>\n",
       "      <th>3</th>\n",
       "      <td>2017-04-11 05:10:00</td>\n",
       "      <td>0.005566</td>\n",
       "      <td>0.005073</td>\n",
       "      <td>-0.088695</td>\n",
       "      <td>0.100103</td>\n",
       "      <td>-0.219351</td>\n",
       "      <td>0.512042</td>\n",
       "      <td>0.027169</td>\n",
       "      <td>-3.191264</td>\n",
       "      <td>-0.003687</td>\n",
       "      <td>0.006448</td>\n",
       "      <td>-0.179209</td>\n",
       "      <td>0.020385</td>\n",
       "      <td>-0.001018</td>\n",
       "      <td>0.0</td>\n",
       "      <td>0.0</td>\n",
       "    </tr>\n",
       "    <tr>\n",
       "      <th>4</th>\n",
       "      <td>2017-04-11 09:10:00</td>\n",
       "      <td>0.005073</td>\n",
       "      <td>0.005476</td>\n",
       "      <td>0.079530</td>\n",
       "      <td>-0.219351</td>\n",
       "      <td>0.043722</td>\n",
       "      <td>0.558849</td>\n",
       "      <td>0.027945</td>\n",
       "      <td>-1.199325</td>\n",
       "      <td>0.004088</td>\n",
       "      <td>0.005566</td>\n",
       "      <td>0.100103</td>\n",
       "      <td>0.016671</td>\n",
       "      <td>-0.000060</td>\n",
       "      <td>0.0</td>\n",
       "      <td>0.0</td>\n",
       "    </tr>\n",
       "  </tbody>\n",
       "</table>\n",
       "</div>"
      ],
      "text/plain": [
       "                 date  dif_base  dif_current     d_dif  theta_base  \\\n",
       "0 2017-04-10 17:10:00  0.006839     0.006634 -0.030053    0.104919   \n",
       "1 2017-04-10 21:10:00  0.006634     0.006448 -0.028040    0.011985   \n",
       "2 2017-04-11 01:10:00  0.006448     0.005566 -0.136710   -0.179209   \n",
       "3 2017-04-11 05:10:00  0.005566     0.005073 -0.088695    0.100103   \n",
       "4 2017-04-11 09:10:00  0.005073     0.005476  0.079530   -0.219351   \n",
       "\n",
       "   theta_current       rsi  strength    d_theta   ema_dif  dif_base_p  \\\n",
       "0       0.011985  0.588285  0.026100  -0.885771 -0.000525    0.006599   \n",
       "1      -0.179209  0.574948  0.027566 -15.953077  0.002439    0.006839   \n",
       "2       0.100103  0.556087  0.026174  -1.558582 -0.005664    0.006634   \n",
       "3      -0.219351  0.512042  0.027169  -3.191264 -0.003687    0.006448   \n",
       "4       0.043722  0.558849  0.027945  -1.199325  0.004088    0.005566   \n",
       "\n",
       "   theta_base_p  max_growth  max_loss  loss_sign  growth_sign  \n",
       "0     -0.058632    0.007547 -0.005650        0.0          0.0  \n",
       "1      0.104919    0.003580 -0.009233        0.0          0.0  \n",
       "2      0.011985    0.010713 -0.000406        0.0          0.0  \n",
       "3     -0.179209    0.020385 -0.001018        0.0          0.0  \n",
       "4      0.100103    0.016671 -0.000060        0.0          0.0  "
      ]
     },
     "execution_count": 16,
     "metadata": {},
     "output_type": "execute_result"
    }
   ],
   "source": [
    "df_model.head()"
   ]
  },
  {
   "cell_type": "code",
   "execution_count": 50,
   "metadata": {
    "collapsed": true
   },
   "outputs": [],
   "source": [
    "#GOOD FOR KNN\n",
    "# x_features = [ 'dif_current',\n",
    "#              'theta_current',\n",
    "#               'rsi', 'ema_dif']\n",
    "#GOOD FOR SVC\n",
    "x_features = ['dif_current', 'dif_base', 'd_dif',\n",
    "             'theta_current', 'theta_base', 'd_theta',\n",
    "              'strength', 'rsi', 'ema_dif']\n",
    "y_features = ['growth_sign']"
   ]
  },
  {
   "cell_type": "code",
   "execution_count": 51,
   "metadata": {
    "collapsed": true
   },
   "outputs": [],
   "source": [
    "from sklearn.ensemble import RandomForestClassifier, AdaBoostClassifier, ExtraTreesClassifier\n",
    "from sklearn.metrics import confusion_matrix, classification_report\n",
    "from sklearn.metrics import roc_curve, auc\n",
    "from sklearn.model_selection import train_test_split\n",
    "from imblearn.over_sampling import SMOTE\n",
    "from sklearn.model_selection import cross_val_score, KFold\n",
    "from sklearn.neighbors import KNeighborsClassifier\n",
    "from sklearn.model_selection import cross_val_score\n",
    "from sklearn.preprocessing import scale\n",
    "from sklearn.model_selection import GridSearchCV\n",
    "from sklearn.tree import DecisionTreeClassifier\n",
    "from sklearn import svm\n",
    "from sklearn.dummy import DummyClassifier\n",
    "from sklearn.naive_bayes import GaussianNB\n",
    "\n",
    "models_result = []"
   ]
  },
  {
   "cell_type": "code",
   "execution_count": 52,
   "metadata": {
    "collapsed": true
   },
   "outputs": [],
   "source": [
    "X = df_model[x_features]\n",
    "y = df_model[y_features].growth_sign.values\n",
    "\n",
    "X_train, X_test, Y_train, Y_test = train_test_split(X, y, test_size=0.2, random_state=42)\n",
    "\n",
    "oversampler = SMOTE(random_state=42)\n",
    "X_train_os, Y_train_os = oversampler.fit_sample(X_train,Y_train)"
   ]
  },
  {
   "cell_type": "markdown",
   "metadata": {},
   "source": [
    "Random Forest Classifier SMOTE, With GridSearch"
   ]
  },
  {
   "cell_type": "code",
   "execution_count": 57,
   "metadata": {
    "scrolled": false
   },
   "outputs": [
    {
     "name": "stdout",
     "output_type": "stream",
     "text": [
      "{'max_depth': 14, 'min_samples_leaf': 1}\n"
     ]
    }
   ],
   "source": [
    "model = 'RF SMOTE GS'\n",
    "\n",
    "param_grid = {'max_depth': np.arange(1, 20), 'min_samples_leaf':np.arange(1, 8)}\n",
    "\n",
    "rf_os_cv = GridSearchCV(RandomForestClassifier(random_state=42), param_grid, cv=5, scoring='roc_auc')\n",
    "rf_os_cv.fit(X_train_os, Y_train_os)\n",
    "print(rf_os_cv.best_params_)"
   ]
  },
  {
   "cell_type": "code",
   "execution_count": 58,
   "metadata": {
    "collapsed": true
   },
   "outputs": [],
   "source": [
    "Y_predict = rf_os_cv.predict(X_test)"
   ]
  },
  {
   "cell_type": "code",
   "execution_count": 59,
   "metadata": {},
   "outputs": [
    {
     "name": "stdout",
     "output_type": "stream",
     "text": [
      "0.560372060372\n"
     ]
    }
   ],
   "source": [
    "FP, TP, thresholds = roc_curve(Y_test,Y_predict)\n",
    "roc_auc = auc(FP, TP)\n",
    "print (roc_auc)"
   ]
  },
  {
   "cell_type": "code",
   "execution_count": 60,
   "metadata": {
    "collapsed": true
   },
   "outputs": [],
   "source": [
    "models_result = get_result(models_result, model, confusion_matrix(Y_test,Y_predict))"
   ]
  },
  {
   "cell_type": "markdown",
   "metadata": {},
   "source": [
    "KNN Classifier With Balanced Dataset and GridSearchCV"
   ]
  },
  {
   "cell_type": "code",
   "execution_count": 24,
   "metadata": {},
   "outputs": [
    {
     "name": "stdout",
     "output_type": "stream",
     "text": [
      "{'n_neighbors': 9}\n"
     ]
    }
   ],
   "source": [
    "model = 'KNN SMOTE GS'\n",
    "param_grid = {'n_neighbors': np.arange(1, 20)}\n",
    "\n",
    "knn_cv = GridSearchCV(KNeighborsClassifier(), param_grid, cv=5, scoring='roc_auc')\n",
    "knn_cv.fit(X_train_os, Y_train_os)\n",
    "print(knn_cv.best_params_)"
   ]
  },
  {
   "cell_type": "code",
   "execution_count": 25,
   "metadata": {
    "collapsed": true
   },
   "outputs": [],
   "source": [
    "Y_predict = knn_cv.predict(X_test)"
   ]
  },
  {
   "cell_type": "code",
   "execution_count": 26,
   "metadata": {},
   "outputs": [
    {
     "name": "stdout",
     "output_type": "stream",
     "text": [
      "0.532116532117\n"
     ]
    }
   ],
   "source": [
    "FP, TP, thresholds = roc_curve(Y_test,Y_predict)\n",
    "roc_auc = auc(FP, TP)\n",
    "print (roc_auc)"
   ]
  },
  {
   "cell_type": "code",
   "execution_count": 27,
   "metadata": {
    "collapsed": true
   },
   "outputs": [],
   "source": [
    "models_result = get_result(models_result, model, confusion_matrix(Y_test,Y_predict))"
   ]
  },
  {
   "cell_type": "code",
   "execution_count": 28,
   "metadata": {},
   "outputs": [
    {
     "data": {
      "text/plain": [
       "{'C': 100, 'gamma': 1, 'kernel': 'rbf'}"
      ]
     },
     "execution_count": 28,
     "metadata": {},
     "output_type": "execute_result"
    }
   ],
   "source": [
    "model = 'SVC SMOTE GS'\n",
    "\n",
    "kernels = ['linear', 'poly', 'rbf', 'sigmoid']\n",
    "Cs = [0.01, 0.1, 1, 10, 100]\n",
    "gammas = [0.001, 0.01, 0.1, 1]\n",
    "param_grid = {'C': Cs, 'gamma' : gammas, 'kernel': kernels}\n",
    "\n",
    "svm_greed = GridSearchCV(svm.SVC(random_state=42), param_grid, cv=5, scoring='precision')\n",
    "svm_greed.fit(X_train_os, Y_train_os)\n",
    "svm_greed.best_params_"
   ]
  },
  {
   "cell_type": "code",
   "execution_count": 29,
   "metadata": {
    "collapsed": true
   },
   "outputs": [],
   "source": [
    "Y_predict = svm_greed.predict(X_test)"
   ]
  },
  {
   "cell_type": "code",
   "execution_count": 30,
   "metadata": {},
   "outputs": [
    {
     "name": "stdout",
     "output_type": "stream",
     "text": [
      "0.612144612145\n"
     ]
    }
   ],
   "source": [
    "FP, TP, thresholds = roc_curve(Y_test,Y_predict)\n",
    "roc_auc = auc(FP, TP)\n",
    "print (roc_auc)"
   ]
  },
  {
   "cell_type": "code",
   "execution_count": 31,
   "metadata": {
    "collapsed": true
   },
   "outputs": [],
   "source": [
    "models_result = get_result(models_result, model, confusion_matrix(Y_test,Y_predict))"
   ]
  },
  {
   "cell_type": "code",
   "execution_count": 32,
   "metadata": {},
   "outputs": [
    {
     "data": {
      "text/plain": [
       "{'n_estimators': 27}"
      ]
     },
     "execution_count": 32,
     "metadata": {},
     "output_type": "execute_result"
    }
   ],
   "source": [
    "model = 'AdaBoost SMOTE GS'\n",
    "\n",
    "param_grid = {'n_estimators': np.arange(1, 32)}\n",
    "\n",
    "ada_greed = GridSearchCV(AdaBoostClassifier(random_state=42), param_grid, cv=5, scoring='precision')\n",
    "ada_greed.fit(X_train_os, Y_train_os)\n",
    "ada_greed.best_params_"
   ]
  },
  {
   "cell_type": "code",
   "execution_count": 33,
   "metadata": {
    "collapsed": true
   },
   "outputs": [],
   "source": [
    "Y_predict = ada_greed.predict(X_test)"
   ]
  },
  {
   "cell_type": "code",
   "execution_count": 34,
   "metadata": {},
   "outputs": [
    {
     "name": "stdout",
     "output_type": "stream",
     "text": [
      "0.457002457002\n"
     ]
    }
   ],
   "source": [
    "FP, TP, thresholds = roc_curve(Y_test,Y_predict)\n",
    "roc_auc = auc(FP, TP)\n",
    "print (roc_auc)"
   ]
  },
  {
   "cell_type": "code",
   "execution_count": 35,
   "metadata": {
    "collapsed": true
   },
   "outputs": [],
   "source": [
    "models_result = get_result(models_result, model, confusion_matrix(Y_test,Y_predict))"
   ]
  },
  {
   "cell_type": "code",
   "execution_count": 36,
   "metadata": {},
   "outputs": [
    {
     "data": {
      "text/plain": [
       "{'criterion': 'entropy',\n",
       " 'max_depth': 14,\n",
       " 'min_samples_leaf': 1,\n",
       " 'n_estimators': 2}"
      ]
     },
     "execution_count": 36,
     "metadata": {},
     "output_type": "execute_result"
    }
   ],
   "source": [
    "model = 'ExtraTree SMOTE GS'\n",
    "\n",
    "param_grid = {'criterion': ['gini', 'entropy'], 'max_depth': np.arange(1,15),\n",
    "              'min_samples_leaf':np.arange(1, 8),\n",
    "             'n_estimators': np.arange(1, 5)}\n",
    "\n",
    "extra_model = GridSearchCV(ExtraTreesClassifier(random_state=42),param_grid, cv=5,scoring='precision')\n",
    "extra_model.fit(X_train_os, Y_train_os)\n",
    "extra_model.best_params_"
   ]
  },
  {
   "cell_type": "code",
   "execution_count": 37,
   "metadata": {
    "collapsed": true
   },
   "outputs": [],
   "source": [
    "Y_predict = extra_model.predict(X_test)"
   ]
  },
  {
   "cell_type": "code",
   "execution_count": 38,
   "metadata": {},
   "outputs": [
    {
     "name": "stdout",
     "output_type": "stream",
     "text": [
      "0.485257985258\n"
     ]
    }
   ],
   "source": [
    "FP, TP, thresholds = roc_curve(Y_test,Y_predict)\n",
    "roc_auc = auc(FP, TP)\n",
    "print (roc_auc)"
   ]
  },
  {
   "cell_type": "code",
   "execution_count": 39,
   "metadata": {
    "collapsed": true
   },
   "outputs": [],
   "source": [
    "models_result = get_result(models_result, model, confusion_matrix(Y_test,Y_predict))"
   ]
  },
  {
   "cell_type": "code",
   "execution_count": 40,
   "metadata": {},
   "outputs": [
    {
     "data": {
      "text/plain": [
       "DummyClassifier(constant=None, random_state=42, strategy='stratified')"
      ]
     },
     "execution_count": 40,
     "metadata": {},
     "output_type": "execute_result"
    }
   ],
   "source": [
    "model = 'Dummy'\n",
    "\n",
    "dummy = DummyClassifier(random_state=42)\n",
    "dummy.fit(X_train_os, Y_train_os)"
   ]
  },
  {
   "cell_type": "code",
   "execution_count": 41,
   "metadata": {
    "collapsed": true
   },
   "outputs": [],
   "source": [
    "Y_predict = dummy.predict(X_test)"
   ]
  },
  {
   "cell_type": "code",
   "execution_count": 42,
   "metadata": {},
   "outputs": [
    {
     "name": "stdout",
     "output_type": "stream",
     "text": [
      "0.473499473499\n"
     ]
    }
   ],
   "source": [
    "FP, TP, thresholds = roc_curve(Y_test,Y_predict)\n",
    "roc_auc = auc(FP, TP)\n",
    "print (roc_auc)"
   ]
  },
  {
   "cell_type": "code",
   "execution_count": 43,
   "metadata": {
    "collapsed": true
   },
   "outputs": [],
   "source": [
    "models_result = get_result(models_result, model, confusion_matrix(Y_test,Y_predict))"
   ]
  },
  {
   "cell_type": "code",
   "execution_count": 44,
   "metadata": {
    "collapsed": true
   },
   "outputs": [],
   "source": [
    "model = 'Naive Bayes'\n",
    "\n",
    "gnb = GaussianNB()\n",
    "y_pred = gnb.fit(X_train_os, Y_train_os)"
   ]
  },
  {
   "cell_type": "code",
   "execution_count": 45,
   "metadata": {
    "collapsed": true
   },
   "outputs": [],
   "source": [
    "Y_predict = gnb.predict(X_test)"
   ]
  },
  {
   "cell_type": "code",
   "execution_count": 46,
   "metadata": {},
   "outputs": [
    {
     "name": "stdout",
     "output_type": "stream",
     "text": [
      "0.506318006318\n"
     ]
    }
   ],
   "source": [
    "FP, TP, thresholds = roc_curve(Y_test,Y_predict)\n",
    "roc_auc = auc(FP, TP)\n",
    "print (roc_auc)"
   ]
  },
  {
   "cell_type": "code",
   "execution_count": 47,
   "metadata": {
    "collapsed": true
   },
   "outputs": [],
   "source": [
    "models_result = get_result(models_result, model, confusion_matrix(Y_test,Y_predict))"
   ]
  },
  {
   "cell_type": "code",
   "execution_count": 61,
   "metadata": {},
   "outputs": [
    {
     "data": {
      "text/html": [
       "<div>\n",
       "<style>\n",
       "    .dataframe thead tr:only-child th {\n",
       "        text-align: right;\n",
       "    }\n",
       "\n",
       "    .dataframe thead th {\n",
       "        text-align: left;\n",
       "    }\n",
       "\n",
       "    .dataframe tbody tr th {\n",
       "        vertical-align: top;\n",
       "    }\n",
       "</style>\n",
       "<table border=\"1\" class=\"dataframe\">\n",
       "  <thead>\n",
       "    <tr style=\"text-align: right;\">\n",
       "      <th></th>\n",
       "      <th>model</th>\n",
       "      <th>roc_auc</th>\n",
       "      <th>succ_trades</th>\n",
       "    </tr>\n",
       "  </thead>\n",
       "  <tbody>\n",
       "    <tr>\n",
       "      <th>0</th>\n",
       "      <td>RF SMOTE GS</td>\n",
       "      <td>0.487715</td>\n",
       "      <td>0.0</td>\n",
       "    </tr>\n",
       "    <tr>\n",
       "      <th>1</th>\n",
       "      <td>RF SMOTE GS</td>\n",
       "      <td>0.560372</td>\n",
       "      <td>0.1</td>\n",
       "    </tr>\n",
       "  </tbody>\n",
       "</table>\n",
       "</div>"
      ],
      "text/plain": [
       "         model   roc_auc  succ_trades\n",
       "0  RF SMOTE GS  0.487715          0.0\n",
       "1  RF SMOTE GS  0.560372          0.1"
      ]
     },
     "execution_count": 61,
     "metadata": {},
     "output_type": "execute_result"
    }
   ],
   "source": [
    "pd.DataFrame(models_result)"
   ]
  },
  {
   "cell_type": "code",
   "execution_count": null,
   "metadata": {
    "collapsed": true
   },
   "outputs": [],
   "source": [
    "extra_model.best_params_"
   ]
  },
  {
   "cell_type": "code",
   "execution_count": null,
   "metadata": {
    "collapsed": true
   },
   "outputs": [],
   "source": [
    "model = 'ExtraTree SMOTE'\n",
    "\n",
    "extra_model = ExtraTreesClassifier(random_state=42,\n",
    "                                   criterion= 'entropy',\n",
    "                                   max_depth= 14,\n",
    "                                   min_samples_leaf= 1,\n",
    "                                   n_estimators= 2 )\n",
    "extra_model.fit(X_train_os, Y_train_os)"
   ]
  },
  {
   "cell_type": "code",
   "execution_count": null,
   "metadata": {
    "collapsed": true
   },
   "outputs": [],
   "source": [
    "Y_predict = extra_model.predict(X_test)"
   ]
  },
  {
   "cell_type": "code",
   "execution_count": null,
   "metadata": {
    "collapsed": true
   },
   "outputs": [],
   "source": [
    "FP, TP, thresholds = roc_curve(Y_test,Y_predict)\n",
    "roc_auc = auc(FP, TP)\n",
    "print (roc_auc)"
   ]
  },
  {
   "cell_type": "code",
   "execution_count": null,
   "metadata": {
    "collapsed": true
   },
   "outputs": [],
   "source": [
    "models_result = get_result(models_result, model, confusion_matrix(Y_test,Y_predict))"
   ]
  },
  {
   "cell_type": "code",
   "execution_count": null,
   "metadata": {
    "collapsed": true
   },
   "outputs": [],
   "source": [
    "# # save the model to disk\n",
    "# filename = 'finalized_model.sav'\n",
    "# pickle.dump(extra_model, open(filename, 'wb'))\n",
    "# loaded_model = pickle.load(open(filename, 'rb'))\n",
    "# result = loaded_model.score(X_test, Y_test)\n",
    "# print(result)"
   ]
  },
  {
   "cell_type": "code",
   "execution_count": null,
   "metadata": {
    "collapsed": true
   },
   "outputs": [],
   "source": []
  }
 ],
 "metadata": {
  "kernelspec": {
   "display_name": "Python [conda env:cryptocurrency-analysis]",
   "language": "python",
   "name": "conda-env-cryptocurrency-analysis-py"
  },
  "language_info": {
   "codemirror_mode": {
    "name": "ipython",
    "version": 3
   },
   "file_extension": ".py",
   "mimetype": "text/x-python",
   "name": "python",
   "nbconvert_exporter": "python",
   "pygments_lexer": "ipython3",
   "version": "3.6.3"
  }
 },
 "nbformat": 4,
 "nbformat_minor": 2
}
