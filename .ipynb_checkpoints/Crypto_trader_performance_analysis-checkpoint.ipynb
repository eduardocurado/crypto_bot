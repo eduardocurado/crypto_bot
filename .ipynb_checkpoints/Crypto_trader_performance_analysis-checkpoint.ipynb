{
 "cells": [
  {
   "cell_type": "code",
   "execution_count": 1,
   "metadata": {
    "collapsed": true
   },
   "outputs": [],
   "source": [
    "import numpy as np \n",
    "import pandas as pd \n",
    "import seaborn as sns \n",
    "import matplotlib.pyplot as plt \n",
    "import matplotlib.dates as mdates\n",
    "plt.style.use('ggplot') \n",
    "import calendar\n",
    "import quandl\n",
    "import pickle\n",
    "from datetime import datetime, timedelta\n",
    "import re  \n",
    "import psycopg2\n",
    "import sys\n",
    "api_key = '764-Cog1Q3xa6Rns5pmj'\n",
    "quandl.ApiConfig.api_key = api_key\n",
    "import sqlalchemy\n",
    "from sqlalchemy.sql import select, and_, or_, not_, desc, asc\n",
    "from sqlalchemy import Table, Column, Integer, DateTime, String,Float, ForeignKey\n",
    "from sqlalchemy.orm import sessionmaker"
   ]
  },
  {
   "cell_type": "code",
   "execution_count": 2,
   "metadata": {
    "collapsed": true
   },
   "outputs": [],
   "source": [
    "fig_size = plt.rcParams[\"figure.figsize\"]\n",
    "fig_size[0] = 10\n",
    "fig_size[1] = 10\n",
    "plt.rcParams[\"figure.figsize\"] = fig_size"
   ]
  },
  {
   "cell_type": "code",
   "execution_count": 3,
   "metadata": {
    "collapsed": true
   },
   "outputs": [],
   "source": [
    "def connect(user, password, db, host='localhost', port=5432):\n",
    "    '''Returns a connection and a metadata object'''\n",
    "    # We connect with the help of the PostgreSQL URL\n",
    "    url = 'postgresql+psycopg2://{}:{}@{}:{}/{}'\n",
    "    url = url.format(user, password, host, port, db)\n",
    "\n",
    "    # The return value of create_engine() is our connection object\n",
    "    con = sqlalchemy.create_engine(url, client_encoding='utf8')\n",
    "\n",
    "    # We then bind the connection to MetaData()\n",
    "    meta = sqlalchemy.MetaData(bind=con)\n",
    "\n",
    "    return con, meta"
   ]
  },
  {
   "cell_type": "markdown",
   "metadata": {},
   "source": [
    "CREATE TABLES "
   ]
  },
  {
   "cell_type": "code",
   "execution_count": 4,
   "metadata": {
    "collapsed": true
   },
   "outputs": [],
   "source": [
    "con, meta = connect('postgres', '', 'robotdb')\n",
    "    \n",
    "tickers = Table('Ticker', meta,\n",
    "    Column('date', DateTime, primary_key = True),\n",
    "    Column('coin', String, primary_key = True),\n",
    "    Column('price', Float),\n",
    "    Column('screen', String, primary_key = True)\n",
    "                \n",
    "        \n",
    ")\n",
    "\n",
    "macd = Table('Macd', meta,\n",
    "    Column('date', DateTime, primary_key = True),\n",
    "    Column('coin', String, primary_key = True),\n",
    "    Column('ema12', Float),\n",
    "    Column('ema_26', Float),\n",
    "    Column('macd_line', Float),\n",
    "    Column('signal_line', Float),\n",
    "    Column('histogram', Float),\n",
    "    Column('screen', Integer, primary_key=True)\n",
    ")\n",
    "\n",
    "boillinger = Table('Boillinger', meta,\n",
    "                       Column('date', DateTime, primary_key=True),\n",
    "                       Column('coin', String, primary_key=True),\n",
    "                       Column('upper_band', Float),\n",
    "                       Column('lower_band', Float),\n",
    "                       Column('sma20', Float),\n",
    "                       Column('height', Float),\n",
    "                       Column('screen', Integer, primary_key=True)\n",
    "                       )\n",
    "\n",
    "ema = Table('Ema', meta,\n",
    "                Column('date', DateTime, primary_key=True),\n",
    "                Column('coin', String, primary_key=True),\n",
    "                Column('ema5', Float),\n",
    "                Column('ema20', Float),\n",
    "                Column('ema5_theta', Float),\n",
    "                Column('ema20_theta', Float),\n",
    "                Column('screen', Integer, primary_key=True)\n",
    "                )\n",
    "\n",
    "long_positions = Table('Long', meta,\n",
    "                       Column('id_position', Integer, primary_key=True),\n",
    "                       Column('coin', String, primary_key=True),\n",
    "                       Column('strategy', String),\n",
    "                       Column('size_position', Float),\n",
    "                       Column('date_ask', DateTime),\n",
    "                       Column('ask', Float),\n",
    "                       Column('date_settlement', DateTime),\n",
    "                       Column('settlement', Float),\n",
    "                       Column('take_profit', Float),\n",
    "                       Column('stop_loss', Float),\n",
    "                       Column('exit_date', DateTime),\n",
    "                       Column('exit_price', Float),\n",
    "                       Column('log_return', Float),\n",
    "                       Column('status', String)\n",
    "                       )\n",
    "\n",
    "\n",
    "mkt_trend = Table('Market_trend', meta,\n",
    "                  Column('coin', String, primary_key=True),\n",
    "                  Column('date', DateTime, primary_key=True),\n",
    "                  Column('screen', Integer, primary_key=True),\n",
    "                  Column('dif_current', Float),\n",
    "                  Column('dif_base', Float),\n",
    "                  Column('d_dif', Float),\n",
    "                  Column('theta_current', Float),\n",
    "                  Column('theta_base', Float),\n",
    "                  Column('d_theta', Float),\n",
    "                  Column('vote', Integer)\n",
    "                  )\n",
    "\n",
    "\n",
    "rsi = Table('Rsi', meta,\n",
    "    Column('date', DateTime, primary_key = True),\n",
    "    Column('coin', String, primary_key = True),\n",
    "    Column('rsi', Float),\n",
    "    Column('screen', Integer, primary_key=True)\n",
    ")\n",
    "\n",
    "balances = Table('Balance', meta,\n",
    "                 Column('date', DateTime, primary_key=True),\n",
    "                 Column('coin', String, primary_key=True),\n",
    "                 Column('size_position', Float)\n",
    "                 )\n",
    "\n",
    "\n",
    "years = mdates.YearLocator()   # every year\n",
    "months = mdates.MonthLocator()  # every month\n",
    "yearsFmt = mdates.DateFormatter('%Y')\n",
    "# Create the above tables\n",
    "# meta.create_all(con)"
   ]
  },
  {
   "cell_type": "code",
   "execution_count": 19,
   "metadata": {
    "collapsed": true
   },
   "outputs": [],
   "source": [
    "def get_macds(coin = None, date = '2018-12-31', screen = 1):\n",
    "    if coin:\n",
    "        s = select([macd])\\\n",
    "            .where(and_(macd.c.coin == coin, macd.c.date <= date, macd.c.screen==screen))\\\n",
    "            .order_by(desc(macd.c.date))\n",
    "    else:\n",
    "         s = select([macd])\\\n",
    "            .where(and_(macd.c.date <= date, macd.c.screen==screen))\\\n",
    "            .order_by(desc(macd.c.date))\n",
    "            \n",
    "    rows = con.execute(s)\n",
    "    macd_df = pd.DataFrame(rows.fetchall()).iloc[::-1]\n",
    "    if not macd_df.empty:\n",
    "        macd_df.columns = rows.keys()\n",
    "    return macd_df\n",
    "\n",
    "def get_tickers(coin = None, date = '2018-12-31', screen = 1):\n",
    "    if coin:\n",
    "        s = select([tickers])\\\n",
    "            .where(and_(tickers.c.coin == coin, tickers.c.date <= date, tickers.c.screen == screen))\\\n",
    "            .order_by(\n",
    "            desc(tickers.c.date))\n",
    "    else:\n",
    "        s = select([tickers])\\\n",
    "            .where(and_(tickers.c.date <= date, tickers.c.screen == screen))\\\n",
    "            .order_by(\n",
    "            desc(tickers.c.date))\n",
    "    rows = con.execute(s)\n",
    "    tickers_df = pd.DataFrame(rows.fetchall()).iloc[::-1]\n",
    "    if not tickers_df.empty:\n",
    "        tickers_df.columns = rows.keys()\n",
    "    return tickers_df\n",
    "\n",
    "def get_positions(coin=None, status='closed', date='2018-12-31'):\n",
    "    if coin:\n",
    "        s = select([long_positions]) \\\n",
    "            .where(and_(long_positions.c.coin == coin,\n",
    "                        long_positions.c.date_ask <= date,\n",
    "                        long_positions.c.status == status))\\\n",
    "            .order_by(desc(long_positions.c.date_ask))\n",
    "    else:\n",
    "        s = select([long_positions]) \\\n",
    "            .where(and_(long_positions.c.date_ask <= date,\n",
    "                        long_positions.c.status == status))\\\n",
    "            .order_by(desc(long_positions.c.date_ask))\n",
    "    rows = con.execute(s)\n",
    "    long_positions_df = pd.DataFrame(rows.fetchall()).iloc[::-1]\n",
    "    if not long_positions_df.empty:\n",
    "        long_positions_df.columns = rows.keys()\n",
    "    return long_positions_df\n",
    "\n",
    "def get_emas(coin=None, date='2018-12-31', screen=1):\n",
    "    if coin:\n",
    "        s = select([ema])\\\n",
    "            .where(and_(ema.c.coin == coin, ema.c.date <= date, ema.c.screen == screen))\\\n",
    "            .order_by(ema.c.date.desc())\n",
    "    else:\n",
    "        s = select([ema])\\\n",
    "            .where(and_(ema.c.date <= date, ema.c.screen == screen))\\\n",
    "            .order_by(ema.c.date.desc())\n",
    "    rows = con.execute(s)\n",
    "    ema_df = pd.DataFrame(rows.fetchall()).iloc[::-1]\n",
    "    if not ema_df.empty:\n",
    "        ema_df.columns = rows.keys()\n",
    "    return ema_df\n",
    "\n",
    "def get_mkt_trend(coin=None, date='2018-12-31', screen=1):\n",
    "    if coin:\n",
    "        s = select([mkt_trend]).\\\n",
    "            where(and_(mkt_trend.c.coin == coin, mkt_trend.c.date <= date, mkt_trend.c.screen == screen)).\\\n",
    "            order_by(desc(mkt_trend.c.date))\n",
    "    else:\n",
    "        s = select([mkt_trend]).\\\n",
    "            where(and_(mkt_trend.c.date <= date, mkt_trend.c.screen == screen)).\\\n",
    "            order_by(desc(mkt_trend.c.date))\n",
    "    rows = con.execute(s)\n",
    "    mkt_trend_df = pd.DataFrame(rows.fetchall()).iloc[::-1]\n",
    "    mkt_trend_df.columns = rows.keys()\n",
    "    return mkt_trend_df\n",
    "\n",
    "def get_balances(coin, date):\n",
    "    s = select([balances]) \\\n",
    "        .where(and_(balances.c.coin == coin,\n",
    "                    balances.c.date <= date))\\\n",
    "        .order_by(desc(balances.c.date))\n",
    "    rows = con.execute(s)\n",
    "    balances_df = pd.DataFrame(rows.fetchall()).iloc[::-1]\n",
    "    if not balances_df.empty:\n",
    "        balances_df.columns = rows.keys()\n",
    "    return balances_df"
   ]
  },
  {
   "cell_type": "code",
   "execution_count": 20,
   "metadata": {
    "collapsed": true
   },
   "outputs": [],
   "source": [
    "# def plot(dfs):\n",
    "#     c = ['red', 'blue', 'green', 'yellow']\n",
    "#     fig, ax = plt.subplots()\n",
    "#     ax.xaxis.set_major_locator(mdates.DayLocator())\n",
    "#     ax.xaxis.set_major_formatter(mdates.DateFormatter('%d %Y %H'))\n",
    "#     for i in range(len(dfs)):\n",
    "#         df = dfs[i]\n",
    "#         ax.plot(df.x, df.y, color = c[i])\n",
    "#     ax.format_xdata = mdates.DateFormatter('%Y-%m-%d')\n",
    "#     fig.autofmt_xdate()\n",
    "#     plt.show()  \n",
    "\n",
    "# dfs = []\n",
    "# mkt_trend_df = get_mkt_trend(coin, date, 1)\n",
    "# df['x'] = mkt_trend_df.date\n",
    "# df['y'] = mkt_trend_df.dif_current\n",
    "# dfs.append(df)\n",
    "# tickers_df = get_tickers(coin, date, 0)\n",
    "# df['x'] = tickers_df.date\n",
    "# df['y'] = tickers_df.price\n",
    "# dfs.append(df)\n",
    "# long_df = get_positions(coin, 'closed', date)\n",
    "# df['x'] = long_df.date_ask\n",
    "# df['y'] = long_df.ask\n",
    "# dfs.append(df)\n",
    "# macd_df = get_macds(coin, date, 1)\n",
    "# df['x'] = macd_df.date\n",
    "# df['y'] = macd_df.ema_26\n",
    "# dfs.append(df)\n",
    "# plot(dfs)"
   ]
  },
  {
   "cell_type": "code",
   "execution_count": 21,
   "metadata": {
    "collapsed": true
   },
   "outputs": [],
   "source": [
    "def plot_market_trend(coin,start_date = datetime.today().strftime('%Y-%m-%d'),date = datetime.today().strftime('%Y-%m-%d')):\n",
    "    mkt_trend_df = get_mkt_trend(coin, date, 1)\n",
    "    \n",
    "    fig, ax = plt.subplots()\n",
    "    # format the ticks\n",
    "    #set ticks every week\n",
    "    ax.xaxis.set_major_locator(mdates.HourLocator())\n",
    "    #set major ticks format\n",
    "    ax.xaxis.set_major_formatter(mdates.DateFormatter('%d %Y %H'))\n",
    "    ax.bar(mkt_trend_df.date.values, mkt_trend_df.dif_current.values, color = 'red')\n",
    "    \n",
    "#     ax.set_ylim(0, 25000)\n",
    "    fig.autofmt_xdate()\n",
    "    plt.show()\n",
    "    \n",
    "# plot_screen('BTC', 60)"
   ]
  },
  {
   "cell_type": "markdown",
   "metadata": {},
   "source": [
    "EXAMPLE OF SAVE"
   ]
  },
  {
   "cell_type": "code",
   "execution_count": 22,
   "metadata": {
    "collapsed": true
   },
   "outputs": [],
   "source": [
    "def plot_screen(coin,start_date = datetime.today().strftime('%Y-%m-%d'),date = datetime.today().strftime('%Y-%m-%d')):\n",
    "    tickers_df = get_tickers(coin, date, 0)\n",
    "    tickers_df = tickers_df[(tickers_df.date < date) & (tickers_df.date > start_date)]\n",
    "    long_df = get_positions(coin, 'closed', date)\n",
    "    long_df = long_df[(long_df.date_ask < date) & (long_df.date_ask >= start_date)]\n",
    "    macd_df = get_macds(coin, date, 1)\n",
    "    macd_df = macd_df[(macd_df.date < date) & (macd_df.date >= start_date)]\n",
    "    fig, ax = plt.subplots()\n",
    "    # format the ticks\n",
    "    #set ticks every week\n",
    "    ax.xaxis.set_major_locator(mdates.HourLocator())\n",
    "    #set major ticks format\n",
    "    ax.xaxis.set_major_formatter(mdates.DateFormatter('%d %m %Y %H'))\n",
    "    ax.plot(tickers_df.date.values, tickers_df.price.values, color = 'green')\n",
    "    ax.scatter(long_df.date_ask.values, long_df.ask.values, color = 'red')\n",
    "#     ax.plot(macd_df.date.values, macd_df.ema_26.values, color = 'yellow')\n",
    "    ax.scatter(long_df.exit_date.values, long_df.exit_price.values, color = 'blue')\n",
    "    ax.format_xdata = mdates.DateFormatter('%Y-%m-%d')\n",
    "#     ax.set_ylim(0, 25000)\n",
    "    fig.autofmt_xdate()\n",
    "    plt.show()\n",
    "    \n",
    "# plot_screen('BTC', 60)"
   ]
  },
  {
   "cell_type": "code",
   "execution_count": 23,
   "metadata": {
    "collapsed": true
   },
   "outputs": [],
   "source": [
    "def plot_screen_2(coin,start_date = datetime.today().strftime('%Y-%m-%d'),date = datetime.today().strftime('%Y-%m-%d')):\n",
    "\n",
    "    macd_df = get_macds(coin, date, 1)\n",
    "    macd_df = macd_df[(macd_df.date < date) & (macd_df.date >= start_date)]\n",
    "    fig, ax = plt.subplots()\n",
    "    # format the ticks\n",
    "    #set ticks every week\n",
    "    ax.xaxis.set_major_locator(mdates.HourLocator())\n",
    "    #set major ticks format\n",
    "    ax.xaxis.set_major_formatter(mdates.DateFormatter('%d %m %Y %H'))\n",
    "    short = ax.plot(macd_df.date.values, macd_df.ema12.values, color = 'blue', label='Short', marker = 'o')\n",
    "    long = ax.plot(macd_df.date.values, macd_df.ema_26.values, color = 'red', label='Long', marker = 'o')\n",
    "    ax.format_xdata = mdates.DateFormatter('%Y-%m-%d H:M:S')\n",
    "#     ax.set_ylim(0, 25000)\n",
    "    fig.autofmt_xdate()\n",
    "    plt.show()\n",
    "    \n",
    "# plot_screen('BTC', 60)"
   ]
  },
  {
   "cell_type": "code",
   "execution_count": 24,
   "metadata": {
    "collapsed": true
   },
   "outputs": [],
   "source": [
    "def plot_screen_3(coin, start_date = datetime.today().strftime('%Y-%m-%d'), date = datetime.today().strftime('%Y-%m-%d')):\n",
    "\n",
    "    ema_df = get_emas(coin, date, 1)\n",
    "    fig, ax = plt.subplots()\n",
    "    # format the ticks\n",
    "    #set ticks every week\n",
    "    ax.xaxis.set_major_locator(mdates.HourLocator())\n",
    "    #set major ticks format\n",
    "    ax.xaxis.set_major_formatter(mdates.DateFormatter('%d %m %Y %H'))\n",
    "    ax.plot(ema_df.date.values, ema_df.ema20.values, color = 'red', label='Long', marker ='o')\n",
    "    ax.plot(ema_df.date.values, ema_df.ema5.values, color = 'blue', marker = 'o')\n",
    "    ax.format_xdata = mdates.DateFormatter('%Y-%m-%d H:M:S')\n",
    "#     ax.set_ylim(0, 25000)\n",
    "    fig.autofmt_xdate()\n",
    "    plt.show()\n",
    "    \n",
    "# plot_screen('BTC', 60)"
   ]
  },
  {
   "cell_type": "code",
   "execution_count": 25,
   "metadata": {
    "collapsed": true
   },
   "outputs": [],
   "source": [
    "def plot_fft(coin, start, date):\n",
    "    from scipy.fftpack import fft, ifft\n",
    "    df = get_tickers(coin, date, 1)\n",
    "    df = df[(df.date < date) & (df.date >= start)]\n",
    "    time = df.date\n",
    "    df = get_tickers(coin, date, 1)\n",
    "    df = df[(df.date < date) & (df.date >= start)]\n",
    "    time = df.date\n",
    "    data = df.price\n",
    "    # N = 4*60*60 # measured every 15 minutes\n",
    "    yf = fft(data)\n",
    "    # fig, ax = plt.subplots()\n",
    "    # ax.plot(2.0/N * np.abs(yf[:N//2]), color = 'red')\n",
    "    # # ax.set_xlim(0, 100)\n",
    "    # plt.show() \n",
    "    wn = 18\n",
    "    # yf[20:]=0\n",
    "    yf[wn:-wn] = 0\n",
    "    iY = ifft(yf).real\n",
    "    fig, ax = plt.subplots()\n",
    "    ax.xaxis.set_major_locator(mdates.HourLocator())\n",
    "    ax.xaxis.set_major_formatter(mdates.DateFormatter('%d %m %Y %H'))\n",
    "    # long = ax.plot(macd_df.date, macd_df.ema12, color = 'blue')\n",
    "    ax.plot(df.date.values, iY, color = 'red', marker = 'o')\n",
    "    # ax.plot(df.date.values, df.price, color = 'blue')\n",
    "    ax.format_xdata = mdates.DateFormatter('%Y-%m-%d H:M:S')\n",
    "    fig.autofmt_xdate()\n",
    "    plt.show()"
   ]
  },
  {
   "cell_type": "code",
   "execution_count": 26,
   "metadata": {
    "scrolled": false
   },
   "outputs": [
    {
     "ename": "AttributeError",
     "evalue": "'DataFrame' object has no attribute 'date_ask'",
     "output_type": "error",
     "traceback": [
      "\u001b[0;31m---------------------------------------------------------------------------\u001b[0m",
      "\u001b[0;31mAttributeError\u001b[0m                            Traceback (most recent call last)",
      "\u001b[0;32m<ipython-input-26-b3a92327334b>\u001b[0m in \u001b[0;36m<module>\u001b[0;34m()\u001b[0m\n\u001b[1;32m      2\u001b[0m \u001b[0mstart\u001b[0m \u001b[0;34m=\u001b[0m \u001b[0;34m'2018-02-22 05:00:00'\u001b[0m\u001b[0;34m\u001b[0m\u001b[0m\n\u001b[1;32m      3\u001b[0m \u001b[0mstop\u001b[0m \u001b[0;34m=\u001b[0m \u001b[0;34m'2018-02-24 22:00:00'\u001b[0m\u001b[0;34m\u001b[0m\u001b[0m\n\u001b[0;32m----> 4\u001b[0;31m \u001b[0mplot_screen\u001b[0m\u001b[0;34m(\u001b[0m\u001b[0mcoin\u001b[0m\u001b[0;34m,\u001b[0m \u001b[0mstart\u001b[0m\u001b[0;34m,\u001b[0m \u001b[0mstop\u001b[0m\u001b[0;34m)\u001b[0m\u001b[0;34m\u001b[0m\u001b[0m\n\u001b[0m\u001b[1;32m      5\u001b[0m \u001b[0;31m# stop = '2018-02-22 17:00:00'\u001b[0m\u001b[0;34m\u001b[0m\u001b[0;34m\u001b[0m\u001b[0m\n\u001b[1;32m      6\u001b[0m \u001b[0mplot_screen_2\u001b[0m\u001b[0;34m(\u001b[0m\u001b[0mcoin\u001b[0m\u001b[0;34m,\u001b[0m \u001b[0mstart\u001b[0m\u001b[0;34m,\u001b[0m \u001b[0mstop\u001b[0m\u001b[0;34m)\u001b[0m\u001b[0;34m\u001b[0m\u001b[0m\n",
      "\u001b[0;32m<ipython-input-22-c644475e31d4>\u001b[0m in \u001b[0;36mplot_screen\u001b[0;34m(coin, start_date, date)\u001b[0m\n\u001b[1;32m      3\u001b[0m     \u001b[0mtickers_df\u001b[0m \u001b[0;34m=\u001b[0m \u001b[0mtickers_df\u001b[0m\u001b[0;34m[\u001b[0m\u001b[0;34m(\u001b[0m\u001b[0mtickers_df\u001b[0m\u001b[0;34m.\u001b[0m\u001b[0mdate\u001b[0m \u001b[0;34m<\u001b[0m \u001b[0mdate\u001b[0m\u001b[0;34m)\u001b[0m \u001b[0;34m&\u001b[0m \u001b[0;34m(\u001b[0m\u001b[0mtickers_df\u001b[0m\u001b[0;34m.\u001b[0m\u001b[0mdate\u001b[0m \u001b[0;34m>\u001b[0m \u001b[0mstart_date\u001b[0m\u001b[0;34m)\u001b[0m\u001b[0;34m]\u001b[0m\u001b[0;34m\u001b[0m\u001b[0m\n\u001b[1;32m      4\u001b[0m     \u001b[0mlong_df\u001b[0m \u001b[0;34m=\u001b[0m \u001b[0mget_positions\u001b[0m\u001b[0;34m(\u001b[0m\u001b[0mcoin\u001b[0m\u001b[0;34m,\u001b[0m \u001b[0;34m'closed'\u001b[0m\u001b[0;34m,\u001b[0m \u001b[0mdate\u001b[0m\u001b[0;34m)\u001b[0m\u001b[0;34m\u001b[0m\u001b[0m\n\u001b[0;32m----> 5\u001b[0;31m     \u001b[0mlong_df\u001b[0m \u001b[0;34m=\u001b[0m \u001b[0mlong_df\u001b[0m\u001b[0;34m[\u001b[0m\u001b[0;34m(\u001b[0m\u001b[0mlong_df\u001b[0m\u001b[0;34m.\u001b[0m\u001b[0mdate_ask\u001b[0m \u001b[0;34m<\u001b[0m \u001b[0mdate\u001b[0m\u001b[0;34m)\u001b[0m \u001b[0;34m&\u001b[0m \u001b[0;34m(\u001b[0m\u001b[0mlong_df\u001b[0m\u001b[0;34m.\u001b[0m\u001b[0mdate_ask\u001b[0m \u001b[0;34m>=\u001b[0m \u001b[0mstart_date\u001b[0m\u001b[0;34m)\u001b[0m\u001b[0;34m]\u001b[0m\u001b[0;34m\u001b[0m\u001b[0m\n\u001b[0m\u001b[1;32m      6\u001b[0m     \u001b[0mmacd_df\u001b[0m \u001b[0;34m=\u001b[0m \u001b[0mget_macds\u001b[0m\u001b[0;34m(\u001b[0m\u001b[0mcoin\u001b[0m\u001b[0;34m,\u001b[0m \u001b[0mdate\u001b[0m\u001b[0;34m,\u001b[0m \u001b[0;36m1\u001b[0m\u001b[0;34m)\u001b[0m\u001b[0;34m\u001b[0m\u001b[0m\n\u001b[1;32m      7\u001b[0m     \u001b[0mmacd_df\u001b[0m \u001b[0;34m=\u001b[0m \u001b[0mmacd_df\u001b[0m\u001b[0;34m[\u001b[0m\u001b[0;34m(\u001b[0m\u001b[0mmacd_df\u001b[0m\u001b[0;34m.\u001b[0m\u001b[0mdate\u001b[0m \u001b[0;34m<\u001b[0m \u001b[0mdate\u001b[0m\u001b[0;34m)\u001b[0m \u001b[0;34m&\u001b[0m \u001b[0;34m(\u001b[0m\u001b[0mmacd_df\u001b[0m\u001b[0;34m.\u001b[0m\u001b[0mdate\u001b[0m \u001b[0;34m>=\u001b[0m \u001b[0mstart_date\u001b[0m\u001b[0;34m)\u001b[0m\u001b[0;34m]\u001b[0m\u001b[0;34m\u001b[0m\u001b[0m\n",
      "\u001b[0;32m~/anaconda2/envs/cryptocurrency-analysis/lib/python3.6/site-packages/pandas/core/generic.py\u001b[0m in \u001b[0;36m__getattr__\u001b[0;34m(self, name)\u001b[0m\n\u001b[1;32m   3079\u001b[0m             \u001b[0;32mif\u001b[0m \u001b[0mname\u001b[0m \u001b[0;32min\u001b[0m \u001b[0mself\u001b[0m\u001b[0;34m.\u001b[0m\u001b[0m_info_axis\u001b[0m\u001b[0;34m:\u001b[0m\u001b[0;34m\u001b[0m\u001b[0m\n\u001b[1;32m   3080\u001b[0m                 \u001b[0;32mreturn\u001b[0m \u001b[0mself\u001b[0m\u001b[0;34m[\u001b[0m\u001b[0mname\u001b[0m\u001b[0;34m]\u001b[0m\u001b[0;34m\u001b[0m\u001b[0m\n\u001b[0;32m-> 3081\u001b[0;31m             \u001b[0;32mreturn\u001b[0m \u001b[0mobject\u001b[0m\u001b[0;34m.\u001b[0m\u001b[0m__getattribute__\u001b[0m\u001b[0;34m(\u001b[0m\u001b[0mself\u001b[0m\u001b[0;34m,\u001b[0m \u001b[0mname\u001b[0m\u001b[0;34m)\u001b[0m\u001b[0;34m\u001b[0m\u001b[0m\n\u001b[0m\u001b[1;32m   3082\u001b[0m \u001b[0;34m\u001b[0m\u001b[0m\n\u001b[1;32m   3083\u001b[0m     \u001b[0;32mdef\u001b[0m \u001b[0m__setattr__\u001b[0m\u001b[0;34m(\u001b[0m\u001b[0mself\u001b[0m\u001b[0;34m,\u001b[0m \u001b[0mname\u001b[0m\u001b[0;34m,\u001b[0m \u001b[0mvalue\u001b[0m\u001b[0;34m)\u001b[0m\u001b[0;34m:\u001b[0m\u001b[0;34m\u001b[0m\u001b[0m\n",
      "\u001b[0;31mAttributeError\u001b[0m: 'DataFrame' object has no attribute 'date_ask'"
     ]
    }
   ],
   "source": [
    "coin = 'USDT_BTC'\n",
    "start = '2018-02-22 05:00:00'\n",
    "stop = '2018-02-24 22:00:00'\n",
    "plot_screen(coin, start, stop)\n",
    "# stop = '2018-02-22 17:00:00'\n",
    "plot_screen_2(coin, start, stop)\n",
    "plot_fft(coin, start, stop)\n",
    "# plot_screen_3(coin, start, stop)"
   ]
  },
  {
   "cell_type": "code",
   "execution_count": 27,
   "metadata": {
    "scrolled": false
   },
   "outputs": [
    {
     "name": "stdout",
     "output_type": "stream",
     "text": [
      "ALL\n"
     ]
    },
    {
     "data": {
      "text/html": [
       "<div>\n",
       "<style>\n",
       "    .dataframe thead tr:only-child th {\n",
       "        text-align: right;\n",
       "    }\n",
       "\n",
       "    .dataframe thead th {\n",
       "        text-align: left;\n",
       "    }\n",
       "\n",
       "    .dataframe tbody tr th {\n",
       "        vertical-align: top;\n",
       "    }\n",
       "</style>\n",
       "<table border=\"1\" class=\"dataframe\">\n",
       "  <thead>\n",
       "    <tr style=\"text-align: right;\">\n",
       "      <th></th>\n",
       "      <th>coin_x</th>\n",
       "      <th>strategy</th>\n",
       "      <th>date_ask</th>\n",
       "      <th>ask</th>\n",
       "      <th>take_profit</th>\n",
       "      <th>stop_loss</th>\n",
       "      <th>exit_date</th>\n",
       "      <th>exit_price</th>\n",
       "      <th>log_return</th>\n",
       "      <th>coin_y</th>\n",
       "      <th>dif_current</th>\n",
       "      <th>dif_base</th>\n",
       "      <th>d_dif</th>\n",
       "      <th>theta_current</th>\n",
       "      <th>theta_base</th>\n",
       "      <th>d_theta</th>\n",
       "      <th>vote</th>\n",
       "      <th>real_return</th>\n",
       "    </tr>\n",
       "  </thead>\n",
       "  <tbody>\n",
       "    <tr>\n",
       "      <th>0</th>\n",
       "      <td>USDT_LTC</td>\n",
       "      <td>CHANNEL</td>\n",
       "      <td>2018-02-27 03:30:00</td>\n",
       "      <td>217.452341</td>\n",
       "      <td>246.123328</td>\n",
       "      <td>206.579724</td>\n",
       "      <td>2018-02-28 09:35:00</td>\n",
       "      <td>205.5</td>\n",
       "      <td>-0.056534</td>\n",
       "      <td>USDT_BTC</td>\n",
       "      <td>0.004335</td>\n",
       "      <td>0.010287</td>\n",
       "      <td>-0.864178</td>\n",
       "      <td>0.569067</td>\n",
       "      <td>1.301425</td>\n",
       "      <td>-0.827217</td>\n",
       "      <td>0</td>\n",
       "      <td>-0.062046</td>\n",
       "    </tr>\n",
       "    <tr>\n",
       "      <th>1</th>\n",
       "      <td>USDT_LTC</td>\n",
       "      <td>CHANNEL</td>\n",
       "      <td>2018-02-27 03:30:00</td>\n",
       "      <td>217.452341</td>\n",
       "      <td>246.123328</td>\n",
       "      <td>206.579724</td>\n",
       "      <td>2018-02-28 09:35:00</td>\n",
       "      <td>205.5</td>\n",
       "      <td>-0.056534</td>\n",
       "      <td>USDT_LTC</td>\n",
       "      <td>0.026316</td>\n",
       "      <td>0.020652</td>\n",
       "      <td>0.242372</td>\n",
       "      <td>0.002412</td>\n",
       "      <td>-0.037509</td>\n",
       "      <td>-2.743922</td>\n",
       "      <td>1</td>\n",
       "      <td>-0.062046</td>\n",
       "    </tr>\n",
       "  </tbody>\n",
       "</table>\n",
       "</div>"
      ],
      "text/plain": [
       "     coin_x strategy            date_ask         ask  take_profit   stop_loss  \\\n",
       "0  USDT_LTC  CHANNEL 2018-02-27 03:30:00  217.452341   246.123328  206.579724   \n",
       "1  USDT_LTC  CHANNEL 2018-02-27 03:30:00  217.452341   246.123328  206.579724   \n",
       "\n",
       "            exit_date  exit_price  log_return    coin_y  dif_current  \\\n",
       "0 2018-02-28 09:35:00       205.5   -0.056534  USDT_BTC     0.004335   \n",
       "1 2018-02-28 09:35:00       205.5   -0.056534  USDT_LTC     0.026316   \n",
       "\n",
       "   dif_base     d_dif  theta_current  theta_base   d_theta  vote  real_return  \n",
       "0  0.010287 -0.864178       0.569067    1.301425 -0.827217     0    -0.062046  \n",
       "1  0.020652  0.242372       0.002412   -0.037509 -2.743922     1    -0.062046  "
      ]
     },
     "execution_count": 27,
     "metadata": {},
     "output_type": "execute_result"
    }
   ],
   "source": [
    "def log_return(coin=None, date_init = '2017-01-01', date_end = '2018-12-31'):    \n",
    "    long_df = get_positions(coin, 'closed', date_end)\n",
    "    mkt_trend_df = get_mkt_trend(coin, date_end, 1)\n",
    "#     mkt_trend_df = mkt_trend_df[['date', 'screen', 'dif_current', 'delta_dif']] \n",
    "    \n",
    "    merged = pd.merge(long_df, mkt_trend_df, how='inner', left_on=['date_ask'], right_on=['date'])\n",
    "    merged['real_return'] = np.log((200 * (1 + merged['log_return']))/(200 + 200 * 0.0015 + 200 * (1 + merged['log_return']) * 0.0025))\n",
    "#     print(merged['real_return'].mean())\n",
    "#     print(merged['real_return'].max())\n",
    "#     print(merged['real_return'].min())\n",
    "#     print((merged['real_return'] * 100).sum())\n",
    "    merged = merged.drop(['id_position',\n",
    "                          'size_position',\n",
    "                          'date_settlement',\n",
    "                          'settlement', \n",
    "                          'status',\n",
    "                          'date', \n",
    "                          'screen'], axis = 1)\n",
    "    return merged\n",
    "    \n",
    "date = '2018-01-01'\n",
    "date_end = '2018-03-01'\n",
    "coin = 'USDT_BTC'\n",
    "\n",
    "# print('DATE')\n",
    "log_return(None, date, date_end)\n",
    "print('ALL')\n",
    "df = log_return()\n",
    "df"
   ]
  },
  {
   "cell_type": "code",
   "execution_count": 28,
   "metadata": {},
   "outputs": [
    {
     "data": {
      "text/plain": [
       "0.0096711798838149"
      ]
     },
     "execution_count": 28,
     "metadata": {},
     "output_type": "execute_result"
    }
   ],
   "source": [
    "date = '2017-01-01'\n",
    "date_end = '2018-12-31'\n",
    "coin = 'USDT_BTC'\n",
    "\n",
    "long_df = get_positions(status='active', date=date_end)\n",
    "# mkt_trend_df = get_mkt_trend(date=date_end, screen=1)\n",
    "# mkt_trend_df = mkt_trend_df[['date', 'screen', 'dif_current', 'd_dif']] \n",
    "# merged = pd.merge(long_df, mkt_trend_df, how='inner', left_on=['date_ask'], right_on=['date'])\n",
    "# merged['real_return'] = np.log((200 * (1 + merged['log_return']))/(200 + 200 * 0.0015 + 200 * (1 + merged['log_return']) * 0.0025))\n",
    "# merged['month'] = pd.to_datetime(merged['date_ask']).dt.month\n",
    "# merged['year'] = pd.to_datetime(merged['date_ask']).dt.year\n",
    "long_df = long_df.groupby(['coin'])['size_position'].sum().reset_index()\n",
    "long_df.size_position[0]"
   ]
  },
  {
   "cell_type": "code",
   "execution_count": 29,
   "metadata": {
    "scrolled": false
   },
   "outputs": [
    {
     "ename": "NameError",
     "evalue": "name 'merged' is not defined",
     "output_type": "error",
     "traceback": [
      "\u001b[0;31m---------------------------------------------------------------------------\u001b[0m",
      "\u001b[0;31mNameError\u001b[0m                                 Traceback (most recent call last)",
      "\u001b[0;32m<ipython-input-29-5826145e3d55>\u001b[0m in \u001b[0;36m<module>\u001b[0;34m()\u001b[0m\n\u001b[0;32m----> 1\u001b[0;31m \u001b[0mmerged\u001b[0m\u001b[0;34m.\u001b[0m\u001b[0mgroupby\u001b[0m\u001b[0;34m(\u001b[0m\u001b[0;34m[\u001b[0m\u001b[0;34m'coin'\u001b[0m\u001b[0;34m,\u001b[0m \u001b[0;34m'strategy'\u001b[0m\u001b[0;34m,\u001b[0m \u001b[0;34m'year'\u001b[0m\u001b[0;34m,\u001b[0m\u001b[0;34m'month'\u001b[0m\u001b[0;34m]\u001b[0m\u001b[0;34m)\u001b[0m\u001b[0;34m[\u001b[0m\u001b[0;34m'log_return'\u001b[0m\u001b[0;34m,\u001b[0m \u001b[0;34m'real_return'\u001b[0m\u001b[0;34m]\u001b[0m\u001b[0;34m.\u001b[0m\u001b[0mmean\u001b[0m\u001b[0;34m(\u001b[0m\u001b[0;34m)\u001b[0m\u001b[0;34m.\u001b[0m\u001b[0mreset_index\u001b[0m\u001b[0;34m(\u001b[0m\u001b[0;34m)\u001b[0m\u001b[0;34m.\u001b[0m\u001b[0mlog_return\u001b[0m\u001b[0;34m[\u001b[0m\u001b[0;36m0\u001b[0m\u001b[0;34m]\u001b[0m\u001b[0;34m\u001b[0m\u001b[0m\n\u001b[0m",
      "\u001b[0;31mNameError\u001b[0m: name 'merged' is not defined"
     ]
    }
   ],
   "source": [
    "merged.groupby(['coin', 'strategy', 'year','month'])['log_return', 'real_return'].mean().reset_index().log_return[0]"
   ]
  },
  {
   "cell_type": "code",
   "execution_count": 30,
   "metadata": {},
   "outputs": [
    {
     "ename": "NameError",
     "evalue": "name 'merged' is not defined",
     "output_type": "error",
     "traceback": [
      "\u001b[0;31m---------------------------------------------------------------------------\u001b[0m",
      "\u001b[0;31mNameError\u001b[0m                                 Traceback (most recent call last)",
      "\u001b[0;32m<ipython-input-30-5407e8b6d0da>\u001b[0m in \u001b[0;36m<module>\u001b[0;34m()\u001b[0m\n\u001b[0;32m----> 1\u001b[0;31m \u001b[0mmerged\u001b[0m\u001b[0;34m.\u001b[0m\u001b[0mgroupby\u001b[0m\u001b[0;34m(\u001b[0m\u001b[0;34m[\u001b[0m\u001b[0;34m'strategy'\u001b[0m\u001b[0;34m,\u001b[0m \u001b[0;34m'year'\u001b[0m\u001b[0;34m,\u001b[0m\u001b[0;34m'month'\u001b[0m\u001b[0;34m]\u001b[0m\u001b[0;34m)\u001b[0m\u001b[0;34m[\u001b[0m\u001b[0;34m'log_return'\u001b[0m\u001b[0;34m,\u001b[0m \u001b[0;34m'real_return'\u001b[0m\u001b[0;34m]\u001b[0m\u001b[0;34m.\u001b[0m\u001b[0mmean\u001b[0m\u001b[0;34m(\u001b[0m\u001b[0;34m)\u001b[0m\u001b[0;34m\u001b[0m\u001b[0m\n\u001b[0m",
      "\u001b[0;31mNameError\u001b[0m: name 'merged' is not defined"
     ]
    }
   ],
   "source": [
    "merged.groupby(['strategy', 'year','month'])['log_return', 'real_return'].mean()"
   ]
  },
  {
   "cell_type": "code",
   "execution_count": 31,
   "metadata": {
    "scrolled": false
   },
   "outputs": [
    {
     "data": {
      "image/png": "[encoded data removed]",
      "text/plain": [
       "<matplotlib.figure.Figure at 0x1a13f08320>"
      ]
     },
     "metadata": {},
     "output_type": "display_data"
    },
    {
     "data": {
      "image/png": "[encoded data removed]",
      "text/plain": [
       "<matplotlib.figure.Figure at 0x1a13f89860>"
      ]
     },
     "metadata": {},
     "output_type": "display_data"
    },
    {
     "ename": "AttributeError",
     "evalue": "module 'scipy' has no attribute 'fftpack'",
     "output_type": "error",
     "traceback": [
      "\u001b[0;31m---------------------------------------------------------------------------\u001b[0m",
      "\u001b[0;31mAttributeError\u001b[0m                            Traceback (most recent call last)",
      "\u001b[0;32m<ipython-input-31-aa1998d2094e>\u001b[0m in \u001b[0;36m<module>\u001b[0;34m()\u001b[0m\n\u001b[1;32m     18\u001b[0m \u001b[0mdata\u001b[0m \u001b[0;34m=\u001b[0m \u001b[0mdf\u001b[0m\u001b[0;34m.\u001b[0m\u001b[0mprice\u001b[0m\u001b[0;34m\u001b[0m\u001b[0m\n\u001b[1;32m     19\u001b[0m \u001b[0mN\u001b[0m \u001b[0;34m=\u001b[0m \u001b[0;36m4\u001b[0m\u001b[0;34m*\u001b[0m\u001b[0;36m60\u001b[0m\u001b[0;34m*\u001b[0m\u001b[0;36m60\u001b[0m \u001b[0;31m# measured every 15 minutes\u001b[0m\u001b[0;34m\u001b[0m\u001b[0m\n\u001b[0;32m---> 20\u001b[0;31m \u001b[0myf\u001b[0m \u001b[0;34m=\u001b[0m \u001b[0mscipy\u001b[0m\u001b[0;34m.\u001b[0m\u001b[0mfftpack\u001b[0m\u001b[0;34m.\u001b[0m\u001b[0mfft\u001b[0m\u001b[0;34m(\u001b[0m\u001b[0mdata\u001b[0m\u001b[0;34m)\u001b[0m\u001b[0;34m\u001b[0m\u001b[0m\n\u001b[0m\u001b[1;32m     21\u001b[0m \u001b[0mfig\u001b[0m\u001b[0;34m,\u001b[0m \u001b[0max\u001b[0m \u001b[0;34m=\u001b[0m \u001b[0mplt\u001b[0m\u001b[0;34m.\u001b[0m\u001b[0msubplots\u001b[0m\u001b[0;34m(\u001b[0m\u001b[0;34m)\u001b[0m\u001b[0;34m\u001b[0m\u001b[0m\n\u001b[1;32m     22\u001b[0m \u001b[0max\u001b[0m\u001b[0;34m.\u001b[0m\u001b[0mplot\u001b[0m\u001b[0;34m(\u001b[0m\u001b[0;36m2.0\u001b[0m\u001b[0;34m/\u001b[0m\u001b[0mN\u001b[0m \u001b[0;34m*\u001b[0m \u001b[0mnp\u001b[0m\u001b[0;34m.\u001b[0m\u001b[0mabs\u001b[0m\u001b[0;34m(\u001b[0m\u001b[0myf\u001b[0m\u001b[0;34m[\u001b[0m\u001b[0;34m:\u001b[0m\u001b[0mN\u001b[0m\u001b[0;34m//\u001b[0m\u001b[0;36m2\u001b[0m\u001b[0;34m]\u001b[0m\u001b[0;34m)\u001b[0m\u001b[0;34m,\u001b[0m \u001b[0mcolor\u001b[0m \u001b[0;34m=\u001b[0m \u001b[0;34m'red'\u001b[0m\u001b[0;34m)\u001b[0m\u001b[0;34m\u001b[0m\u001b[0m\n",
      "\u001b[0;31mAttributeError\u001b[0m: module 'scipy' has no attribute 'fftpack'"
     ]
    }
   ],
   "source": [
    "import numpy as np\n",
    "import scipy\n",
    "coin = 'USDT_BTC'\n",
    "date = '2019-01-18'\n",
    "start = '2017-01-15'\n",
    "df = get_tickers(coin, date, 0)\n",
    "df = df[(df.date < date) & (df.date >= start)]\n",
    "time = df.date\n",
    "fig, ax = plt.subplots()\n",
    "ax.plot(df.date, df.price, color = 'red')\n",
    "plt.show()\n",
    "df = get_tickers(coin, date, 1)\n",
    "df = df[(df.date < date) & (df.date >= start)]\n",
    "time = df.date\n",
    "fig, ax = plt.subplots()\n",
    "ax.plot(df.date, df.price, color = 'red')\n",
    "plt.show()\n",
    "data = df.price\n",
    "N = 4*60*60 # measured every 15 minutes\n",
    "yf = scipy.fftpack.fft(data)\n",
    "fig, ax = plt.subplots()\n",
    "ax.plot(2.0/N * np.abs(yf[:N//2]), color = 'red')\n",
    "# ax.set_xlim(0, 100)\n",
    "plt.show() \n",
    "wn = 18\n",
    "# yf[20:]=0\n",
    "yf[wn:-wn] = 0\n",
    "iY = scipy.fftpack.ifft(yf).real\n",
    "fig, ax = plt.subplots()\n",
    "# long = ax.plot(macd_df.date, macd_df.ema12, color = 'blue')\n",
    "ax.plot(df.date.values, iY, color = 'red', marker = 'o')\n",
    "# ax.plot(df.date.values, df.price, color = 'blue')\n",
    "plt.show()"
   ]
  },
  {
   "cell_type": "code",
   "execution_count": 39,
   "metadata": {},
   "outputs": [
    {
     "data": {
      "image/png": "[encoded data removed]",
      "text/plain": [
       "<matplotlib.figure.Figure at 0x1a1c3ae4a8>"
      ]
     },
     "metadata": {},
     "output_type": "display_data"
    }
   ],
   "source": [
    "def plot_balance(coin, date):\n",
    "    df = get_balances(coin, date)\n",
    "    fig, ax = plt.subplots()\n",
    "    ax.plot(df.date, df.size_position, color = 'red')\n",
    "    ax.set_ylim(0, 1500)\n",
    "    plt.show()\n",
    "    \n",
    "plot_balance('USD', '2019-01-01')"
   ]
  },
  {
   "cell_type": "code",
   "execution_count": null,
   "metadata": {
    "collapsed": true
   },
   "outputs": [],
   "source": []
  }
 ],
 "metadata": {
  "kernelspec": {
   "display_name": "Python [conda env:cryptocurrency-analysis]",
   "language": "python",
   "name": "conda-env-cryptocurrency-analysis-py"
  },
  "language_info": {
   "codemirror_mode": {
    "name": "ipython",
    "version": 3
   },
   "file_extension": ".py",
   "mimetype": "text/x-python",
   "name": "python",
   "nbconvert_exporter": "python",
   "pygments_lexer": "ipython3",
   "version": "3.6.3"
  }
 },
 "nbformat": 4,
 "nbformat_minor": 2
}
