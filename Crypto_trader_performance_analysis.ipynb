{
 "cells": [
  {
   "cell_type": "code",
   "execution_count": 1,
   "metadata": {
    "collapsed": true
   },
   "outputs": [],
   "source": [
    "import numpy as np \n",
    "import pandas as pd \n",
    "import seaborn as sns \n",
    "import matplotlib.pyplot as plt \n",
    "import matplotlib.dates as mdates\n",
    "plt.style.use('ggplot') \n",
    "import calendar\n",
    "import quandl\n",
    "import pickle\n",
    "from datetime import datetime, timedelta\n",
    "import re  \n",
    "import psycopg2\n",
    "import sys\n",
    "api_key = '764-Cog1Q3xa6Rns5pmj'\n",
    "quandl.ApiConfig.api_key = api_key\n",
    "import sqlalchemy\n",
    "from sqlalchemy.sql import select, and_, or_, not_, desc, asc\n",
    "from sqlalchemy import Table, Column, Integer, DateTime, String,Float, ForeignKey\n",
    "from sqlalchemy.orm import sessionmaker"
   ]
  },
  {
   "cell_type": "code",
   "execution_count": 2,
   "metadata": {
    "collapsed": true
   },
   "outputs": [],
   "source": [
    "fig_size = plt.rcParams[\"figure.figsize\"]\n",
    "fig_size[0] = 10\n",
    "fig_size[1] = 10\n",
    "plt.rcParams[\"figure.figsize\"] = fig_size"
   ]
  },
  {
   "cell_type": "code",
   "execution_count": 3,
   "metadata": {
    "collapsed": true
   },
   "outputs": [],
   "source": [
    "def connect(user, password, db, host='localhost', port=5432):\n",
    "    '''Returns a connection and a metadata object'''\n",
    "    # We connect with the help of the PostgreSQL URL\n",
    "    url = 'postgresql+psycopg2://{}:{}@{}:{}/{}'\n",
    "    url = url.format(user, password, host, port, db)\n",
    "\n",
    "    # The return value of create_engine() is our connection object\n",
    "    con = sqlalchemy.create_engine(url, client_encoding='utf8')\n",
    "\n",
    "    # We then bind the connection to MetaData()\n",
    "    meta = sqlalchemy.MetaData(bind=con)\n",
    "\n",
    "    return con, meta"
   ]
  },
  {
   "cell_type": "markdown",
   "metadata": {},
   "source": [
    "CREATE TABLES "
   ]
  },
  {
   "cell_type": "code",
   "execution_count": 4,
   "metadata": {
    "collapsed": true
   },
   "outputs": [],
   "source": [
    "con, meta = connect('postgres', '', 'robotdb')\n",
    "    \n",
    "tickers = Table('Ticker', meta,\n",
    "    Column('date', DateTime, primary_key = True),\n",
    "    Column('coin', String, primary_key = True),\n",
    "    Column('price', Float),\n",
    "    Column('screen', String, primary_key = True)\n",
    "                \n",
    "        \n",
    ")\n",
    "\n",
    "boillinger = Table('Boillinger', meta,\n",
    "                       Column('date', DateTime, primary_key=True),\n",
    "                       Column('coin', String, primary_key=True),\n",
    "                       Column('upper_band', Float),\n",
    "                       Column('lower_band', Float),\n",
    "                       Column('sma20', Float),\n",
    "                       Column('height', Float),\n",
    "                       Column('screen', Integer, primary_key=True)\n",
    "                       )\n",
    "\n",
    "ema = Table('Ema', meta,\n",
    "                Column('date', DateTime, primary_key=True),\n",
    "                Column('coin', String, primary_key=True),\n",
    "                Column('ema5', Float),\n",
    "                Column('ema20', Float),\n",
    "                Column('ema5_theta', Float),\n",
    "                Column('ema20_theta', Float),\n",
    "                Column('screen', Integer, primary_key=True)\n",
    "                )\n",
    "\n",
    "long_positions = Table('Long', meta,\n",
    "                       Column('id_position', Integer, primary_key=True),\n",
    "                       Column('coin', String, primary_key=True),\n",
    "                       Column('size_position', Float),\n",
    "                       Column('date_ask', DateTime),\n",
    "                       Column('ask', Float),\n",
    "                       Column('date_settlement', DateTime),\n",
    "                       Column('settlement', Float),\n",
    "                       Column('take_profit', Float),\n",
    "                       Column('stop_loss', Float),\n",
    "                       Column('exit_date', DateTime),\n",
    "                       Column('exit_price', Float),\n",
    "                       Column('log_return', Float),\n",
    "                       Column('status', String)\n",
    "                       )\n",
    "\n",
    "\n",
    "mkt_trend = Table('Market_trend', meta,\n",
    "                  Column('coin', String, primary_key=True),\n",
    "                  Column('date', DateTime, primary_key=True),\n",
    "                  Column('screen', Integer, primary_key=True),\n",
    "                  Column('dif_current', Float),\n",
    "                  Column('dif_base', Float),\n",
    "                  Column('vote', Integer)\n",
    "                  )\n",
    "\n",
    "# Create the above tables\n",
    "# meta.create_all(con)"
   ]
  },
  {
   "cell_type": "code",
   "execution_count": 5,
   "metadata": {
    "collapsed": true
   },
   "outputs": [],
   "source": [
    "def plot_market_trend(coin,start_date = datetime.today().strftime('%Y-%m-%d'),date = datetime.today().strftime('%Y-%m-%d')):\n",
    "    years = mdates.YearLocator()   # every year\n",
    "    months = mdates.MonthLocator()  # every month\n",
    "    yearsFmt = mdates.DateFormatter('%Y')\n",
    "    \n",
    "    s = select([mkt_trend]).\\\n",
    "        where(and_(mkt_trend.c.coin == coin, mkt_trend.c.date >= start_date, mkt_trend.c.date <= date, mkt_trend.c.screen == 1)).\\\n",
    "        order_by(desc(mkt_trend.c.date))\n",
    "    rows = con.execute(s)\n",
    "    mkt_trend_df = pd.DataFrame(rows.fetchall()).iloc[::-1]\n",
    "    mkt_trend_df.columns = rows.keys()\n",
    "    \n",
    "    fig, ax = plt.subplots()\n",
    "    # format the ticks\n",
    "    #set ticks every week\n",
    "    ax.xaxis.set_major_locator(mdates.DayLocator())\n",
    "    #set major ticks format\n",
    "    ax.xaxis.set_major_formatter(mdates.DateFormatter('%d %Y %H'))\n",
    "    ax.bar(mkt_trend_df.date.values, mkt_trend_df.dif_current.values, color = 'red')\n",
    "    ax.format_xdata = mdates.DateFormatter('%Y-%m-%d')\n",
    "#     ax.set_ylim(0, 25000)\n",
    "    fig.autofmt_xdate()\n",
    "    plt.show()\n",
    "    \n",
    "# plot_screen('BTC', 60)"
   ]
  },
  {
   "cell_type": "code",
   "execution_count": 6,
   "metadata": {
    "collapsed": true
   },
   "outputs": [],
   "source": [
    "def plot_market_trend_hist(coin,start_date = datetime.today().strftime('%Y-%m-%d'),date = datetime.today().strftime('%Y-%m-%d')):\n",
    "    years = mdates.YearLocator()   # every year\n",
    "    months = mdates.MonthLocator()  # every month\n",
    "    yearsFmt = mdates.DateFormatter('%Y')\n",
    "    \n",
    "    s = select([mkt_trend]).\\\n",
    "        where(and_(mkt_trend.c.coin == coin, mkt_trend.c.date >= start_date, mkt_trend.c.date <= date, mkt_trend.c.screen == 1)).\\\n",
    "        order_by(desc(mkt_trend.c.date))\n",
    "    rows = con.execute(s)\n",
    "    mkt_trend_df = pd.DataFrame(rows.fetchall()).iloc[::-1]\n",
    "    mkt_trend_df.columns = rows.keys()\n",
    "    print(len(mkt_trend_df))\n",
    "    fig, ax = plt.subplots()\n",
    "    ax.hist(mkt_trend_df.dif_current.values, bins = 25)\n",
    "    ax.format_xdata = mdates.DateFormatter('%Y-%m-%d')\n",
    "    plt.show()\n",
    "    \n",
    "# plot_screen('BTC', 60)"
   ]
  },
  {
   "cell_type": "markdown",
   "metadata": {},
   "source": [
    "EXAMPLE OF SAVE"
   ]
  },
  {
   "cell_type": "code",
   "execution_count": 7,
   "metadata": {
    "collapsed": true
   },
   "outputs": [],
   "source": [
    "def plot_screen(coin,start_date = datetime.today().strftime('%Y-%m-%d'),date = datetime.today().strftime('%Y-%m-%d')):\n",
    "    years = mdates.YearLocator()   # every year\n",
    "    months = mdates.MonthLocator()  # every month\n",
    "    yearsFmt = mdates.DateFormatter('%Y')\n",
    "    \n",
    "    s = select([tickers]).\\\n",
    "        where(and_(tickers.c.coin == coin, tickers.c.date >= start_date, tickers.c.date <= date, tickers.c.screen == 0)).\\\n",
    "        order_by(desc(tickers.c.date))\n",
    "    rows = con.execute(s)\n",
    "    tickers_df = pd.DataFrame(rows.fetchall()).iloc[::-1]\n",
    "    tickers_df.columns = rows.keys()\n",
    "    \n",
    "    s = select([ema]).\\\n",
    "        where(and_(ema.c.coin == coin, ema.c.date >= start_date, ema.c.date <= date, ema.c.screen == 1)).\\\n",
    "        order_by(desc(ema.c.date))\n",
    "        \n",
    "    rows = con.execute(s)\n",
    "    ema_df = pd.DataFrame(rows.fetchall()).iloc[::-1]\n",
    "    ema_df.columns = rows.keys()\n",
    "    \n",
    "    s = select([boillinger]).\\\n",
    "        where(and_(boillinger.c.coin == coin, boillinger.c.date >= start_date, boillinger.c.date <= date, boillinger.c.screen == 1)).\\\n",
    "        order_by(desc(boillinger.c.date))\n",
    "    rows = con.execute(s)\n",
    "    boillinger_df = pd.DataFrame(rows.fetchall()).iloc[::-1]\n",
    "    boillinger_df.columns = rows.keys()\n",
    "    \n",
    "    s = select([long_positions]).\\\n",
    "        where(and_(long_positions.c.coin == coin, long_positions.c.date_ask >= start_date, long_positions.c.date_ask <= date)).\\\n",
    "        order_by(desc(long_positions.c.date_ask))\n",
    "    rows = con.execute(s)\n",
    "    long_df = pd.DataFrame(rows.fetchall()).iloc[::-1]\n",
    "    long_df.columns = rows.keys()\n",
    "    \n",
    "    \n",
    "    fig, ax = plt.subplots()\n",
    "    # format the ticks\n",
    "    #set ticks every week\n",
    "    ax.xaxis.set_major_locator(mdates.DayLocator())\n",
    "    #set major ticks format\n",
    "    ax.xaxis.set_major_formatter(mdates.DateFormatter('%d %Y %H'))\n",
    "    ax.plot(tickers_df.date.values, tickers_df.price.values, color = 'green')\n",
    "    ax.scatter(long_df.date_ask.values, long_df.ask.values, color = 'red')\n",
    "    ax.scatter(long_df.exit_date.values, long_df.exit_price.values, color = 'blue')\n",
    "#     ax.scatter(ema_df.date.values, ema_df.ema5.values, color = 'blue')\n",
    "    ax.plot(boillinger_df.date.values, boillinger_df.upper_band.values)\n",
    "    ax.plot(boillinger_df.date.values, boillinger_df.lower_band.values)\n",
    "    ax.format_xdata = mdates.DateFormatter('%Y-%m-%d')\n",
    "#     ax.set_ylim(0, 25000)\n",
    "    fig.autofmt_xdate()\n",
    "    plt.show()\n",
    "    \n",
    "# plot_screen('BTC', 60)"
   ]
  },
  {
   "cell_type": "code",
   "execution_count": 8,
   "metadata": {
    "collapsed": true
   },
   "outputs": [],
   "source": [
    "def plot_screen_2(coin,\\\n",
    "                  start_date = datetime.today().strftime('%Y-%m-%d'), \\\n",
    "                  date = datetime.today().strftime('%Y-%m-%d')):\n",
    "    years = mdates.YearLocator()   # every year\n",
    "    months = mdates.MonthLocator()  # every month\n",
    "    yearsFmt = mdates.DateFormatter('%Y')\n",
    "    \n",
    "    s = select([ema]).\\\n",
    "        where(and_(ema.c.coin == coin, ema.c.date >= start_date, ema.c.date <= date, ema.c.screen == 1)).\\\n",
    "        order_by(desc(ema.c.date))\n",
    "    \n",
    "        \n",
    "    rows = con.execute(s)\n",
    "    ema_df = pd.DataFrame(rows.fetchall()).iloc[::-1]\n",
    "    ema_df.columns = rows.keys()\n",
    "    \n",
    "    \n",
    "    \n",
    "    fig, ax = plt.subplots()\n",
    "    # format the ticks\n",
    "    #set ticks every week\n",
    "    ax.xaxis.set_major_locator(mdates.DayLocator())\n",
    "    #set major ticks format\n",
    "    ax.xaxis.set_major_formatter(mdates.DateFormatter('%d %Y %H'))\n",
    "    ax.plot(ema_df.date.values, ema_df.ema20.values, color = 'blue')\n",
    "    ax.plot(ema_df.date.values, ema_df.ema5.values, color = 'red')\n",
    "    ax.format_xdata = mdates.DateFormatter('%Y-%m-%d')\n",
    "#     ax.set_ylim(0, 25000)\n",
    "    fig.autofmt_xdate()\n",
    "    plt.show()\n",
    "    \n",
    "# plot_screen('BTC', 60)"
   ]
  },
  {
   "cell_type": "code",
   "execution_count": 9,
   "metadata": {
    "collapsed": true
   },
   "outputs": [],
   "source": [
    "def plot_screen_3(coin,\\\n",
    "                  start_date = datetime.today().strftime('%Y-%m-%d'), \\\n",
    "                  date = datetime.today().strftime('%Y-%m-%d')):\n",
    "    years = mdates.YearLocator()   # every year\n",
    "    months = mdates.MonthLocator()  # every month\n",
    "    yearsFmt = mdates.DateFormatter('%Y')\n",
    "    \n",
    "    s = select([ema]).\\\n",
    "        where(and_(ema.c.coin == coin, ema.c.date >= start_date, ema.c.date <= date, ema.c.screen == 2)).\\\n",
    "        order_by(desc(ema.c.date))\n",
    "    \n",
    "        \n",
    "    rows = con.execute(s)\n",
    "    ema_df = pd.DataFrame(rows.fetchall()).iloc[::-1]\n",
    "    ema_df.columns = rows.keys()\n",
    "    \n",
    "    \n",
    "    \n",
    "    fig, ax = plt.subplots()\n",
    "    # format the ticks\n",
    "    #set ticks every week\n",
    "    ax.xaxis.set_major_locator(mdates.DayLocator())\n",
    "    #set major ticks format\n",
    "    ax.xaxis.set_major_formatter(mdates.DateFormatter('%d %Y %H'))\n",
    "    ax.plot(ema_df.date.values, ema_df.ema20.values, color = 'blue')\n",
    "    ax.plot(ema_df.date.values, ema_df.ema5.values, color = 'red')\n",
    "    ax.format_xdata = mdates.DateFormatter('%Y-%m-%d')\n",
    "#     ax.set_ylim(0, 25000)\n",
    "    fig.autofmt_xdate()\n",
    "    plt.show()\n",
    "    \n",
    "# plot_screen('BTC', 60)"
   ]
  },
  {
   "cell_type": "code",
   "execution_count": 13,
   "metadata": {
    "scrolled": false
   },
   "outputs": [
    {
     "name": "stdout",
     "output_type": "stream",
     "text": [
      "325\n"
     ]
    },
    {
     "data": {
      "image/png": "[encoded data removed]",
      "text/plain": [
       "<matplotlib.figure.Figure at 0x7fe2f1b6a6d8>"
      ]
     },
     "metadata": {},
     "output_type": "display_data"
    }
   ],
   "source": [
    "coin = 'USDT_LTC'\n",
    "start = '2017-01-01'\n",
    "# stop = '2018-01-15'\n",
    "# plot_screen(coin, start_date = start)\n",
    "# plot_screen_2(coin, start_date = start)\n",
    "# plot_market_trend(coin, start_date = start)\n",
    "plot_market_trend_hist(coin, start_date = start)\n",
    "# plot_screen_3(coin,start_date = start, date = stop)\n",
    "# plot_screen_3(coin, n)\n",
    "# plot_screen_4(coin, n)"
   ]
  },
  {
   "cell_type": "code",
   "execution_count": 14,
   "metadata": {
    "scrolled": false
   },
   "outputs": [
    {
     "name": "stdout",
     "output_type": "stream",
     "text": [
      "-0.4168071222090651\n",
      "    id_position      coin  size_position            date_ask         ask  \\\n",
      "0            54  USDT_LTC            0.1 2018-01-03 15:55:00  247.098420   \n",
      "1            58  USDT_LTC            0.1 2018-01-03 23:55:00  242.135852   \n",
      "2           100  USDT_LTC            0.1 2018-01-07 11:55:00  281.694100   \n",
      "3           102  USDT_LTC            0.1 2018-01-07 15:55:00  276.328905   \n",
      "4           104  USDT_LTC            0.1 2018-01-07 19:55:00  270.892033   \n",
      "5           106  USDT_LTC            0.1 2018-01-07 23:55:00  271.768986   \n",
      "6           108  USDT_LTC            0.1 2018-01-08 03:55:00  265.069170   \n",
      "7           186  USDT_LTC            0.1 2018-01-14 15:55:00  235.715933   \n",
      "8           188  USDT_LTC            0.1 2018-01-14 19:55:00  237.522153   \n",
      "9           268  USDT_LTC            0.1 2018-01-21 11:55:00  195.270560   \n",
      "10          270  USDT_LTC            0.1 2018-01-21 15:55:00  189.014164   \n",
      "11          442  USDT_LTC            0.1 2018-02-04 23:55:00  148.421553   \n",
      "12          446  USDT_LTC            0.1 2018-02-05 07:55:00  145.222460   \n",
      "13          448  USDT_LTC            0.1 2018-02-05 11:55:00  138.248057   \n",
      "14          486  USDT_LTC            0.1 2018-02-08 15:55:00  144.613606   \n",
      "15          492  USDT_LTC            0.1 2018-02-09 03:55:00  145.685578   \n",
      "16          514  USDT_LTC            0.1 2018-02-10 23:55:00  152.884441   \n",
      "17          516  USDT_LTC            0.1 2018-02-11 03:55:00  147.084132   \n",
      "18          572  USDT_LTC            0.1 2018-02-15 19:55:00  215.979899   \n",
      "19          574  USDT_LTC            0.1 2018-02-15 23:55:00  218.267941   \n",
      "20          576  USDT_LTC            0.1 2018-02-16 03:55:00  214.683779   \n",
      "21          578  USDT_LTC            0.1 2018-02-16 07:55:00  212.575048   \n",
      "22          590  USDT_LTC            0.1 2018-02-17 07:55:00  229.004426   \n",
      "23          640  USDT_LTC            0.1 2018-02-21 11:55:00  217.715862   \n",
      "\n",
      "       date_settlement  settlement  take_profit   stop_loss  \\\n",
      "0  2018-02-28 13:55:17  247.098420   275.733768  234.743499   \n",
      "1  2018-02-28 13:55:17  242.135852   276.145622  230.029059   \n",
      "2  2018-02-28 13:55:20  281.694100   308.980714  267.609395   \n",
      "3  2018-02-28 13:55:20  276.328905   309.725079  262.512459   \n",
      "4  2018-02-28 13:55:20  270.892033   309.596324  257.347431   \n",
      "5  2018-02-28 13:55:20  271.768986   310.292450  258.180537   \n",
      "6  2018-02-28 13:55:20  265.069170   309.029834  251.815711   \n",
      "7  2018-02-28 13:55:24  235.715933   274.236735  223.930137   \n",
      "8  2018-02-28 13:55:24  237.522153   274.266403  225.646045   \n",
      "9  2018-02-28 13:55:28  195.270560   225.370221  185.507032   \n",
      "10 2018-02-28 13:55:28  189.014164   223.601031  179.563455   \n",
      "11 2018-02-28 13:55:37  148.421553   167.966968  141.000476   \n",
      "12 2018-02-28 13:55:37  145.222460   167.595444  137.961337   \n",
      "13 2018-02-28 13:55:37  138.248057   165.566670  131.335655   \n",
      "14 2018-02-28 13:55:39  144.613606   161.334430  142.865299   \n",
      "15 2018-02-28 13:55:40  145.685578   163.496047  142.865299   \n",
      "16 2018-02-28 13:55:41  152.884441   175.453874  145.240219   \n",
      "17 2018-02-28 13:55:41  147.084132   173.802566  145.067613   \n",
      "18 2018-02-28 13:55:44  215.979899   230.662522  206.883983   \n",
      "19 2018-02-28 13:55:45  218.267941   233.557346  207.354544   \n",
      "20 2018-02-28 13:55:45  214.683779   235.227867  206.883983   \n",
      "21 2018-02-28 13:55:45  212.575048   236.505875  206.883983   \n",
      "22 2018-02-28 13:55:46  229.004426   252.907812  217.554205   \n",
      "23 2018-02-28 13:55:48  217.715862   257.511174  206.830069   \n",
      "\n",
      "             exit_date  exit_price  log_return  status                date  \\\n",
      "0  2018-01-04 07:55:00  231.141668   -0.066756  closed 2018-01-03 15:55:00   \n",
      "1  2018-01-04 11:55:00  230.005671   -0.051395  closed 2018-01-03 23:55:00   \n",
      "2  2018-01-08 03:55:00  265.069170   -0.060831  closed 2018-01-07 11:55:00   \n",
      "3  2018-01-08 11:55:00  256.360953   -0.075005  closed 2018-01-07 15:55:00   \n",
      "4  2018-01-08 11:55:00  256.360953   -0.055134  closed 2018-01-07 19:55:00   \n",
      "5  2018-01-08 11:55:00  256.360953   -0.058366  closed 2018-01-07 23:55:00   \n",
      "6  2018-01-08 15:55:00  245.938308   -0.074910  closed 2018-01-08 03:55:00   \n",
      "7  2018-01-16 03:55:00  222.648581   -0.057033  closed 2018-01-14 15:55:00   \n",
      "8  2018-01-16 03:55:00  222.648581   -0.064666  closed 2018-01-14 19:55:00   \n",
      "9  2018-01-22 15:55:00  175.310332   -0.107828  closed 2018-01-21 11:55:00   \n",
      "10 2018-01-22 15:55:00  175.310332   -0.075264  closed 2018-01-21 15:55:00   \n",
      "11 2018-02-05 11:55:00  138.248057   -0.071007  closed 2018-02-04 23:55:00   \n",
      "12 2018-02-05 15:55:00  131.697059   -0.097762  closed 2018-02-05 07:55:00   \n",
      "13 2018-02-05 19:55:00  127.277363   -0.082681  closed 2018-02-05 11:55:00   \n",
      "14 2018-02-09 23:55:00  162.883724    0.118971  closed 2018-02-08 15:55:00   \n",
      "15 2018-02-10 03:55:00  165.953993    0.130260  closed 2018-02-09 03:55:00   \n",
      "16 2018-02-11 07:55:00  143.586222   -0.062747  closed 2018-02-10 23:55:00   \n",
      "17 2018-02-14 03:55:00  178.589866    0.194087  closed 2018-02-11 03:55:00   \n",
      "18 2018-02-17 03:55:00  230.860852    0.066630  closed 2018-02-15 19:55:00   \n",
      "19 2018-02-20 03:55:00  236.538945    0.080389  closed 2018-02-15 23:55:00   \n",
      "20 2018-02-20 03:55:00  236.538945    0.096947  closed 2018-02-16 03:55:00   \n",
      "21 2018-02-20 03:55:00  236.538945    0.106818  closed 2018-02-16 07:55:00   \n",
      "22 2018-02-18 07:55:00  216.834758   -0.054606  closed 2018-02-17 07:55:00   \n",
      "23 2018-02-22 11:55:00  198.001225   -0.094918  closed 2018-02-21 11:55:00   \n",
      "\n",
      "    screen  dif_current  \n",
      "0        1     0.061357  \n",
      "1        1     0.049349  \n",
      "2        1     0.092255  \n",
      "3        1     0.078648  \n",
      "4        1     0.066290  \n",
      "5        1     0.055665  \n",
      "6        1     0.045474  \n",
      "7        1     0.043327  \n",
      "8        1     0.042375  \n",
      "9        1     0.052865  \n",
      "10       1     0.048686  \n",
      "11       1     0.109718  \n",
      "12       1     0.072215  \n",
      "13       1     0.041877  \n",
      "14       1     0.054862  \n",
      "15       1     0.039136  \n",
      "16       1     0.063461  \n",
      "17       1     0.053151  \n",
      "18       1     0.168830  \n",
      "19       1     0.168809  \n",
      "20       1     0.146825  \n",
      "21       1     0.125068  \n",
      "22       1     0.042678  \n",
      "23       1     0.047536  \n"
     ]
    }
   ],
   "source": [
    "def log_return(coin):\n",
    "    s = select([long_positions]).\\\n",
    "        where(and_( long_positions.c.status  == 'closed', long_positions.c.coin == coin)).\\\n",
    "        order_by(desc(long_positions.c.date_ask))\n",
    "    rows = con.execute(s)\n",
    "    long_df = pd.DataFrame(rows.fetchall()).iloc[::-1]\n",
    "    long_df.columns = rows.keys()\n",
    "    \n",
    "    s = select([mkt_trend]).\\\n",
    "        where(and_(mkt_trend.c.screen == 1)).\\\n",
    "        order_by(desc(mkt_trend.c.date))\n",
    "    rows = con.execute(s)\n",
    "    mkt_trend_df = pd.DataFrame(rows.fetchall()).iloc[::-1]\n",
    "    mkt_trend_df.columns = rows.keys()\n",
    "    mkt_trend_df = mkt_trend_df[['date', 'screen', 'dif_current']] \n",
    "    \n",
    "    \n",
    "    merged = pd.merge(long_df, mkt_trend_df, how='inner', left_on=['date_ask'], right_on=['date'])\n",
    "\n",
    "    \n",
    "    return_total = merged['log_return'].sum()\n",
    "    print(return_total)\n",
    "    print(merged)\n",
    "#     return long_df\n",
    "    \n",
    "    \n",
    "coin = 'USDT_LTC'\n",
    "log_return(coin)"
   ]
  },
  {
   "cell_type": "markdown",
   "metadata": {
    "collapsed": true
   },
   "source": [
    "## "
   ]
  },
  {
   "cell_type": "code",
   "execution_count": null,
   "metadata": {
    "collapsed": true
   },
   "outputs": [],
   "source": []
  },
  {
   "cell_type": "code",
   "execution_count": null,
   "metadata": {
    "collapsed": true
   },
   "outputs": [],
   "source": []
  }
 ],
 "metadata": {
  "kernelspec": {
   "display_name": "Python 3",
   "language": "python",
   "name": "python3"
  },
  "language_info": {
   "codemirror_mode": {
    "name": "ipython",
    "version": 3
   },
   "file_extension": ".py",
   "mimetype": "text/x-python",
   "name": "python",
   "nbconvert_exporter": "python",
   "pygments_lexer": "ipython3",
   "version": "3.6.3"
  }
 },
 "nbformat": 4,
 "nbformat_minor": 2
}
